{
 "cells": [
  {
   "cell_type": "markdown",
   "metadata": {},
   "source": [
    "# A/B Testing Project"
   ]
  },
  {
   "cell_type": "markdown",
   "metadata": {},
   "source": [
    "### Task: to evaluate an A/B test results launched by a former colleague in the big online store."
   ]
  },
  {
   "cell_type": "markdown",
   "metadata": {},
   "source": [
    "## Table of Contents"
   ]
  },
  {
   "cell_type": "markdown",
   "metadata": {},
   "source": [
    "[Downloading data and general info¶](#step1) <br>\n",
    "[Data preprocessing](#step2) <br> \n",
    "[EDA](#step3) <br> \n",
    "[A/B test results evaluation](#step4) <br>\n",
    "[Conclusion](#conclusion)<br>"
   ]
  },
  {
   "cell_type": "markdown",
   "metadata": {},
   "source": [
    "## Downloading data and general info <a id='step1'></a>"
   ]
  },
  {
   "cell_type": "code",
   "execution_count": 2,
   "metadata": {},
   "outputs": [],
   "source": [
    "import pandas as pd\n",
    "import matplotlib\n",
    "import matplotlib.pyplot as plt\n",
    "import seaborn as sns\n",
    "from scipy import stats as st\n",
    "import numpy as np\n",
    "import math\n",
    "import datetime"
   ]
  },
  {
   "cell_type": "code",
   "execution_count": 3,
   "metadata": {},
   "outputs": [
    {
     "output_type": "stream",
     "name": "stdout",
     "text": [
      "<class 'pandas.core.frame.DataFrame'>\nRangeIndex: 14 entries, 0 to 13\nData columns (total 4 columns):\n #   Column     Non-Null Count  Dtype \n---  ------     --------------  ----- \n 0   name       14 non-null     object\n 1   regions    14 non-null     object\n 2   start_dt   14 non-null     object\n 3   finish_dt  14 non-null     object\ndtypes: object(4)\nmemory usage: 576.0+ bytes\n"
     ]
    }
   ],
   "source": [
    "marketing_events = pd.read_csv('https://code.s3.yandex.net/datasets/ab_project_marketing_events_us.csv')\n",
    "marketing_events.info()"
   ]
  },
  {
   "cell_type": "markdown",
   "metadata": {},
   "source": [
    "name — the name of the marketing event <br>\n",
    "regions — regions where the ad campaign will be held <br>\n",
    "start_dt — campaign start date <br>\n",
    "finish_dt — campaign end date"
   ]
  },
  {
   "cell_type": "code",
   "execution_count": 4,
   "metadata": {},
   "outputs": [
    {
     "output_type": "execute_result",
     "data": {
      "text/plain": [
       "                                name                   regions    start_dt  \\\n",
       "0           Christmas&New Year Promo             EU, N.America  2020-12-25   \n",
       "1       St. Valentine's Day Giveaway  EU, CIS, APAC, N.America  2020-02-14   \n",
       "2             St. Patric's Day Promo             EU, N.America  2020-03-17   \n",
       "3                       Easter Promo  EU, CIS, APAC, N.America  2020-04-12   \n",
       "4                  4th of July Promo                 N.America  2020-07-04   \n",
       "5          Black Friday Ads Campaign  EU, CIS, APAC, N.America  2020-11-26   \n",
       "6             Chinese New Year Promo                      APAC  2020-01-25   \n",
       "7   Labor day (May 1st) Ads Campaign             EU, CIS, APAC  2020-05-01   \n",
       "8    International Women's Day Promo             EU, CIS, APAC  2020-03-08   \n",
       "9    Victory Day CIS (May 9th) Event                       CIS  2020-05-09   \n",
       "10         CIS New Year Gift Lottery                       CIS  2020-12-30   \n",
       "11     Dragon Boat Festival Giveaway                      APAC  2020-06-25   \n",
       "12           Single's Day Gift Promo                      APAC  2020-11-11   \n",
       "13             Chinese Moon Festival                      APAC  2020-10-01   \n",
       "\n",
       "     finish_dt  \n",
       "0   2021-01-03  \n",
       "1   2020-02-16  \n",
       "2   2020-03-19  \n",
       "3   2020-04-19  \n",
       "4   2020-07-11  \n",
       "5   2020-12-01  \n",
       "6   2020-02-07  \n",
       "7   2020-05-03  \n",
       "8   2020-03-10  \n",
       "9   2020-05-11  \n",
       "10  2021-01-07  \n",
       "11  2020-07-01  \n",
       "12  2020-11-12  \n",
       "13  2020-10-07  "
      ],
      "text/html": "<div>\n<style scoped>\n    .dataframe tbody tr th:only-of-type {\n        vertical-align: middle;\n    }\n\n    .dataframe tbody tr th {\n        vertical-align: top;\n    }\n\n    .dataframe thead th {\n        text-align: right;\n    }\n</style>\n<table border=\"1\" class=\"dataframe\">\n  <thead>\n    <tr style=\"text-align: right;\">\n      <th></th>\n      <th>name</th>\n      <th>regions</th>\n      <th>start_dt</th>\n      <th>finish_dt</th>\n    </tr>\n  </thead>\n  <tbody>\n    <tr>\n      <th>0</th>\n      <td>Christmas&amp;New Year Promo</td>\n      <td>EU, N.America</td>\n      <td>2020-12-25</td>\n      <td>2021-01-03</td>\n    </tr>\n    <tr>\n      <th>1</th>\n      <td>St. Valentine's Day Giveaway</td>\n      <td>EU, CIS, APAC, N.America</td>\n      <td>2020-02-14</td>\n      <td>2020-02-16</td>\n    </tr>\n    <tr>\n      <th>2</th>\n      <td>St. Patric's Day Promo</td>\n      <td>EU, N.America</td>\n      <td>2020-03-17</td>\n      <td>2020-03-19</td>\n    </tr>\n    <tr>\n      <th>3</th>\n      <td>Easter Promo</td>\n      <td>EU, CIS, APAC, N.America</td>\n      <td>2020-04-12</td>\n      <td>2020-04-19</td>\n    </tr>\n    <tr>\n      <th>4</th>\n      <td>4th of July Promo</td>\n      <td>N.America</td>\n      <td>2020-07-04</td>\n      <td>2020-07-11</td>\n    </tr>\n    <tr>\n      <th>5</th>\n      <td>Black Friday Ads Campaign</td>\n      <td>EU, CIS, APAC, N.America</td>\n      <td>2020-11-26</td>\n      <td>2020-12-01</td>\n    </tr>\n    <tr>\n      <th>6</th>\n      <td>Chinese New Year Promo</td>\n      <td>APAC</td>\n      <td>2020-01-25</td>\n      <td>2020-02-07</td>\n    </tr>\n    <tr>\n      <th>7</th>\n      <td>Labor day (May 1st) Ads Campaign</td>\n      <td>EU, CIS, APAC</td>\n      <td>2020-05-01</td>\n      <td>2020-05-03</td>\n    </tr>\n    <tr>\n      <th>8</th>\n      <td>International Women's Day Promo</td>\n      <td>EU, CIS, APAC</td>\n      <td>2020-03-08</td>\n      <td>2020-03-10</td>\n    </tr>\n    <tr>\n      <th>9</th>\n      <td>Victory Day CIS (May 9th) Event</td>\n      <td>CIS</td>\n      <td>2020-05-09</td>\n      <td>2020-05-11</td>\n    </tr>\n    <tr>\n      <th>10</th>\n      <td>CIS New Year Gift Lottery</td>\n      <td>CIS</td>\n      <td>2020-12-30</td>\n      <td>2021-01-07</td>\n    </tr>\n    <tr>\n      <th>11</th>\n      <td>Dragon Boat Festival Giveaway</td>\n      <td>APAC</td>\n      <td>2020-06-25</td>\n      <td>2020-07-01</td>\n    </tr>\n    <tr>\n      <th>12</th>\n      <td>Single's Day Gift Promo</td>\n      <td>APAC</td>\n      <td>2020-11-11</td>\n      <td>2020-11-12</td>\n    </tr>\n    <tr>\n      <th>13</th>\n      <td>Chinese Moon Festival</td>\n      <td>APAC</td>\n      <td>2020-10-01</td>\n      <td>2020-10-07</td>\n    </tr>\n  </tbody>\n</table>\n</div>"
     },
     "metadata": {},
     "execution_count": 4
    }
   ],
   "source": [
    "marketing_events"
   ]
  },
  {
   "cell_type": "code",
   "execution_count": 5,
   "metadata": {},
   "outputs": [
    {
     "output_type": "stream",
     "name": "stdout",
     "text": [
      "<class 'pandas.core.frame.DataFrame'>\nRangeIndex: 61733 entries, 0 to 61732\nData columns (total 4 columns):\n #   Column      Non-Null Count  Dtype \n---  ------      --------------  ----- \n 0   user_id     61733 non-null  object\n 1   first_date  61733 non-null  object\n 2   region      61733 non-null  object\n 3   device      61733 non-null  object\ndtypes: object(4)\nmemory usage: 1.9+ MB\n"
     ]
    }
   ],
   "source": [
    "new_users = pd.read_csv('https://code.s3.yandex.net/datasets/final_ab_new_users_us.csv')\n",
    "new_users.info()"
   ]
  },
  {
   "cell_type": "markdown",
   "metadata": {},
   "source": [
    "user_id <br>\n",
    "first_date — sign-up date <br>\n",
    "region <br>\n",
    "device — device used to sign up"
   ]
  },
  {
   "cell_type": "code",
   "execution_count": 6,
   "metadata": {},
   "outputs": [
    {
     "output_type": "execute_result",
     "data": {
      "text/plain": [
       "            user_id  first_date     region   device\n",
       "0  D72A72121175D8BE  2020-12-07         EU       PC\n",
       "1  F1C668619DFE6E65  2020-12-07  N.America  Android\n",
       "2  2E1BF1D4C37EA01F  2020-12-07         EU       PC\n",
       "3  50734A22C0C63768  2020-12-07         EU   iPhone\n",
       "4  E1BDDCE0DAFA2679  2020-12-07  N.America   iPhone"
      ],
      "text/html": "<div>\n<style scoped>\n    .dataframe tbody tr th:only-of-type {\n        vertical-align: middle;\n    }\n\n    .dataframe tbody tr th {\n        vertical-align: top;\n    }\n\n    .dataframe thead th {\n        text-align: right;\n    }\n</style>\n<table border=\"1\" class=\"dataframe\">\n  <thead>\n    <tr style=\"text-align: right;\">\n      <th></th>\n      <th>user_id</th>\n      <th>first_date</th>\n      <th>region</th>\n      <th>device</th>\n    </tr>\n  </thead>\n  <tbody>\n    <tr>\n      <th>0</th>\n      <td>D72A72121175D8BE</td>\n      <td>2020-12-07</td>\n      <td>EU</td>\n      <td>PC</td>\n    </tr>\n    <tr>\n      <th>1</th>\n      <td>F1C668619DFE6E65</td>\n      <td>2020-12-07</td>\n      <td>N.America</td>\n      <td>Android</td>\n    </tr>\n    <tr>\n      <th>2</th>\n      <td>2E1BF1D4C37EA01F</td>\n      <td>2020-12-07</td>\n      <td>EU</td>\n      <td>PC</td>\n    </tr>\n    <tr>\n      <th>3</th>\n      <td>50734A22C0C63768</td>\n      <td>2020-12-07</td>\n      <td>EU</td>\n      <td>iPhone</td>\n    </tr>\n    <tr>\n      <th>4</th>\n      <td>E1BDDCE0DAFA2679</td>\n      <td>2020-12-07</td>\n      <td>N.America</td>\n      <td>iPhone</td>\n    </tr>\n  </tbody>\n</table>\n</div>"
     },
     "metadata": {},
     "execution_count": 6
    }
   ],
   "source": [
    "new_users.head()"
   ]
  },
  {
   "cell_type": "code",
   "execution_count": 7,
   "metadata": {},
   "outputs": [
    {
     "output_type": "stream",
     "name": "stdout",
     "text": [
      "<class 'pandas.core.frame.DataFrame'>\nRangeIndex: 440317 entries, 0 to 440316\nData columns (total 4 columns):\n #   Column      Non-Null Count   Dtype  \n---  ------      --------------   -----  \n 0   user_id     440317 non-null  object \n 1   event_dt    440317 non-null  object \n 2   event_name  440317 non-null  object \n 3   details     62740 non-null   float64\ndtypes: float64(1), object(3)\nmemory usage: 13.4+ MB\n"
     ]
    }
   ],
   "source": [
    "test_events = pd.read_csv('https://code.s3.yandex.net/datasets/final_ab_events_us.csv')\n",
    "test_events.info()"
   ]
  },
  {
   "cell_type": "markdown",
   "metadata": {},
   "source": [
    "user_id <br>\n",
    "event_dt — event date and time <br>\n",
    "event_name — event type name <br>\n",
    "details — additional data on the event (for instance, the order total in USD for purchase events)\n"
   ]
  },
  {
   "cell_type": "code",
   "execution_count": 8,
   "metadata": {},
   "outputs": [
    {
     "output_type": "execute_result",
     "data": {
      "text/plain": [
       "            user_id             event_dt event_name  details\n",
       "0  E1BDDCE0DAFA2679  2020-12-07 20:22:03   purchase    99.99\n",
       "1  7B6452F081F49504  2020-12-07 09:22:53   purchase     9.99\n",
       "2  9CD9F34546DF254C  2020-12-07 12:59:29   purchase     4.99\n",
       "3  96F27A054B191457  2020-12-07 04:02:40   purchase     4.99\n",
       "4  1FD7660FDF94CA1F  2020-12-07 10:15:09   purchase     4.99"
      ],
      "text/html": "<div>\n<style scoped>\n    .dataframe tbody tr th:only-of-type {\n        vertical-align: middle;\n    }\n\n    .dataframe tbody tr th {\n        vertical-align: top;\n    }\n\n    .dataframe thead th {\n        text-align: right;\n    }\n</style>\n<table border=\"1\" class=\"dataframe\">\n  <thead>\n    <tr style=\"text-align: right;\">\n      <th></th>\n      <th>user_id</th>\n      <th>event_dt</th>\n      <th>event_name</th>\n      <th>details</th>\n    </tr>\n  </thead>\n  <tbody>\n    <tr>\n      <th>0</th>\n      <td>E1BDDCE0DAFA2679</td>\n      <td>2020-12-07 20:22:03</td>\n      <td>purchase</td>\n      <td>99.99</td>\n    </tr>\n    <tr>\n      <th>1</th>\n      <td>7B6452F081F49504</td>\n      <td>2020-12-07 09:22:53</td>\n      <td>purchase</td>\n      <td>9.99</td>\n    </tr>\n    <tr>\n      <th>2</th>\n      <td>9CD9F34546DF254C</td>\n      <td>2020-12-07 12:59:29</td>\n      <td>purchase</td>\n      <td>4.99</td>\n    </tr>\n    <tr>\n      <th>3</th>\n      <td>96F27A054B191457</td>\n      <td>2020-12-07 04:02:40</td>\n      <td>purchase</td>\n      <td>4.99</td>\n    </tr>\n    <tr>\n      <th>4</th>\n      <td>1FD7660FDF94CA1F</td>\n      <td>2020-12-07 10:15:09</td>\n      <td>purchase</td>\n      <td>4.99</td>\n    </tr>\n  </tbody>\n</table>\n</div>"
     },
     "metadata": {},
     "execution_count": 8
    }
   ],
   "source": [
    "test_events.head()"
   ]
  },
  {
   "cell_type": "code",
   "execution_count": 9,
   "metadata": {},
   "outputs": [
    {
     "output_type": "stream",
     "name": "stdout",
     "text": [
      "<class 'pandas.core.frame.DataFrame'>\nRangeIndex: 18268 entries, 0 to 18267\nData columns (total 3 columns):\n #   Column   Non-Null Count  Dtype \n---  ------   --------------  ----- \n 0   user_id  18268 non-null  object\n 1   group    18268 non-null  object\n 2   ab_test  18268 non-null  object\ndtypes: object(3)\nmemory usage: 428.3+ KB\n"
     ]
    }
   ],
   "source": [
    "participants = pd.read_csv('https://code.s3.yandex.net/datasets/final_ab_participants_us.csv')\n",
    "participants.info()"
   ]
  },
  {
   "cell_type": "markdown",
   "metadata": {},
   "source": [
    "user_id <br>\n",
    "ab_test — test name <br>\n",
    "group — the test group the user belonged to <br>"
   ]
  },
  {
   "cell_type": "code",
   "execution_count": 10,
   "metadata": {},
   "outputs": [
    {
     "output_type": "execute_result",
     "data": {
      "text/plain": [
       "            user_id group                  ab_test\n",
       "0  D1ABA3E2887B6A73     A  recommender_system_test\n",
       "1  A7A3664BD6242119     A  recommender_system_test\n",
       "2  DABC14FDDFADD29E     A  recommender_system_test\n",
       "3  04988C5DF189632E     A  recommender_system_test\n",
       "4  482F14783456D21B     B  recommender_system_test"
      ],
      "text/html": "<div>\n<style scoped>\n    .dataframe tbody tr th:only-of-type {\n        vertical-align: middle;\n    }\n\n    .dataframe tbody tr th {\n        vertical-align: top;\n    }\n\n    .dataframe thead th {\n        text-align: right;\n    }\n</style>\n<table border=\"1\" class=\"dataframe\">\n  <thead>\n    <tr style=\"text-align: right;\">\n      <th></th>\n      <th>user_id</th>\n      <th>group</th>\n      <th>ab_test</th>\n    </tr>\n  </thead>\n  <tbody>\n    <tr>\n      <th>0</th>\n      <td>D1ABA3E2887B6A73</td>\n      <td>A</td>\n      <td>recommender_system_test</td>\n    </tr>\n    <tr>\n      <th>1</th>\n      <td>A7A3664BD6242119</td>\n      <td>A</td>\n      <td>recommender_system_test</td>\n    </tr>\n    <tr>\n      <th>2</th>\n      <td>DABC14FDDFADD29E</td>\n      <td>A</td>\n      <td>recommender_system_test</td>\n    </tr>\n    <tr>\n      <th>3</th>\n      <td>04988C5DF189632E</td>\n      <td>A</td>\n      <td>recommender_system_test</td>\n    </tr>\n    <tr>\n      <th>4</th>\n      <td>482F14783456D21B</td>\n      <td>B</td>\n      <td>recommender_system_test</td>\n    </tr>\n  </tbody>\n</table>\n</div>"
     },
     "metadata": {},
     "execution_count": 10
    }
   ],
   "source": [
    "participants.head()"
   ]
  },
  {
   "cell_type": "markdown",
   "metadata": {},
   "source": [
    "We have downloaded 4 datasets containing information on the users of the online store. The info is excessive, we will have to filter the relevant data for the task."
   ]
  },
  {
   "cell_type": "markdown",
   "metadata": {},
   "source": [
    "## Data preprocessing <a id='step2'></a>"
   ]
  },
  {
   "cell_type": "markdown",
   "metadata": {},
   "source": [
    "**Do types need to be converted?**"
   ]
  },
  {
   "cell_type": "code",
   "execution_count": 11,
   "metadata": {},
   "outputs": [
    {
     "output_type": "stream",
     "name": "stdout",
     "text": [
      "<class 'pandas.core.frame.DataFrame'>\nRangeIndex: 14 entries, 0 to 13\nData columns (total 4 columns):\n #   Column     Non-Null Count  Dtype         \n---  ------     --------------  -----         \n 0   name       14 non-null     object        \n 1   regions    14 non-null     object        \n 2   start_dt   14 non-null     datetime64[ns]\n 3   finish_dt  14 non-null     datetime64[ns]\ndtypes: datetime64[ns](2), object(2)\nmemory usage: 576.0+ bytes\n"
     ]
    }
   ],
   "source": [
    "marketing_events = pd.read_csv('https://code.s3.yandex.net/datasets/ab_project_marketing_events_us.csv', parse_dates=['start_dt', 'finish_dt'])\n",
    "marketing_events.info()"
   ]
  },
  {
   "cell_type": "code",
   "execution_count": 12,
   "metadata": {},
   "outputs": [
    {
     "output_type": "stream",
     "name": "stdout",
     "text": [
      "<class 'pandas.core.frame.DataFrame'>\nRangeIndex: 61733 entries, 0 to 61732\nData columns (total 4 columns):\n #   Column      Non-Null Count  Dtype         \n---  ------      --------------  -----         \n 0   user_id     61733 non-null  object        \n 1   first_date  61733 non-null  datetime64[ns]\n 2   region      61733 non-null  category      \n 3   device      61733 non-null  category      \ndtypes: category(2), datetime64[ns](1), object(1)\nmemory usage: 1.1+ MB\n"
     ]
    }
   ],
   "source": [
    "new_users = pd.read_csv('https://code.s3.yandex.net/datasets/final_ab_new_users_us.csv', dtype={'device': 'category', 'region': 'category'},\n",
    "                  parse_dates=['first_date'])\n",
    "new_users.info()"
   ]
  },
  {
   "cell_type": "code",
   "execution_count": 13,
   "metadata": {},
   "outputs": [
    {
     "output_type": "stream",
     "name": "stdout",
     "text": [
      "<class 'pandas.core.frame.DataFrame'>\nRangeIndex: 440317 entries, 0 to 440316\nData columns (total 4 columns):\n #   Column      Non-Null Count   Dtype         \n---  ------      --------------   -----         \n 0   user_id     440317 non-null  object        \n 1   event_dt    440317 non-null  datetime64[ns]\n 2   event_name  440317 non-null  category      \n 3   details     62740 non-null   float64       \ndtypes: category(1), datetime64[ns](1), float64(1), object(1)\nmemory usage: 10.5+ MB\n"
     ]
    }
   ],
   "source": [
    "test_events = pd.read_csv('https://code.s3.yandex.net/datasets/final_ab_events_us.csv', dtype={'event_name': 'category'}, parse_dates=['event_dt'])\n",
    "test_events.info()"
   ]
  },
  {
   "cell_type": "code",
   "execution_count": 14,
   "metadata": {},
   "outputs": [
    {
     "output_type": "stream",
     "name": "stdout",
     "text": [
      "<class 'pandas.core.frame.DataFrame'>\nRangeIndex: 18268 entries, 0 to 18267\nData columns (total 3 columns):\n #   Column   Non-Null Count  Dtype   \n---  ------   --------------  -----   \n 0   user_id  18268 non-null  object  \n 1   group    18268 non-null  object  \n 2   ab_test  18268 non-null  category\ndtypes: category(1), object(2)\nmemory usage: 303.5+ KB\n"
     ]
    }
   ],
   "source": [
    "participants = pd.read_csv('https://code.s3.yandex.net/datasets/final_ab_participants_us.csv', dtype={'ab_test': 'category'})\n",
    "participants.info()"
   ]
  },
  {
   "cell_type": "markdown",
   "metadata": {},
   "source": [
    "All the tables were downloaded again parsing date columns and converting data to the category type where possible."
   ]
  },
  {
   "cell_type": "markdown",
   "metadata": {},
   "source": [
    "**Are there any missing or duplicate values? If so, how would you characterize them?**"
   ]
  },
  {
   "cell_type": "code",
   "execution_count": 15,
   "metadata": {},
   "outputs": [
    {
     "output_type": "execute_result",
     "data": {
      "text/plain": [
       "True     377577\n",
       "False     62740\n",
       "Name: details, dtype: int64"
      ]
     },
     "metadata": {},
     "execution_count": 15
    }
   ],
   "source": [
    "test_events['details'].isna().value_counts()"
   ]
  },
  {
   "cell_type": "code",
   "execution_count": 16,
   "metadata": {},
   "outputs": [
    {
     "output_type": "execute_result",
     "data": {
      "text/plain": [
       "4.99      46362\n",
       "9.99       9530\n",
       "99.99      5631\n",
       "499.99     1217\n",
       "Name: details, dtype: int64"
      ]
     },
     "metadata": {},
     "execution_count": 16
    }
   ],
   "source": [
    "test_events['details'].value_counts()"
   ]
  },
  {
   "cell_type": "code",
   "execution_count": 17,
   "metadata": {},
   "outputs": [
    {
     "output_type": "execute_result",
     "data": {
      "text/plain": [
       "login           189552\n",
       "product_page    125563\n",
       "purchase         62740\n",
       "product_cart     62462\n",
       "Name: event_name, dtype: int64"
      ]
     },
     "metadata": {},
     "execution_count": 17
    }
   ],
   "source": [
    "test_events['event_name'].value_counts()"
   ]
  },
  {
   "cell_type": "code",
   "execution_count": 18,
   "metadata": {},
   "outputs": [
    {
     "output_type": "execute_result",
     "data": {
      "text/plain": [
       "False    62740\n",
       "Name: details, dtype: int64"
      ]
     },
     "metadata": {},
     "execution_count": 18
    }
   ],
   "source": [
    "purchases = test_events[test_events['event_name'] == 'purchase']\n",
    "purchases['details'].isna().value_counts()"
   ]
  },
  {
   "cell_type": "markdown",
   "metadata": {},
   "source": [
    "Test events table has a lot of missing values in the details column. Actually the only event type that got the details is the \"purchase\" - the amount of $ spent."
   ]
  },
  {
   "cell_type": "code",
   "execution_count": 19,
   "metadata": {},
   "outputs": [
    {
     "output_type": "execute_result",
     "data": {
      "text/plain": [
       "False    61733\n",
       "dtype: int64"
      ]
     },
     "metadata": {},
     "execution_count": 19
    }
   ],
   "source": [
    "new_users.duplicated().value_counts()"
   ]
  },
  {
   "cell_type": "code",
   "execution_count": 20,
   "metadata": {},
   "outputs": [
    {
     "output_type": "execute_result",
     "data": {
      "text/plain": [
       "False    440317\n",
       "dtype: int64"
      ]
     },
     "metadata": {},
     "execution_count": 20
    }
   ],
   "source": [
    "test_events.duplicated().value_counts()"
   ]
  },
  {
   "cell_type": "code",
   "execution_count": 21,
   "metadata": {},
   "outputs": [
    {
     "output_type": "execute_result",
     "data": {
      "text/plain": [
       "False    18268\n",
       "dtype: int64"
      ]
     },
     "metadata": {},
     "execution_count": 21
    }
   ],
   "source": [
    "participants.duplicated().value_counts()"
   ]
  },
  {
   "cell_type": "markdown",
   "metadata": {},
   "source": [
    "No duplicates found."
   ]
  },
  {
   "cell_type": "markdown",
   "metadata": {},
   "source": [
    "## EDA <a id='step3'></a>"
   ]
  },
  {
   "cell_type": "code",
   "execution_count": 22,
   "metadata": {},
   "outputs": [
    {
     "output_type": "execute_result",
     "data": {
      "text/plain": [
       "61733"
      ]
     },
     "metadata": {},
     "execution_count": 22
    }
   ],
   "source": [
    "new_users['user_id'].nunique()"
   ]
  },
  {
   "cell_type": "code",
   "execution_count": 23,
   "metadata": {},
   "outputs": [
    {
     "output_type": "execute_result",
     "data": {
      "text/plain": [
       "58703"
      ]
     },
     "metadata": {},
     "execution_count": 23
    }
   ],
   "source": [
    "test_events['user_id'].nunique()"
   ]
  },
  {
   "cell_type": "code",
   "execution_count": 24,
   "metadata": {},
   "outputs": [
    {
     "output_type": "stream",
     "name": "stdout",
     "text": [
      "95.09%\n"
     ]
    }
   ],
   "source": [
    "active_users = test_events['user_id'].nunique() / new_users['user_id'].nunique() \n",
    "print(\"{0:.2%}\".format(active_users))"
   ]
  },
  {
   "cell_type": "markdown",
   "metadata": {},
   "source": [
    "And we've got almost 5% of users who registered but didn't perform any actions."
   ]
  },
  {
   "cell_type": "markdown",
   "metadata": {},
   "source": [
    "**Merging tables:**"
   ]
  },
  {
   "cell_type": "code",
   "execution_count": 25,
   "metadata": {},
   "outputs": [
    {
     "output_type": "stream",
     "name": "stdout",
     "text": [
      "<class 'pandas.core.frame.DataFrame'>\nInt64Index: 106625 entries, 0 to 106624\nData columns (total 9 columns):\n #   Column      Non-Null Count   Dtype         \n---  ------      --------------   -----         \n 0   user_id     106625 non-null  object        \n 1   event_dt    106625 non-null  datetime64[ns]\n 2   event_name  106625 non-null  category      \n 3   details     15416 non-null   float64       \n 4   group       106625 non-null  object        \n 5   ab_test     106625 non-null  category      \n 6   first_date  106625 non-null  datetime64[ns]\n 7   region      106625 non-null  category      \n 8   device      106625 non-null  category      \ndtypes: category(4), datetime64[ns](2), float64(1), object(2)\nmemory usage: 5.3+ MB\n"
     ]
    }
   ],
   "source": [
    "test_users = test_events.merge(participants,on='user_id').merge(new_users, on='user_id')\n",
    "test_users.info()"
   ]
  },
  {
   "cell_type": "code",
   "execution_count": 26,
   "metadata": {},
   "outputs": [
    {
     "output_type": "execute_result",
     "data": {
      "text/plain": [
       "False    106625\n",
       "dtype: int64"
      ]
     },
     "metadata": {},
     "execution_count": 26
    }
   ],
   "source": [
    "test_users.duplicated().value_counts()"
   ]
  },
  {
   "cell_type": "markdown",
   "metadata": {},
   "source": [
    "**Selecting relevant test only:**"
   ]
  },
  {
   "cell_type": "code",
   "execution_count": 27,
   "metadata": {},
   "outputs": [
    {
     "output_type": "stream",
     "name": "stdout",
     "text": [
      "<class 'pandas.core.frame.DataFrame'>\nInt64Index: 81927 entries, 0 to 106624\nData columns (total 9 columns):\n #   Column      Non-Null Count  Dtype         \n---  ------      --------------  -----         \n 0   user_id     81927 non-null  object        \n 1   event_dt    81927 non-null  datetime64[ns]\n 2   event_name  81927 non-null  category      \n 3   details     12085 non-null  float64       \n 4   group       81927 non-null  object        \n 5   ab_test     81927 non-null  category      \n 6   first_date  81927 non-null  datetime64[ns]\n 7   region      81927 non-null  category      \n 8   device      81927 non-null  category      \ndtypes: category(4), datetime64[ns](2), float64(1), object(2)\nmemory usage: 4.1+ MB\n"
     ]
    }
   ],
   "source": [
    "test_users = test_users[test_users['ab_test'] == \"interface_eu_test\"]\n",
    "test_users.info()"
   ]
  },
  {
   "cell_type": "markdown",
   "metadata": {},
   "source": [
    "**Study conversion at different stages of the funnel.**"
   ]
  },
  {
   "cell_type": "code",
   "execution_count": 28,
   "metadata": {},
   "outputs": [
    {
     "output_type": "execute_result",
     "data": {
      "text/plain": [
       "                 date  event_name\n",
       "0   December 07, 2020        2068\n",
       "1   December 08, 2020        2311\n",
       "2   December 09, 2020        2333\n",
       "3   December 10, 2020        2551\n",
       "4   December 11, 2020        2603\n",
       "5   December 12, 2020        3482\n",
       "6   December 13, 2020        3974\n",
       "7   December 14, 2020        4783\n",
       "8   December 15, 2020        4333\n",
       "9   December 16, 2020        4016\n",
       "10  December 17, 2020        4115\n",
       "11  December 18, 2020        4219\n",
       "12  December 19, 2020        4360\n",
       "13  December 20, 2020        4828\n",
       "14  December 21, 2020        6070\n",
       "15  December 22, 2020        5352\n",
       "16  December 23, 2020        4907\n",
       "17  December 24, 2020        3690\n",
       "18  December 25, 2020        2998\n",
       "19  December 26, 2020        2633\n",
       "20  December 27, 2020        2396\n",
       "21  December 28, 2020        2116\n",
       "22  December 29, 2020        1773\n",
       "23  December 30, 2020          16"
      ],
      "text/html": "<div>\n<style scoped>\n    .dataframe tbody tr th:only-of-type {\n        vertical-align: middle;\n    }\n\n    .dataframe tbody tr th {\n        vertical-align: top;\n    }\n\n    .dataframe thead th {\n        text-align: right;\n    }\n</style>\n<table border=\"1\" class=\"dataframe\">\n  <thead>\n    <tr style=\"text-align: right;\">\n      <th></th>\n      <th>date</th>\n      <th>event_name</th>\n    </tr>\n  </thead>\n  <tbody>\n    <tr>\n      <th>0</th>\n      <td>December 07, 2020</td>\n      <td>2068</td>\n    </tr>\n    <tr>\n      <th>1</th>\n      <td>December 08, 2020</td>\n      <td>2311</td>\n    </tr>\n    <tr>\n      <th>2</th>\n      <td>December 09, 2020</td>\n      <td>2333</td>\n    </tr>\n    <tr>\n      <th>3</th>\n      <td>December 10, 2020</td>\n      <td>2551</td>\n    </tr>\n    <tr>\n      <th>4</th>\n      <td>December 11, 2020</td>\n      <td>2603</td>\n    </tr>\n    <tr>\n      <th>5</th>\n      <td>December 12, 2020</td>\n      <td>3482</td>\n    </tr>\n    <tr>\n      <th>6</th>\n      <td>December 13, 2020</td>\n      <td>3974</td>\n    </tr>\n    <tr>\n      <th>7</th>\n      <td>December 14, 2020</td>\n      <td>4783</td>\n    </tr>\n    <tr>\n      <th>8</th>\n      <td>December 15, 2020</td>\n      <td>4333</td>\n    </tr>\n    <tr>\n      <th>9</th>\n      <td>December 16, 2020</td>\n      <td>4016</td>\n    </tr>\n    <tr>\n      <th>10</th>\n      <td>December 17, 2020</td>\n      <td>4115</td>\n    </tr>\n    <tr>\n      <th>11</th>\n      <td>December 18, 2020</td>\n      <td>4219</td>\n    </tr>\n    <tr>\n      <th>12</th>\n      <td>December 19, 2020</td>\n      <td>4360</td>\n    </tr>\n    <tr>\n      <th>13</th>\n      <td>December 20, 2020</td>\n      <td>4828</td>\n    </tr>\n    <tr>\n      <th>14</th>\n      <td>December 21, 2020</td>\n      <td>6070</td>\n    </tr>\n    <tr>\n      <th>15</th>\n      <td>December 22, 2020</td>\n      <td>5352</td>\n    </tr>\n    <tr>\n      <th>16</th>\n      <td>December 23, 2020</td>\n      <td>4907</td>\n    </tr>\n    <tr>\n      <th>17</th>\n      <td>December 24, 2020</td>\n      <td>3690</td>\n    </tr>\n    <tr>\n      <th>18</th>\n      <td>December 25, 2020</td>\n      <td>2998</td>\n    </tr>\n    <tr>\n      <th>19</th>\n      <td>December 26, 2020</td>\n      <td>2633</td>\n    </tr>\n    <tr>\n      <th>20</th>\n      <td>December 27, 2020</td>\n      <td>2396</td>\n    </tr>\n    <tr>\n      <th>21</th>\n      <td>December 28, 2020</td>\n      <td>2116</td>\n    </tr>\n    <tr>\n      <th>22</th>\n      <td>December 29, 2020</td>\n      <td>1773</td>\n    </tr>\n    <tr>\n      <th>23</th>\n      <td>December 30, 2020</td>\n      <td>16</td>\n    </tr>\n  </tbody>\n</table>\n</div>"
     },
     "metadata": {},
     "execution_count": 28
    }
   ],
   "source": [
    "test_users['date'] = test_users['event_dt'].dt.floor('D')\n",
    "events_by_date = test_users.groupby(['date']).agg({'event_name': 'count'}).reset_index()\n",
    "events_by_date['date'] = events_by_date['date'].dt.strftime('%B %d, %Y')\n",
    "events_by_date"
   ]
  },
  {
   "cell_type": "markdown",
   "metadata": {},
   "source": [
    "The last day  - 30th of December can not be considered relevant - it has too few events."
   ]
  },
  {
   "cell_type": "code",
   "execution_count": 29,
   "metadata": {},
   "outputs": [],
   "source": [
    "test_users_filtered = test_users.query('date <= \"2020-12-29\"')"
   ]
  },
  {
   "cell_type": "code",
   "execution_count": 30,
   "metadata": {},
   "outputs": [
    {
     "output_type": "execute_result",
     "data": {
      "text/plain": [
       "<pandas.io.formats.style.Styler at 0x7fdc372c5090>"
      ],
      "text/html": "<style  type=\"text/css\" >\n</style><table id=\"T_a89ddd5c_49fd_11eb_b0a8_6c40089c3fc2\" ><thead>    <tr>        <th class=\"blank level0\" ></th>        <th class=\"col_heading level0 col0\" >event_name</th>        <th class=\"col_heading level0 col1\" >n_users</th>        <th class=\"col_heading level0 col2\" >n_unique_users</th>    </tr></thead><tbody>\n                <tr>\n                        <th id=\"T_a89ddd5c_49fd_11eb_b0a8_6c40089c3fc2level0_row0\" class=\"row_heading level0 row0\" >3</th>\n                        <td id=\"T_a89ddd5c_49fd_11eb_b0a8_6c40089c3fc2row0_col0\" class=\"data row0 col0\" >login</td>\n                        <td id=\"T_a89ddd5c_49fd_11eb_b0a8_6c40089c3fc2row0_col1\" class=\"data row0 col1\" >35139</td>\n                        <td id=\"T_a89ddd5c_49fd_11eb_b0a8_6c40089c3fc2row0_col2\" class=\"data row0 col2\" >10849</td>\n            </tr>\n            <tr>\n                        <th id=\"T_a89ddd5c_49fd_11eb_b0a8_6c40089c3fc2level0_row1\" class=\"row_heading level0 row1\" >1</th>\n                        <td id=\"T_a89ddd5c_49fd_11eb_b0a8_6c40089c3fc2row1_col0\" class=\"data row1 col0\" >product_page</td>\n                        <td id=\"T_a89ddd5c_49fd_11eb_b0a8_6c40089c3fc2row1_col1\" class=\"data row1 col1\" >23091</td>\n                        <td id=\"T_a89ddd5c_49fd_11eb_b0a8_6c40089c3fc2row1_col2\" class=\"data row1 col2\" >7166</td>\n            </tr>\n            <tr>\n                        <th id=\"T_a89ddd5c_49fd_11eb_b0a8_6c40089c3fc2level0_row2\" class=\"row_heading level0 row2\" >2</th>\n                        <td id=\"T_a89ddd5c_49fd_11eb_b0a8_6c40089c3fc2row2_col0\" class=\"data row2 col0\" >purchase</td>\n                        <td id=\"T_a89ddd5c_49fd_11eb_b0a8_6c40089c3fc2row2_col1\" class=\"data row2 col1\" >12082</td>\n                        <td id=\"T_a89ddd5c_49fd_11eb_b0a8_6c40089c3fc2row2_col2\" class=\"data row2 col2\" >3713</td>\n            </tr>\n            <tr>\n                        <th id=\"T_a89ddd5c_49fd_11eb_b0a8_6c40089c3fc2level0_row3\" class=\"row_heading level0 row3\" >0</th>\n                        <td id=\"T_a89ddd5c_49fd_11eb_b0a8_6c40089c3fc2row3_col0\" class=\"data row3 col0\" >product_cart</td>\n                        <td id=\"T_a89ddd5c_49fd_11eb_b0a8_6c40089c3fc2row3_col1\" class=\"data row3 col1\" >11599</td>\n                        <td id=\"T_a89ddd5c_49fd_11eb_b0a8_6c40089c3fc2row3_col2\" class=\"data row3 col2\" >3568</td>\n            </tr>\n    </tbody></table>"
     },
     "metadata": {},
     "execution_count": 30
    }
   ],
   "source": [
    "users_per_event = test_users_filtered.groupby(['event_name']).agg({'user_id': ['count', 'nunique']}).reset_index()\n",
    "users_per_event.columns = ['event_name', 'n_users', 'n_unique_users']\n",
    "#users_per_event['at_least_one_time'] = users_per_event['n_unique_users'] / data_filtered['device_id'].nunique()\n",
    "users_per_event = users_per_event.sort_values(by='n_users', ascending=False)\n",
    "users_per_event.style.format({\n",
    "    'n_users': '{:.0f}'.format,\n",
    "    'n_unique_users': '{:.0f}'.format\n",
    "})"
   ]
  },
  {
   "cell_type": "markdown",
   "metadata": {},
   "source": [
    "The fact that there more purchases than product_carts can be explained by the existence of the quick purchase button - excluding putting an item to the cart."
   ]
  },
  {
   "cell_type": "code",
   "execution_count": 31,
   "metadata": {},
   "outputs": [
    {
     "output_type": "execute_result",
     "data": {
      "text/plain": [
       "10850"
      ]
     },
     "metadata": {},
     "execution_count": 31
    }
   ],
   "source": [
    "unique_users = test_users_filtered['user_id'].nunique()\n",
    "unique_users"
   ]
  },
  {
   "cell_type": "code",
   "execution_count": 32,
   "metadata": {},
   "outputs": [],
   "source": [
    "n_login = users_per_event['n_unique_users'][3]\n",
    "n_product_page = users_per_event['n_unique_users'][1]\n",
    "n_purchase = users_per_event['n_unique_users'][2]\n",
    "n_product_cart = users_per_event['n_unique_users'][0]"
   ]
  },
  {
   "cell_type": "markdown",
   "metadata": {},
   "source": [
    "**Calculation of the total conversion:**"
   ]
  },
  {
   "cell_type": "code",
   "execution_count": 33,
   "metadata": {},
   "outputs": [
    {
     "output_type": "stream",
     "name": "stdout",
     "text": [
      "Login total conversion 99.99%\nProduct page total conversion 66.05%\nPurchase total conversion 34.22%\nCart total conversion 32.88%\n"
     ]
    }
   ],
   "source": [
    "conversion_login = n_login/ unique_users\n",
    "conversion_product_page = n_product_page / unique_users \n",
    "conversion_purchase = n_purchase / unique_users \n",
    "conversion_cart = n_product_cart / unique_users \n",
    "print(\"Login total conversion\", \"{0:.2%}\".format(conversion_login))\n",
    "print(\"Product page total conversion\", \"{0:.2%}\".format(conversion_product_page))\n",
    "print(\"Purchase total conversion\", \"{0:.2%}\".format(conversion_purchase))\n",
    "print(\"Cart total conversion\", \"{0:.2%}\".format(conversion_cart))"
   ]
  },
  {
   "cell_type": "markdown",
   "metadata": {},
   "source": [
    "**Building the funnel:**"
   ]
  },
  {
   "cell_type": "code",
   "execution_count": 34,
   "metadata": {},
   "outputs": [
    {
     "output_type": "display_data",
     "data": {
      "application/vnd.plotly.v1+json": {
       "config": {
        "plotlyServerURL": "https://plot.ly"
       },
       "data": [
        {
         "connector": {
          "line": {
           "color": "royalblue",
           "dash": "dot",
           "width": 3
          }
         },
         "marker": {
          "color": [
           "deepskyblue",
           "lightsalmon",
           "tan",
           "teal"
          ],
          "line": {
           "color": [
            "wheat",
            "wheat",
            "blue",
            "wheat",
            "wheat"
           ],
           "width": [
            4,
            2,
            2,
            3,
            1,
            1
           ]
          }
         },
         "opacity": 0.65,
         "textinfo": "value+percent initial",
         "textposition": "inside",
         "type": "funnel",
         "x": [
          10849,
          7166,
          3568,
          3713
         ],
         "y": [
          "Made log in",
          "Saw product page",
          "Added a product to cart",
          "Paid"
         ]
        }
       ],
       "layout": {
        "template": {
         "data": {
          "bar": [
           {
            "error_x": {
             "color": "#2a3f5f"
            },
            "error_y": {
             "color": "#2a3f5f"
            },
            "marker": {
             "line": {
              "color": "#E5ECF6",
              "width": 0.5
             }
            },
            "type": "bar"
           }
          ],
          "barpolar": [
           {
            "marker": {
             "line": {
              "color": "#E5ECF6",
              "width": 0.5
             }
            },
            "type": "barpolar"
           }
          ],
          "carpet": [
           {
            "aaxis": {
             "endlinecolor": "#2a3f5f",
             "gridcolor": "white",
             "linecolor": "white",
             "minorgridcolor": "white",
             "startlinecolor": "#2a3f5f"
            },
            "baxis": {
             "endlinecolor": "#2a3f5f",
             "gridcolor": "white",
             "linecolor": "white",
             "minorgridcolor": "white",
             "startlinecolor": "#2a3f5f"
            },
            "type": "carpet"
           }
          ],
          "choropleth": [
           {
            "colorbar": {
             "outlinewidth": 0,
             "ticks": ""
            },
            "type": "choropleth"
           }
          ],
          "contour": [
           {
            "colorbar": {
             "outlinewidth": 0,
             "ticks": ""
            },
            "colorscale": [
             [
              0,
              "#0d0887"
             ],
             [
              0.1111111111111111,
              "#46039f"
             ],
             [
              0.2222222222222222,
              "#7201a8"
             ],
             [
              0.3333333333333333,
              "#9c179e"
             ],
             [
              0.4444444444444444,
              "#bd3786"
             ],
             [
              0.5555555555555556,
              "#d8576b"
             ],
             [
              0.6666666666666666,
              "#ed7953"
             ],
             [
              0.7777777777777778,
              "#fb9f3a"
             ],
             [
              0.8888888888888888,
              "#fdca26"
             ],
             [
              1,
              "#f0f921"
             ]
            ],
            "type": "contour"
           }
          ],
          "contourcarpet": [
           {
            "colorbar": {
             "outlinewidth": 0,
             "ticks": ""
            },
            "type": "contourcarpet"
           }
          ],
          "heatmap": [
           {
            "colorbar": {
             "outlinewidth": 0,
             "ticks": ""
            },
            "colorscale": [
             [
              0,
              "#0d0887"
             ],
             [
              0.1111111111111111,
              "#46039f"
             ],
             [
              0.2222222222222222,
              "#7201a8"
             ],
             [
              0.3333333333333333,
              "#9c179e"
             ],
             [
              0.4444444444444444,
              "#bd3786"
             ],
             [
              0.5555555555555556,
              "#d8576b"
             ],
             [
              0.6666666666666666,
              "#ed7953"
             ],
             [
              0.7777777777777778,
              "#fb9f3a"
             ],
             [
              0.8888888888888888,
              "#fdca26"
             ],
             [
              1,
              "#f0f921"
             ]
            ],
            "type": "heatmap"
           }
          ],
          "heatmapgl": [
           {
            "colorbar": {
             "outlinewidth": 0,
             "ticks": ""
            },
            "colorscale": [
             [
              0,
              "#0d0887"
             ],
             [
              0.1111111111111111,
              "#46039f"
             ],
             [
              0.2222222222222222,
              "#7201a8"
             ],
             [
              0.3333333333333333,
              "#9c179e"
             ],
             [
              0.4444444444444444,
              "#bd3786"
             ],
             [
              0.5555555555555556,
              "#d8576b"
             ],
             [
              0.6666666666666666,
              "#ed7953"
             ],
             [
              0.7777777777777778,
              "#fb9f3a"
             ],
             [
              0.8888888888888888,
              "#fdca26"
             ],
             [
              1,
              "#f0f921"
             ]
            ],
            "type": "heatmapgl"
           }
          ],
          "histogram": [
           {
            "marker": {
             "colorbar": {
              "outlinewidth": 0,
              "ticks": ""
             }
            },
            "type": "histogram"
           }
          ],
          "histogram2d": [
           {
            "colorbar": {
             "outlinewidth": 0,
             "ticks": ""
            },
            "colorscale": [
             [
              0,
              "#0d0887"
             ],
             [
              0.1111111111111111,
              "#46039f"
             ],
             [
              0.2222222222222222,
              "#7201a8"
             ],
             [
              0.3333333333333333,
              "#9c179e"
             ],
             [
              0.4444444444444444,
              "#bd3786"
             ],
             [
              0.5555555555555556,
              "#d8576b"
             ],
             [
              0.6666666666666666,
              "#ed7953"
             ],
             [
              0.7777777777777778,
              "#fb9f3a"
             ],
             [
              0.8888888888888888,
              "#fdca26"
             ],
             [
              1,
              "#f0f921"
             ]
            ],
            "type": "histogram2d"
           }
          ],
          "histogram2dcontour": [
           {
            "colorbar": {
             "outlinewidth": 0,
             "ticks": ""
            },
            "colorscale": [
             [
              0,
              "#0d0887"
             ],
             [
              0.1111111111111111,
              "#46039f"
             ],
             [
              0.2222222222222222,
              "#7201a8"
             ],
             [
              0.3333333333333333,
              "#9c179e"
             ],
             [
              0.4444444444444444,
              "#bd3786"
             ],
             [
              0.5555555555555556,
              "#d8576b"
             ],
             [
              0.6666666666666666,
              "#ed7953"
             ],
             [
              0.7777777777777778,
              "#fb9f3a"
             ],
             [
              0.8888888888888888,
              "#fdca26"
             ],
             [
              1,
              "#f0f921"
             ]
            ],
            "type": "histogram2dcontour"
           }
          ],
          "mesh3d": [
           {
            "colorbar": {
             "outlinewidth": 0,
             "ticks": ""
            },
            "type": "mesh3d"
           }
          ],
          "parcoords": [
           {
            "line": {
             "colorbar": {
              "outlinewidth": 0,
              "ticks": ""
             }
            },
            "type": "parcoords"
           }
          ],
          "pie": [
           {
            "automargin": true,
            "type": "pie"
           }
          ],
          "scatter": [
           {
            "marker": {
             "colorbar": {
              "outlinewidth": 0,
              "ticks": ""
             }
            },
            "type": "scatter"
           }
          ],
          "scatter3d": [
           {
            "line": {
             "colorbar": {
              "outlinewidth": 0,
              "ticks": ""
             }
            },
            "marker": {
             "colorbar": {
              "outlinewidth": 0,
              "ticks": ""
             }
            },
            "type": "scatter3d"
           }
          ],
          "scattercarpet": [
           {
            "marker": {
             "colorbar": {
              "outlinewidth": 0,
              "ticks": ""
             }
            },
            "type": "scattercarpet"
           }
          ],
          "scattergeo": [
           {
            "marker": {
             "colorbar": {
              "outlinewidth": 0,
              "ticks": ""
             }
            },
            "type": "scattergeo"
           }
          ],
          "scattergl": [
           {
            "marker": {
             "colorbar": {
              "outlinewidth": 0,
              "ticks": ""
             }
            },
            "type": "scattergl"
           }
          ],
          "scattermapbox": [
           {
            "marker": {
             "colorbar": {
              "outlinewidth": 0,
              "ticks": ""
             }
            },
            "type": "scattermapbox"
           }
          ],
          "scatterpolar": [
           {
            "marker": {
             "colorbar": {
              "outlinewidth": 0,
              "ticks": ""
             }
            },
            "type": "scatterpolar"
           }
          ],
          "scatterpolargl": [
           {
            "marker": {
             "colorbar": {
              "outlinewidth": 0,
              "ticks": ""
             }
            },
            "type": "scatterpolargl"
           }
          ],
          "scatterternary": [
           {
            "marker": {
             "colorbar": {
              "outlinewidth": 0,
              "ticks": ""
             }
            },
            "type": "scatterternary"
           }
          ],
          "surface": [
           {
            "colorbar": {
             "outlinewidth": 0,
             "ticks": ""
            },
            "colorscale": [
             [
              0,
              "#0d0887"
             ],
             [
              0.1111111111111111,
              "#46039f"
             ],
             [
              0.2222222222222222,
              "#7201a8"
             ],
             [
              0.3333333333333333,
              "#9c179e"
             ],
             [
              0.4444444444444444,
              "#bd3786"
             ],
             [
              0.5555555555555556,
              "#d8576b"
             ],
             [
              0.6666666666666666,
              "#ed7953"
             ],
             [
              0.7777777777777778,
              "#fb9f3a"
             ],
             [
              0.8888888888888888,
              "#fdca26"
             ],
             [
              1,
              "#f0f921"
             ]
            ],
            "type": "surface"
           }
          ],
          "table": [
           {
            "cells": {
             "fill": {
              "color": "#EBF0F8"
             },
             "line": {
              "color": "white"
             }
            },
            "header": {
             "fill": {
              "color": "#C8D4E3"
             },
             "line": {
              "color": "white"
             }
            },
            "type": "table"
           }
          ]
         },
         "layout": {
          "annotationdefaults": {
           "arrowcolor": "#2a3f5f",
           "arrowhead": 0,
           "arrowwidth": 1
          },
          "coloraxis": {
           "colorbar": {
            "outlinewidth": 0,
            "ticks": ""
           }
          },
          "colorscale": {
           "diverging": [
            [
             0,
             "#8e0152"
            ],
            [
             0.1,
             "#c51b7d"
            ],
            [
             0.2,
             "#de77ae"
            ],
            [
             0.3,
             "#f1b6da"
            ],
            [
             0.4,
             "#fde0ef"
            ],
            [
             0.5,
             "#f7f7f7"
            ],
            [
             0.6,
             "#e6f5d0"
            ],
            [
             0.7,
             "#b8e186"
            ],
            [
             0.8,
             "#7fbc41"
            ],
            [
             0.9,
             "#4d9221"
            ],
            [
             1,
             "#276419"
            ]
           ],
           "sequential": [
            [
             0,
             "#0d0887"
            ],
            [
             0.1111111111111111,
             "#46039f"
            ],
            [
             0.2222222222222222,
             "#7201a8"
            ],
            [
             0.3333333333333333,
             "#9c179e"
            ],
            [
             0.4444444444444444,
             "#bd3786"
            ],
            [
             0.5555555555555556,
             "#d8576b"
            ],
            [
             0.6666666666666666,
             "#ed7953"
            ],
            [
             0.7777777777777778,
             "#fb9f3a"
            ],
            [
             0.8888888888888888,
             "#fdca26"
            ],
            [
             1,
             "#f0f921"
            ]
           ],
           "sequentialminus": [
            [
             0,
             "#0d0887"
            ],
            [
             0.1111111111111111,
             "#46039f"
            ],
            [
             0.2222222222222222,
             "#7201a8"
            ],
            [
             0.3333333333333333,
             "#9c179e"
            ],
            [
             0.4444444444444444,
             "#bd3786"
            ],
            [
             0.5555555555555556,
             "#d8576b"
            ],
            [
             0.6666666666666666,
             "#ed7953"
            ],
            [
             0.7777777777777778,
             "#fb9f3a"
            ],
            [
             0.8888888888888888,
             "#fdca26"
            ],
            [
             1,
             "#f0f921"
            ]
           ]
          },
          "colorway": [
           "#636efa",
           "#EF553B",
           "#00cc96",
           "#ab63fa",
           "#FFA15A",
           "#19d3f3",
           "#FF6692",
           "#B6E880",
           "#FF97FF",
           "#FECB52"
          ],
          "font": {
           "color": "#2a3f5f"
          },
          "geo": {
           "bgcolor": "white",
           "lakecolor": "white",
           "landcolor": "#E5ECF6",
           "showlakes": true,
           "showland": true,
           "subunitcolor": "white"
          },
          "hoverlabel": {
           "align": "left"
          },
          "hovermode": "closest",
          "mapbox": {
           "style": "light"
          },
          "paper_bgcolor": "white",
          "plot_bgcolor": "#E5ECF6",
          "polar": {
           "angularaxis": {
            "gridcolor": "white",
            "linecolor": "white",
            "ticks": ""
           },
           "bgcolor": "#E5ECF6",
           "radialaxis": {
            "gridcolor": "white",
            "linecolor": "white",
            "ticks": ""
           }
          },
          "scene": {
           "xaxis": {
            "backgroundcolor": "#E5ECF6",
            "gridcolor": "white",
            "gridwidth": 2,
            "linecolor": "white",
            "showbackground": true,
            "ticks": "",
            "zerolinecolor": "white"
           },
           "yaxis": {
            "backgroundcolor": "#E5ECF6",
            "gridcolor": "white",
            "gridwidth": 2,
            "linecolor": "white",
            "showbackground": true,
            "ticks": "",
            "zerolinecolor": "white"
           },
           "zaxis": {
            "backgroundcolor": "#E5ECF6",
            "gridcolor": "white",
            "gridwidth": 2,
            "linecolor": "white",
            "showbackground": true,
            "ticks": "",
            "zerolinecolor": "white"
           }
          },
          "shapedefaults": {
           "line": {
            "color": "#2a3f5f"
           }
          },
          "ternary": {
           "aaxis": {
            "gridcolor": "white",
            "linecolor": "white",
            "ticks": ""
           },
           "baxis": {
            "gridcolor": "white",
            "linecolor": "white",
            "ticks": ""
           },
           "bgcolor": "#E5ECF6",
           "caxis": {
            "gridcolor": "white",
            "linecolor": "white",
            "ticks": ""
           }
          },
          "title": {
           "x": 0.05
          },
          "xaxis": {
           "automargin": true,
           "gridcolor": "white",
           "linecolor": "white",
           "ticks": "",
           "title": {
            "standoff": 15
           },
           "zerolinecolor": "white",
           "zerolinewidth": 2
          },
          "yaxis": {
           "automargin": true,
           "gridcolor": "white",
           "linecolor": "white",
           "ticks": "",
           "title": {
            "standoff": 15
           },
           "zerolinecolor": "white",
           "zerolinewidth": 2
          }
         }
        },
        "title": {
         "text": "Conversion Funnel"
        }
       }
      }
     },
     "metadata": {}
    }
   ],
   "source": [
    "from plotly import graph_objects as go\n",
    "\n",
    "fig = go.Figure(go.Funnel(\n",
    "    y = [\"Made log in\", \"Saw product page\", \"Added a product to cart\", \"Paid\"],\n",
    "    x = [n_login, n_product_page, n_product_cart, n_purchase],\n",
    "textposition = \"inside\",\n",
    "    textinfo = \"value+percent initial\",\n",
    "    opacity = 0.65, marker = {\"color\": [\"deepskyblue\", \"lightsalmon\", \"tan\", \"teal\"],\n",
    "    \"line\": {\"width\": [4, 2, 2, 3, 1, 1], \"color\": [\"wheat\", \"wheat\", \"blue\", \"wheat\", \"wheat\"]}},\n",
    "    connector = {\"line\": {\"color\": \"royalblue\", \"dash\": \"dot\", \"width\": 3}}),\n",
    "    )\n",
    "fig.update_layout(\n",
    "    title='Conversion Funnel')\n",
    "fig.show()"
   ]
  },
  {
   "cell_type": "markdown",
   "metadata": {},
   "source": [
    "**Is the number of events per user distributed equally among the samples?**"
   ]
  },
  {
   "cell_type": "code",
   "execution_count": 35,
   "metadata": {},
   "outputs": [
    {
     "output_type": "execute_result",
     "data": {
      "text/plain": [
       "            user_id            event_dt    event_name  details group  \\\n",
       "0  96F27A054B191457 2020-12-07 04:02:40      purchase     4.99     B   \n",
       "1  96F27A054B191457 2020-12-08 09:43:14      purchase     4.99     B   \n",
       "2  96F27A054B191457 2020-12-09 00:44:10      purchase     4.99     B   \n",
       "3  96F27A054B191457 2020-12-26 00:33:57      purchase     9.99     B   \n",
       "4  96F27A054B191457 2020-12-07 04:02:41  product_page      NaN     B   \n",
       "\n",
       "             ab_test first_date region  device       date  \n",
       "0  interface_eu_test 2020-12-07     EU  iPhone 2020-12-07  \n",
       "1  interface_eu_test 2020-12-07     EU  iPhone 2020-12-08  \n",
       "2  interface_eu_test 2020-12-07     EU  iPhone 2020-12-09  \n",
       "3  interface_eu_test 2020-12-07     EU  iPhone 2020-12-26  \n",
       "4  interface_eu_test 2020-12-07     EU  iPhone 2020-12-07  "
      ],
      "text/html": "<div>\n<style scoped>\n    .dataframe tbody tr th:only-of-type {\n        vertical-align: middle;\n    }\n\n    .dataframe tbody tr th {\n        vertical-align: top;\n    }\n\n    .dataframe thead th {\n        text-align: right;\n    }\n</style>\n<table border=\"1\" class=\"dataframe\">\n  <thead>\n    <tr style=\"text-align: right;\">\n      <th></th>\n      <th>user_id</th>\n      <th>event_dt</th>\n      <th>event_name</th>\n      <th>details</th>\n      <th>group</th>\n      <th>ab_test</th>\n      <th>first_date</th>\n      <th>region</th>\n      <th>device</th>\n      <th>date</th>\n    </tr>\n  </thead>\n  <tbody>\n    <tr>\n      <th>0</th>\n      <td>96F27A054B191457</td>\n      <td>2020-12-07 04:02:40</td>\n      <td>purchase</td>\n      <td>4.99</td>\n      <td>B</td>\n      <td>interface_eu_test</td>\n      <td>2020-12-07</td>\n      <td>EU</td>\n      <td>iPhone</td>\n      <td>2020-12-07</td>\n    </tr>\n    <tr>\n      <th>1</th>\n      <td>96F27A054B191457</td>\n      <td>2020-12-08 09:43:14</td>\n      <td>purchase</td>\n      <td>4.99</td>\n      <td>B</td>\n      <td>interface_eu_test</td>\n      <td>2020-12-07</td>\n      <td>EU</td>\n      <td>iPhone</td>\n      <td>2020-12-08</td>\n    </tr>\n    <tr>\n      <th>2</th>\n      <td>96F27A054B191457</td>\n      <td>2020-12-09 00:44:10</td>\n      <td>purchase</td>\n      <td>4.99</td>\n      <td>B</td>\n      <td>interface_eu_test</td>\n      <td>2020-12-07</td>\n      <td>EU</td>\n      <td>iPhone</td>\n      <td>2020-12-09</td>\n    </tr>\n    <tr>\n      <th>3</th>\n      <td>96F27A054B191457</td>\n      <td>2020-12-26 00:33:57</td>\n      <td>purchase</td>\n      <td>9.99</td>\n      <td>B</td>\n      <td>interface_eu_test</td>\n      <td>2020-12-07</td>\n      <td>EU</td>\n      <td>iPhone</td>\n      <td>2020-12-26</td>\n    </tr>\n    <tr>\n      <th>4</th>\n      <td>96F27A054B191457</td>\n      <td>2020-12-07 04:02:41</td>\n      <td>product_page</td>\n      <td>NaN</td>\n      <td>B</td>\n      <td>interface_eu_test</td>\n      <td>2020-12-07</td>\n      <td>EU</td>\n      <td>iPhone</td>\n      <td>2020-12-07</td>\n    </tr>\n  </tbody>\n</table>\n</div>"
     },
     "metadata": {},
     "execution_count": 35
    }
   ],
   "source": [
    "test_users_filtered.head()"
   ]
  },
  {
   "cell_type": "code",
   "execution_count": 36,
   "metadata": {},
   "outputs": [
    {
     "output_type": "execute_result",
     "data": {
      "text/plain": [
       "       event_name\n",
       "group            \n",
       "A           41556\n",
       "B           40355"
      ],
      "text/html": "<div>\n<style scoped>\n    .dataframe tbody tr th:only-of-type {\n        vertical-align: middle;\n    }\n\n    .dataframe tbody tr th {\n        vertical-align: top;\n    }\n\n    .dataframe thead th {\n        text-align: right;\n    }\n</style>\n<table border=\"1\" class=\"dataframe\">\n  <thead>\n    <tr style=\"text-align: right;\">\n      <th></th>\n      <th>event_name</th>\n    </tr>\n    <tr>\n      <th>group</th>\n      <th></th>\n    </tr>\n  </thead>\n  <tbody>\n    <tr>\n      <th>A</th>\n      <td>41556</td>\n    </tr>\n    <tr>\n      <th>B</th>\n      <td>40355</td>\n    </tr>\n  </tbody>\n</table>\n</div>"
     },
     "metadata": {},
     "execution_count": 36
    }
   ],
   "source": [
    "events_per_samples = test_users_filtered.groupby('group').agg({'event_name': 'count'})\n",
    "events_per_samples"
   ]
  },
  {
   "cell_type": "code",
   "execution_count": 37,
   "metadata": {},
   "outputs": [
    {
     "output_type": "execute_result",
     "data": {
      "text/plain": [
       "            user_id group  event_name\n",
       "0  0002CE61FF2C4011     A          12\n",
       "1  001064FEAAB631A1     B           6\n",
       "2  001E72F50D1C48FA     B           6\n",
       "3  002412F1EB3F6E38     A           8\n",
       "4  002540BE89C930FB     A           9"
      ],
      "text/html": "<div>\n<style scoped>\n    .dataframe tbody tr th:only-of-type {\n        vertical-align: middle;\n    }\n\n    .dataframe tbody tr th {\n        vertical-align: top;\n    }\n\n    .dataframe thead th {\n        text-align: right;\n    }\n</style>\n<table border=\"1\" class=\"dataframe\">\n  <thead>\n    <tr style=\"text-align: right;\">\n      <th></th>\n      <th>user_id</th>\n      <th>group</th>\n      <th>event_name</th>\n    </tr>\n  </thead>\n  <tbody>\n    <tr>\n      <th>0</th>\n      <td>0002CE61FF2C4011</td>\n      <td>A</td>\n      <td>12</td>\n    </tr>\n    <tr>\n      <th>1</th>\n      <td>001064FEAAB631A1</td>\n      <td>B</td>\n      <td>6</td>\n    </tr>\n    <tr>\n      <th>2</th>\n      <td>001E72F50D1C48FA</td>\n      <td>B</td>\n      <td>6</td>\n    </tr>\n    <tr>\n      <th>3</th>\n      <td>002412F1EB3F6E38</td>\n      <td>A</td>\n      <td>8</td>\n    </tr>\n    <tr>\n      <th>4</th>\n      <td>002540BE89C930FB</td>\n      <td>A</td>\n      <td>9</td>\n    </tr>\n  </tbody>\n</table>\n</div>"
     },
     "metadata": {},
     "execution_count": 37
    }
   ],
   "source": [
    "events_per_user = test_users_filtered.groupby(['user_id','group']).agg({'event_name': 'count'}).reset_index()\n",
    "events_per_user.head()"
   ]
  },
  {
   "cell_type": "code",
   "execution_count": 46,
   "metadata": {},
   "outputs": [
    {
     "output_type": "display_data",
     "data": {
      "text/plain": "<Figure size 720x432 with 1 Axes>",
      "image/svg+xml": "<?xml version=\"1.0\" encoding=\"utf-8\" standalone=\"no\"?>\n<!DOCTYPE svg PUBLIC \"-//W3C//DTD SVG 1.1//EN\"\n  \"http://www.w3.org/Graphics/SVG/1.1/DTD/svg11.dtd\">\n<!-- Created with matplotlib (https://matplotlib.org/) -->\n<svg height=\"394.982656pt\" version=\"1.1\" viewBox=\"0 0 612.123438 394.982656\" width=\"612.123438pt\" xmlns=\"http://www.w3.org/2000/svg\" xmlns:xlink=\"http://www.w3.org/1999/xlink\">\n <defs>\n  <style type=\"text/css\">\n*{stroke-linecap:butt;stroke-linejoin:round;}\n  </style>\n </defs>\n <g id=\"figure_1\">\n  <g id=\"patch_1\">\n   <path d=\"M 0 394.982656 \nL 612.123438 394.982656 \nL 612.123438 0 \nL 0 0 \nz\n\" style=\"fill:#ffffff;\"/>\n  </g>\n  <g id=\"axes_1\">\n   <g id=\"patch_2\">\n    <path d=\"M 46.923438 353.919375 \nL 604.923437 353.919375 \nL 604.923437 27.759375 \nL 46.923438 27.759375 \nz\n\" style=\"fill:#ffffff;\"/>\n   </g>\n   <g id=\"matplotlib.axis_1\">\n    <g id=\"xtick_1\">\n     <g id=\"line2d_1\">\n      <path clip-path=\"url(#p005231c17b)\" d=\"M 90.801443 353.919375 \nL 90.801443 27.759375 \n\" style=\"fill:none;stroke:#cccccc;stroke-linecap:round;stroke-width:0.8;\"/>\n     </g>\n     <g id=\"text_1\">\n      <!-- 0 -->\n      <defs>\n       <path d=\"M 4.15625 35.296875 \nQ 4.15625 48 6.765625 55.734375 \nQ 9.375 63.484375 14.515625 67.671875 \nQ 19.671875 71.875 27.484375 71.875 \nQ 33.25 71.875 37.59375 69.546875 \nQ 41.9375 67.234375 44.765625 62.859375 \nQ 47.609375 58.5 49.21875 52.21875 \nQ 50.828125 45.953125 50.828125 35.296875 \nQ 50.828125 22.703125 48.234375 14.96875 \nQ 45.65625 7.234375 40.5 3 \nQ 35.359375 -1.21875 27.484375 -1.21875 \nQ 17.140625 -1.21875 11.234375 6.203125 \nQ 4.15625 15.140625 4.15625 35.296875 \nz\nM 13.1875 35.296875 \nQ 13.1875 17.671875 17.3125 11.828125 \nQ 21.4375 6 27.484375 6 \nQ 33.546875 6 37.671875 11.859375 \nQ 41.796875 17.71875 41.796875 35.296875 \nQ 41.796875 52.984375 37.671875 58.78125 \nQ 33.546875 64.59375 27.390625 64.59375 \nQ 21.34375 64.59375 17.71875 59.46875 \nQ 13.1875 52.9375 13.1875 35.296875 \nz\n\" id=\"ArialMT-48\"/>\n      </defs>\n      <g style=\"fill:#262626;\" transform=\"translate(88.020974 368.077187)scale(0.1 -0.1)\">\n       <use xlink:href=\"#ArialMT-48\"/>\n      </g>\n     </g>\n    </g>\n    <g id=\"xtick_2\">\n     <g id=\"line2d_2\">\n      <path clip-path=\"url(#p005231c17b)\" d=\"M 162.083893 353.919375 \nL 162.083893 27.759375 \n\" style=\"fill:none;stroke:#cccccc;stroke-linecap:round;stroke-width:0.8;\"/>\n     </g>\n     <g id=\"text_2\">\n      <!-- 5 -->\n      <defs>\n       <path d=\"M 4.15625 18.75 \nL 13.375 19.53125 \nQ 14.40625 12.796875 18.140625 9.390625 \nQ 21.875 6 27.15625 6 \nQ 33.5 6 37.890625 10.78125 \nQ 42.28125 15.578125 42.28125 23.484375 \nQ 42.28125 31 38.0625 35.34375 \nQ 33.84375 39.703125 27 39.703125 \nQ 22.75 39.703125 19.328125 37.765625 \nQ 15.921875 35.84375 13.96875 32.765625 \nL 5.71875 33.84375 \nL 12.640625 70.609375 \nL 48.25 70.609375 \nL 48.25 62.203125 \nL 19.671875 62.203125 \nL 15.828125 42.96875 \nQ 22.265625 47.46875 29.34375 47.46875 \nQ 38.71875 47.46875 45.15625 40.96875 \nQ 51.609375 34.46875 51.609375 24.265625 \nQ 51.609375 14.546875 45.953125 7.46875 \nQ 39.0625 -1.21875 27.15625 -1.21875 \nQ 17.390625 -1.21875 11.203125 4.25 \nQ 5.03125 9.71875 4.15625 18.75 \nz\n\" id=\"ArialMT-53\"/>\n      </defs>\n      <g style=\"fill:#262626;\" transform=\"translate(159.303424 368.077187)scale(0.1 -0.1)\">\n       <use xlink:href=\"#ArialMT-53\"/>\n      </g>\n     </g>\n    </g>\n    <g id=\"xtick_3\">\n     <g id=\"line2d_3\">\n      <path clip-path=\"url(#p005231c17b)\" d=\"M 233.366342 353.919375 \nL 233.366342 27.759375 \n\" style=\"fill:none;stroke:#cccccc;stroke-linecap:round;stroke-width:0.8;\"/>\n     </g>\n     <g id=\"text_3\">\n      <!-- 10 -->\n      <defs>\n       <path d=\"M 37.25 0 \nL 28.46875 0 \nL 28.46875 56 \nQ 25.296875 52.984375 20.140625 49.953125 \nQ 14.984375 46.921875 10.890625 45.40625 \nL 10.890625 53.90625 \nQ 18.265625 57.375 23.78125 62.296875 \nQ 29.296875 67.234375 31.59375 71.875 \nL 37.25 71.875 \nz\n\" id=\"ArialMT-49\"/>\n      </defs>\n      <g style=\"fill:#262626;\" transform=\"translate(227.805405 368.077187)scale(0.1 -0.1)\">\n       <use xlink:href=\"#ArialMT-49\"/>\n       <use x=\"55.615234\" xlink:href=\"#ArialMT-48\"/>\n      </g>\n     </g>\n    </g>\n    <g id=\"xtick_4\">\n     <g id=\"line2d_4\">\n      <path clip-path=\"url(#p005231c17b)\" d=\"M 304.648792 353.919375 \nL 304.648792 27.759375 \n\" style=\"fill:none;stroke:#cccccc;stroke-linecap:round;stroke-width:0.8;\"/>\n     </g>\n     <g id=\"text_4\">\n      <!-- 15 -->\n      <g style=\"fill:#262626;\" transform=\"translate(299.087854 368.077187)scale(0.1 -0.1)\">\n       <use xlink:href=\"#ArialMT-49\"/>\n       <use x=\"55.615234\" xlink:href=\"#ArialMT-53\"/>\n      </g>\n     </g>\n    </g>\n    <g id=\"xtick_5\">\n     <g id=\"line2d_5\">\n      <path clip-path=\"url(#p005231c17b)\" d=\"M 375.931242 353.919375 \nL 375.931242 27.759375 \n\" style=\"fill:none;stroke:#cccccc;stroke-linecap:round;stroke-width:0.8;\"/>\n     </g>\n     <g id=\"text_5\">\n      <!-- 20 -->\n      <defs>\n       <path d=\"M 50.34375 8.453125 \nL 50.34375 0 \nL 3.03125 0 \nQ 2.9375 3.171875 4.046875 6.109375 \nQ 5.859375 10.9375 9.828125 15.625 \nQ 13.8125 20.3125 21.34375 26.46875 \nQ 33.015625 36.03125 37.109375 41.625 \nQ 41.21875 47.21875 41.21875 52.203125 \nQ 41.21875 57.421875 37.46875 61 \nQ 33.734375 64.59375 27.734375 64.59375 \nQ 21.390625 64.59375 17.578125 60.78125 \nQ 13.765625 56.984375 13.71875 50.25 \nL 4.6875 51.171875 \nQ 5.609375 61.28125 11.65625 66.578125 \nQ 17.71875 71.875 27.9375 71.875 \nQ 38.234375 71.875 44.234375 66.15625 \nQ 50.25 60.453125 50.25 52 \nQ 50.25 47.703125 48.484375 43.546875 \nQ 46.734375 39.40625 42.65625 34.8125 \nQ 38.578125 30.21875 29.109375 22.21875 \nQ 21.1875 15.578125 18.9375 13.203125 \nQ 16.703125 10.84375 15.234375 8.453125 \nz\n\" id=\"ArialMT-50\"/>\n      </defs>\n      <g style=\"fill:#262626;\" transform=\"translate(370.370304 368.077187)scale(0.1 -0.1)\">\n       <use xlink:href=\"#ArialMT-50\"/>\n       <use x=\"55.615234\" xlink:href=\"#ArialMT-48\"/>\n      </g>\n     </g>\n    </g>\n    <g id=\"xtick_6\">\n     <g id=\"line2d_6\">\n      <path clip-path=\"url(#p005231c17b)\" d=\"M 447.213691 353.919375 \nL 447.213691 27.759375 \n\" style=\"fill:none;stroke:#cccccc;stroke-linecap:round;stroke-width:0.8;\"/>\n     </g>\n     <g id=\"text_6\">\n      <!-- 25 -->\n      <g style=\"fill:#262626;\" transform=\"translate(441.652754 368.077187)scale(0.1 -0.1)\">\n       <use xlink:href=\"#ArialMT-50\"/>\n       <use x=\"55.615234\" xlink:href=\"#ArialMT-53\"/>\n      </g>\n     </g>\n    </g>\n    <g id=\"xtick_7\">\n     <g id=\"line2d_7\">\n      <path clip-path=\"url(#p005231c17b)\" d=\"M 518.496141 353.919375 \nL 518.496141 27.759375 \n\" style=\"fill:none;stroke:#cccccc;stroke-linecap:round;stroke-width:0.8;\"/>\n     </g>\n     <g id=\"text_7\">\n      <!-- 30 -->\n      <defs>\n       <path d=\"M 4.203125 18.890625 \nL 12.984375 20.0625 \nQ 14.5 12.59375 18.140625 9.296875 \nQ 21.78125 6 27 6 \nQ 33.203125 6 37.46875 10.296875 \nQ 41.75 14.59375 41.75 20.953125 \nQ 41.75 27 37.796875 30.921875 \nQ 33.84375 34.859375 27.734375 34.859375 \nQ 25.25 34.859375 21.53125 33.890625 \nL 22.515625 41.609375 \nQ 23.390625 41.5 23.921875 41.5 \nQ 29.546875 41.5 34.03125 44.421875 \nQ 38.53125 47.359375 38.53125 53.46875 \nQ 38.53125 58.296875 35.25 61.46875 \nQ 31.984375 64.65625 26.8125 64.65625 \nQ 21.6875 64.65625 18.265625 61.421875 \nQ 14.84375 58.203125 13.875 51.765625 \nL 5.078125 53.328125 \nQ 6.6875 62.15625 12.390625 67.015625 \nQ 18.109375 71.875 26.609375 71.875 \nQ 32.46875 71.875 37.390625 69.359375 \nQ 42.328125 66.84375 44.9375 62.5 \nQ 47.5625 58.15625 47.5625 53.265625 \nQ 47.5625 48.640625 45.0625 44.828125 \nQ 42.578125 41.015625 37.703125 38.765625 \nQ 44.046875 37.3125 47.5625 32.6875 \nQ 51.078125 28.078125 51.078125 21.140625 \nQ 51.078125 11.765625 44.234375 5.25 \nQ 37.40625 -1.265625 26.953125 -1.265625 \nQ 17.53125 -1.265625 11.296875 4.34375 \nQ 5.078125 9.96875 4.203125 18.890625 \nz\n\" id=\"ArialMT-51\"/>\n      </defs>\n      <g style=\"fill:#262626;\" transform=\"translate(512.935203 368.077187)scale(0.1 -0.1)\">\n       <use xlink:href=\"#ArialMT-51\"/>\n       <use x=\"55.615234\" xlink:href=\"#ArialMT-48\"/>\n      </g>\n     </g>\n    </g>\n    <g id=\"xtick_8\">\n     <g id=\"line2d_8\">\n      <path clip-path=\"url(#p005231c17b)\" d=\"M 589.77859 353.919375 \nL 589.77859 27.759375 \n\" style=\"fill:none;stroke:#cccccc;stroke-linecap:round;stroke-width:0.8;\"/>\n     </g>\n     <g id=\"text_8\">\n      <!-- 35 -->\n      <g style=\"fill:#262626;\" transform=\"translate(584.217653 368.077187)scale(0.1 -0.1)\">\n       <use xlink:href=\"#ArialMT-51\"/>\n       <use x=\"55.615234\" xlink:href=\"#ArialMT-53\"/>\n      </g>\n     </g>\n    </g>\n    <g id=\"text_9\">\n     <!-- Events per user -->\n     <defs>\n      <path d=\"M 7.90625 0 \nL 7.90625 71.578125 \nL 59.671875 71.578125 \nL 59.671875 63.140625 \nL 17.390625 63.140625 \nL 17.390625 41.21875 \nL 56.984375 41.21875 \nL 56.984375 32.8125 \nL 17.390625 32.8125 \nL 17.390625 8.453125 \nL 61.328125 8.453125 \nL 61.328125 0 \nz\n\" id=\"ArialMT-69\"/>\n      <path d=\"M 21 0 \nL 1.265625 51.859375 \nL 10.546875 51.859375 \nL 21.6875 20.796875 \nQ 23.484375 15.765625 25 10.359375 \nQ 26.171875 14.453125 28.265625 20.21875 \nL 39.796875 51.859375 \nL 48.828125 51.859375 \nL 29.203125 0 \nz\n\" id=\"ArialMT-118\"/>\n      <path d=\"M 42.09375 16.703125 \nL 51.171875 15.578125 \nQ 49.03125 7.625 43.21875 3.21875 \nQ 37.40625 -1.171875 28.375 -1.171875 \nQ 17 -1.171875 10.328125 5.828125 \nQ 3.65625 12.84375 3.65625 25.484375 \nQ 3.65625 38.578125 10.390625 45.796875 \nQ 17.140625 53.03125 27.875 53.03125 \nQ 38.28125 53.03125 44.875 45.953125 \nQ 51.46875 38.875 51.46875 26.03125 \nQ 51.46875 25.25 51.421875 23.6875 \nL 12.75 23.6875 \nQ 13.234375 15.140625 17.578125 10.59375 \nQ 21.921875 6.0625 28.421875 6.0625 \nQ 33.25 6.0625 36.671875 8.59375 \nQ 40.09375 11.140625 42.09375 16.703125 \nz\nM 13.234375 30.90625 \nL 42.1875 30.90625 \nQ 41.609375 37.453125 38.875 40.71875 \nQ 34.671875 45.796875 27.984375 45.796875 \nQ 21.921875 45.796875 17.796875 41.75 \nQ 13.671875 37.703125 13.234375 30.90625 \nz\n\" id=\"ArialMT-101\"/>\n      <path d=\"M 6.59375 0 \nL 6.59375 51.859375 \nL 14.5 51.859375 \nL 14.5 44.484375 \nQ 20.21875 53.03125 31 53.03125 \nQ 35.6875 53.03125 39.625 51.34375 \nQ 43.5625 49.65625 45.515625 46.921875 \nQ 47.46875 44.1875 48.25 40.4375 \nQ 48.734375 37.984375 48.734375 31.890625 \nL 48.734375 0 \nL 39.9375 0 \nL 39.9375 31.546875 \nQ 39.9375 36.921875 38.90625 39.578125 \nQ 37.890625 42.234375 35.28125 43.8125 \nQ 32.671875 45.40625 29.15625 45.40625 \nQ 23.53125 45.40625 19.453125 41.84375 \nQ 15.375 38.28125 15.375 28.328125 \nL 15.375 0 \nz\n\" id=\"ArialMT-110\"/>\n      <path d=\"M 25.78125 7.859375 \nL 27.046875 0.09375 \nQ 23.34375 -0.6875 20.40625 -0.6875 \nQ 15.625 -0.6875 12.984375 0.828125 \nQ 10.359375 2.34375 9.28125 4.8125 \nQ 8.203125 7.28125 8.203125 15.1875 \nL 8.203125 45.015625 \nL 1.765625 45.015625 \nL 1.765625 51.859375 \nL 8.203125 51.859375 \nL 8.203125 64.703125 \nL 16.9375 69.96875 \nL 16.9375 51.859375 \nL 25.78125 51.859375 \nL 25.78125 45.015625 \nL 16.9375 45.015625 \nL 16.9375 14.703125 \nQ 16.9375 10.9375 17.40625 9.859375 \nQ 17.875 8.796875 18.921875 8.15625 \nQ 19.96875 7.515625 21.921875 7.515625 \nQ 23.390625 7.515625 25.78125 7.859375 \nz\n\" id=\"ArialMT-116\"/>\n      <path d=\"M 3.078125 15.484375 \nL 11.765625 16.84375 \nQ 12.5 11.625 15.84375 8.84375 \nQ 19.1875 6.0625 25.203125 6.0625 \nQ 31.25 6.0625 34.171875 8.515625 \nQ 37.109375 10.984375 37.109375 14.3125 \nQ 37.109375 17.28125 34.515625 19 \nQ 32.71875 20.171875 25.53125 21.96875 \nQ 15.875 24.421875 12.140625 26.203125 \nQ 8.40625 27.984375 6.46875 31.125 \nQ 4.546875 34.28125 4.546875 38.09375 \nQ 4.546875 41.546875 6.125 44.5 \nQ 7.71875 47.46875 10.453125 49.421875 \nQ 12.5 50.921875 16.03125 51.96875 \nQ 19.578125 53.03125 23.640625 53.03125 \nQ 29.734375 53.03125 34.34375 51.265625 \nQ 38.96875 49.515625 41.15625 46.5 \nQ 43.359375 43.5 44.1875 38.484375 \nL 35.59375 37.3125 \nQ 35.015625 41.3125 32.203125 43.546875 \nQ 29.390625 45.796875 24.265625 45.796875 \nQ 18.21875 45.796875 15.625 43.796875 \nQ 13.03125 41.796875 13.03125 39.109375 \nQ 13.03125 37.40625 14.109375 36.03125 \nQ 15.1875 34.625 17.484375 33.6875 \nQ 18.796875 33.203125 25.25 31.453125 \nQ 34.578125 28.953125 38.25 27.359375 \nQ 41.9375 25.78125 44.03125 22.75 \nQ 46.140625 19.734375 46.140625 15.234375 \nQ 46.140625 10.84375 43.578125 6.953125 \nQ 41.015625 3.078125 36.171875 0.953125 \nQ 31.34375 -1.171875 25.25 -1.171875 \nQ 15.140625 -1.171875 9.84375 3.03125 \nQ 4.546875 7.234375 3.078125 15.484375 \nz\n\" id=\"ArialMT-115\"/>\n      <path id=\"ArialMT-32\"/>\n      <path d=\"M 6.59375 -19.875 \nL 6.59375 51.859375 \nL 14.59375 51.859375 \nL 14.59375 45.125 \nQ 17.4375 49.078125 21 51.046875 \nQ 24.5625 53.03125 29.640625 53.03125 \nQ 36.28125 53.03125 41.359375 49.609375 \nQ 46.4375 46.1875 49.015625 39.953125 \nQ 51.609375 33.734375 51.609375 26.3125 \nQ 51.609375 18.359375 48.75 11.984375 \nQ 45.90625 5.609375 40.453125 2.21875 \nQ 35.015625 -1.171875 29 -1.171875 \nQ 24.609375 -1.171875 21.109375 0.6875 \nQ 17.625 2.546875 15.375 5.375 \nL 15.375 -19.875 \nz\nM 14.546875 25.640625 \nQ 14.546875 15.625 18.59375 10.84375 \nQ 22.65625 6.0625 28.421875 6.0625 \nQ 34.28125 6.0625 38.453125 11.015625 \nQ 42.625 15.96875 42.625 26.375 \nQ 42.625 36.28125 38.546875 41.203125 \nQ 34.46875 46.140625 28.8125 46.140625 \nQ 23.1875 46.140625 18.859375 40.890625 \nQ 14.546875 35.640625 14.546875 25.640625 \nz\n\" id=\"ArialMT-112\"/>\n      <path d=\"M 6.5 0 \nL 6.5 51.859375 \nL 14.40625 51.859375 \nL 14.40625 44 \nQ 17.4375 49.515625 20 51.265625 \nQ 22.5625 53.03125 25.640625 53.03125 \nQ 30.078125 53.03125 34.671875 50.203125 \nL 31.640625 42.046875 \nQ 28.421875 43.953125 25.203125 43.953125 \nQ 22.3125 43.953125 20.015625 42.21875 \nQ 17.71875 40.484375 16.75 37.40625 \nQ 15.28125 32.71875 15.28125 27.15625 \nL 15.28125 0 \nz\n\" id=\"ArialMT-114\"/>\n      <path d=\"M 40.578125 0 \nL 40.578125 7.625 \nQ 34.515625 -1.171875 24.125 -1.171875 \nQ 19.53125 -1.171875 15.546875 0.578125 \nQ 11.578125 2.34375 9.640625 5 \nQ 7.71875 7.671875 6.9375 11.53125 \nQ 6.390625 14.109375 6.390625 19.734375 \nL 6.390625 51.859375 \nL 15.1875 51.859375 \nL 15.1875 23.09375 \nQ 15.1875 16.21875 15.71875 13.8125 \nQ 16.546875 10.359375 19.234375 8.375 \nQ 21.921875 6.390625 25.875 6.390625 \nQ 29.828125 6.390625 33.296875 8.421875 \nQ 36.765625 10.453125 38.203125 13.9375 \nQ 39.65625 17.4375 39.65625 24.078125 \nL 39.65625 51.859375 \nL 48.4375 51.859375 \nL 48.4375 0 \nz\n\" id=\"ArialMT-117\"/>\n     </defs>\n     <g style=\"fill:#262626;\" transform=\"translate(273.401172 384.801406)scale(0.15 -0.15)\">\n      <use xlink:href=\"#ArialMT-69\"/>\n      <use x=\"66.699219\" xlink:href=\"#ArialMT-118\"/>\n      <use x=\"116.699219\" xlink:href=\"#ArialMT-101\"/>\n      <use x=\"172.314453\" xlink:href=\"#ArialMT-110\"/>\n      <use x=\"227.929688\" xlink:href=\"#ArialMT-116\"/>\n      <use x=\"255.712891\" xlink:href=\"#ArialMT-115\"/>\n      <use x=\"305.712891\" xlink:href=\"#ArialMT-32\"/>\n      <use x=\"333.496094\" xlink:href=\"#ArialMT-112\"/>\n      <use x=\"389.111328\" xlink:href=\"#ArialMT-101\"/>\n      <use x=\"444.726562\" xlink:href=\"#ArialMT-114\"/>\n      <use x=\"478.027344\" xlink:href=\"#ArialMT-32\"/>\n      <use x=\"505.810547\" xlink:href=\"#ArialMT-117\"/>\n      <use x=\"561.425781\" xlink:href=\"#ArialMT-115\"/>\n      <use x=\"611.425781\" xlink:href=\"#ArialMT-101\"/>\n      <use x=\"667.041016\" xlink:href=\"#ArialMT-114\"/>\n     </g>\n    </g>\n   </g>\n   <g id=\"matplotlib.axis_2\">\n    <g id=\"ytick_1\">\n     <g id=\"line2d_9\">\n      <path clip-path=\"url(#p005231c17b)\" d=\"M 46.923438 353.919375 \nL 604.923437 353.919375 \n\" style=\"fill:none;stroke:#cccccc;stroke-linecap:round;stroke-width:0.8;\"/>\n     </g>\n     <g id=\"text_10\">\n      <!-- 0.00 -->\n      <defs>\n       <path d=\"M 9.078125 0 \nL 9.078125 10.015625 \nL 19.09375 10.015625 \nL 19.09375 0 \nz\n\" id=\"ArialMT-46\"/>\n      </defs>\n      <g style=\"fill:#262626;\" transform=\"translate(20.4625 357.498281)scale(0.1 -0.1)\">\n       <use xlink:href=\"#ArialMT-48\"/>\n       <use x=\"55.615234\" xlink:href=\"#ArialMT-46\"/>\n       <use x=\"83.398438\" xlink:href=\"#ArialMT-48\"/>\n       <use x=\"139.013672\" xlink:href=\"#ArialMT-48\"/>\n      </g>\n     </g>\n    </g>\n    <g id=\"ytick_2\">\n     <g id=\"line2d_10\">\n      <path clip-path=\"url(#p005231c17b)\" d=\"M 46.923438 302.63754 \nL 604.923437 302.63754 \n\" style=\"fill:none;stroke:#cccccc;stroke-linecap:round;stroke-width:0.8;\"/>\n     </g>\n     <g id=\"text_11\">\n      <!-- 0.01 -->\n      <g style=\"fill:#262626;\" transform=\"translate(20.4625 306.216446)scale(0.1 -0.1)\">\n       <use xlink:href=\"#ArialMT-48\"/>\n       <use x=\"55.615234\" xlink:href=\"#ArialMT-46\"/>\n       <use x=\"83.398438\" xlink:href=\"#ArialMT-48\"/>\n       <use x=\"139.013672\" xlink:href=\"#ArialMT-49\"/>\n      </g>\n     </g>\n    </g>\n    <g id=\"ytick_3\">\n     <g id=\"line2d_11\">\n      <path clip-path=\"url(#p005231c17b)\" d=\"M 46.923438 251.355704 \nL 604.923437 251.355704 \n\" style=\"fill:none;stroke:#cccccc;stroke-linecap:round;stroke-width:0.8;\"/>\n     </g>\n     <g id=\"text_12\">\n      <!-- 0.02 -->\n      <g style=\"fill:#262626;\" transform=\"translate(20.4625 254.934611)scale(0.1 -0.1)\">\n       <use xlink:href=\"#ArialMT-48\"/>\n       <use x=\"55.615234\" xlink:href=\"#ArialMT-46\"/>\n       <use x=\"83.398438\" xlink:href=\"#ArialMT-48\"/>\n       <use x=\"139.013672\" xlink:href=\"#ArialMT-50\"/>\n      </g>\n     </g>\n    </g>\n    <g id=\"ytick_4\">\n     <g id=\"line2d_12\">\n      <path clip-path=\"url(#p005231c17b)\" d=\"M 46.923438 200.073869 \nL 604.923437 200.073869 \n\" style=\"fill:none;stroke:#cccccc;stroke-linecap:round;stroke-width:0.8;\"/>\n     </g>\n     <g id=\"text_13\">\n      <!-- 0.03 -->\n      <g style=\"fill:#262626;\" transform=\"translate(20.4625 203.652775)scale(0.1 -0.1)\">\n       <use xlink:href=\"#ArialMT-48\"/>\n       <use x=\"55.615234\" xlink:href=\"#ArialMT-46\"/>\n       <use x=\"83.398438\" xlink:href=\"#ArialMT-48\"/>\n       <use x=\"139.013672\" xlink:href=\"#ArialMT-51\"/>\n      </g>\n     </g>\n    </g>\n    <g id=\"ytick_5\">\n     <g id=\"line2d_13\">\n      <path clip-path=\"url(#p005231c17b)\" d=\"M 46.923438 148.792034 \nL 604.923437 148.792034 \n\" style=\"fill:none;stroke:#cccccc;stroke-linecap:round;stroke-width:0.8;\"/>\n     </g>\n     <g id=\"text_14\">\n      <!-- 0.04 -->\n      <defs>\n       <path d=\"M 32.328125 0 \nL 32.328125 17.140625 \nL 1.265625 17.140625 \nL 1.265625 25.203125 \nL 33.9375 71.578125 \nL 41.109375 71.578125 \nL 41.109375 25.203125 \nL 50.78125 25.203125 \nL 50.78125 17.140625 \nL 41.109375 17.140625 \nL 41.109375 0 \nz\nM 32.328125 25.203125 \nL 32.328125 57.46875 \nL 9.90625 25.203125 \nz\n\" id=\"ArialMT-52\"/>\n      </defs>\n      <g style=\"fill:#262626;\" transform=\"translate(20.4625 152.37094)scale(0.1 -0.1)\">\n       <use xlink:href=\"#ArialMT-48\"/>\n       <use x=\"55.615234\" xlink:href=\"#ArialMT-46\"/>\n       <use x=\"83.398438\" xlink:href=\"#ArialMT-48\"/>\n       <use x=\"139.013672\" xlink:href=\"#ArialMT-52\"/>\n      </g>\n     </g>\n    </g>\n    <g id=\"ytick_6\">\n     <g id=\"line2d_14\">\n      <path clip-path=\"url(#p005231c17b)\" d=\"M 46.923438 97.510198 \nL 604.923437 97.510198 \n\" style=\"fill:none;stroke:#cccccc;stroke-linecap:round;stroke-width:0.8;\"/>\n     </g>\n     <g id=\"text_15\">\n      <!-- 0.05 -->\n      <g style=\"fill:#262626;\" transform=\"translate(20.4625 101.089104)scale(0.1 -0.1)\">\n       <use xlink:href=\"#ArialMT-48\"/>\n       <use x=\"55.615234\" xlink:href=\"#ArialMT-46\"/>\n       <use x=\"83.398438\" xlink:href=\"#ArialMT-48\"/>\n       <use x=\"139.013672\" xlink:href=\"#ArialMT-53\"/>\n      </g>\n     </g>\n    </g>\n    <g id=\"ytick_7\">\n     <g id=\"line2d_15\">\n      <path clip-path=\"url(#p005231c17b)\" d=\"M 46.923438 46.228363 \nL 604.923437 46.228363 \n\" style=\"fill:none;stroke:#cccccc;stroke-linecap:round;stroke-width:0.8;\"/>\n     </g>\n     <g id=\"text_16\">\n      <!-- 0.06 -->\n      <defs>\n       <path d=\"M 49.75 54.046875 \nL 41.015625 53.375 \nQ 39.84375 58.546875 37.703125 60.890625 \nQ 34.125 64.65625 28.90625 64.65625 \nQ 24.703125 64.65625 21.53125 62.3125 \nQ 17.390625 59.28125 14.984375 53.46875 \nQ 12.59375 47.65625 12.5 36.921875 \nQ 15.671875 41.75 20.265625 44.09375 \nQ 24.859375 46.4375 29.890625 46.4375 \nQ 38.671875 46.4375 44.84375 39.96875 \nQ 51.03125 33.5 51.03125 23.25 \nQ 51.03125 16.5 48.125 10.71875 \nQ 45.21875 4.9375 40.140625 1.859375 \nQ 35.0625 -1.21875 28.609375 -1.21875 \nQ 17.625 -1.21875 10.6875 6.859375 \nQ 3.765625 14.9375 3.765625 33.5 \nQ 3.765625 54.25 11.421875 63.671875 \nQ 18.109375 71.875 29.4375 71.875 \nQ 37.890625 71.875 43.28125 67.140625 \nQ 48.6875 62.40625 49.75 54.046875 \nz\nM 13.875 23.1875 \nQ 13.875 18.65625 15.796875 14.5 \nQ 17.71875 10.359375 21.1875 8.171875 \nQ 24.65625 6 28.46875 6 \nQ 34.03125 6 38.03125 10.484375 \nQ 42.046875 14.984375 42.046875 22.703125 \nQ 42.046875 30.125 38.078125 34.390625 \nQ 34.125 38.671875 28.125 38.671875 \nQ 22.171875 38.671875 18.015625 34.390625 \nQ 13.875 30.125 13.875 23.1875 \nz\n\" id=\"ArialMT-54\"/>\n      </defs>\n      <g style=\"fill:#262626;\" transform=\"translate(20.4625 49.807269)scale(0.1 -0.1)\">\n       <use xlink:href=\"#ArialMT-48\"/>\n       <use x=\"55.615234\" xlink:href=\"#ArialMT-46\"/>\n       <use x=\"83.398438\" xlink:href=\"#ArialMT-48\"/>\n       <use x=\"139.013672\" xlink:href=\"#ArialMT-54\"/>\n      </g>\n     </g>\n    </g>\n    <g id=\"text_17\">\n     <!-- Density -->\n     <defs>\n      <path d=\"M 7.71875 0 \nL 7.71875 71.578125 \nL 32.375 71.578125 \nQ 40.71875 71.578125 45.125 70.5625 \nQ 51.265625 69.140625 55.609375 65.4375 \nQ 61.28125 60.640625 64.078125 53.1875 \nQ 66.890625 45.75 66.890625 36.1875 \nQ 66.890625 28.03125 64.984375 21.734375 \nQ 63.09375 15.4375 60.109375 11.296875 \nQ 57.125 7.171875 53.578125 4.796875 \nQ 50.046875 2.4375 45.046875 1.21875 \nQ 40.046875 0 33.546875 0 \nz\nM 17.1875 8.453125 \nL 32.46875 8.453125 \nQ 39.546875 8.453125 43.578125 9.765625 \nQ 47.609375 11.078125 50 13.484375 \nQ 53.375 16.84375 55.25 22.53125 \nQ 57.125 28.21875 57.125 36.328125 \nQ 57.125 47.5625 53.4375 53.59375 \nQ 49.75 59.625 44.484375 61.671875 \nQ 40.671875 63.140625 32.234375 63.140625 \nL 17.1875 63.140625 \nz\n\" id=\"ArialMT-68\"/>\n      <path d=\"M 6.640625 61.46875 \nL 6.640625 71.578125 \nL 15.4375 71.578125 \nL 15.4375 61.46875 \nz\nM 6.640625 0 \nL 6.640625 51.859375 \nL 15.4375 51.859375 \nL 15.4375 0 \nz\n\" id=\"ArialMT-105\"/>\n      <path d=\"M 6.203125 -19.96875 \nL 5.21875 -11.71875 \nQ 8.109375 -12.5 10.25 -12.5 \nQ 13.1875 -12.5 14.9375 -11.515625 \nQ 16.703125 -10.546875 17.828125 -8.796875 \nQ 18.65625 -7.46875 20.515625 -2.25 \nQ 20.75 -1.515625 21.296875 -0.09375 \nL 1.609375 51.859375 \nL 11.078125 51.859375 \nL 21.875 21.828125 \nQ 23.96875 16.109375 25.640625 9.8125 \nQ 27.15625 15.875 29.25 21.625 \nL 40.328125 51.859375 \nL 49.125 51.859375 \nL 29.390625 -0.875 \nQ 26.21875 -9.421875 24.46875 -12.640625 \nQ 22.125 -17 19.09375 -19.015625 \nQ 16.0625 -21.046875 11.859375 -21.046875 \nQ 9.328125 -21.046875 6.203125 -19.96875 \nz\n\" id=\"ArialMT-121\"/>\n     </defs>\n     <g style=\"fill:#262626;\" transform=\"translate(14.357813 207.51125)rotate(-90)scale(0.1 -0.1)\">\n      <use xlink:href=\"#ArialMT-68\"/>\n      <use x=\"72.216797\" xlink:href=\"#ArialMT-101\"/>\n      <use x=\"127.832031\" xlink:href=\"#ArialMT-110\"/>\n      <use x=\"183.447266\" xlink:href=\"#ArialMT-115\"/>\n      <use x=\"233.447266\" xlink:href=\"#ArialMT-105\"/>\n      <use x=\"255.664062\" xlink:href=\"#ArialMT-116\"/>\n      <use x=\"283.447266\" xlink:href=\"#ArialMT-121\"/>\n     </g>\n    </g>\n   </g>\n   <g id=\"PolyCollection_1\">\n    <defs>\n     <path d=\"M 72.507252 -41.239771 \nL 72.507252 -41.063281 \nL 75.055255 -41.063281 \nL 77.603258 -41.063281 \nL 80.151261 -41.063281 \nL 82.699263 -41.063281 \nL 85.247266 -41.063281 \nL 87.795269 -41.063281 \nL 90.343272 -41.063281 \nL 92.891274 -41.063281 \nL 95.439277 -41.063281 \nL 97.98728 -41.063281 \nL 100.535283 -41.063281 \nL 103.083286 -41.063281 \nL 105.631288 -41.063281 \nL 108.179291 -41.063281 \nL 110.727294 -41.063281 \nL 113.275297 -41.063281 \nL 115.823299 -41.063281 \nL 118.371302 -41.063281 \nL 120.919305 -41.063281 \nL 123.467308 -41.063281 \nL 126.01531 -41.063281 \nL 128.563313 -41.063281 \nL 131.111316 -41.063281 \nL 133.659319 -41.063281 \nL 136.207321 -41.063281 \nL 138.755324 -41.063281 \nL 141.303327 -41.063281 \nL 143.85133 -41.063281 \nL 146.399332 -41.063281 \nL 148.947335 -41.063281 \nL 151.495338 -41.063281 \nL 154.043341 -41.063281 \nL 156.591343 -41.063281 \nL 159.139346 -41.063281 \nL 161.687349 -41.063281 \nL 164.235352 -41.063281 \nL 166.783354 -41.063281 \nL 169.331357 -41.063281 \nL 171.87936 -41.063281 \nL 174.427363 -41.063281 \nL 176.975365 -41.063281 \nL 179.523368 -41.063281 \nL 182.071371 -41.063281 \nL 184.619374 -41.063281 \nL 187.167377 -41.063281 \nL 189.715379 -41.063281 \nL 192.263382 -41.063281 \nL 194.811385 -41.063281 \nL 197.359388 -41.063281 \nL 199.90739 -41.063281 \nL 202.455393 -41.063281 \nL 205.003396 -41.063281 \nL 207.551399 -41.063281 \nL 210.099401 -41.063281 \nL 212.647404 -41.063281 \nL 215.195407 -41.063281 \nL 217.74341 -41.063281 \nL 220.291412 -41.063281 \nL 222.839415 -41.063281 \nL 225.387418 -41.063281 \nL 227.935421 -41.063281 \nL 230.483423 -41.063281 \nL 233.031426 -41.063281 \nL 235.579429 -41.063281 \nL 238.127432 -41.063281 \nL 240.675434 -41.063281 \nL 243.223437 -41.063281 \nL 245.77144 -41.063281 \nL 248.319443 -41.063281 \nL 250.867445 -41.063281 \nL 253.415448 -41.063281 \nL 255.963451 -41.063281 \nL 258.511454 -41.063281 \nL 261.059456 -41.063281 \nL 263.607459 -41.063281 \nL 266.155462 -41.063281 \nL 268.703465 -41.063281 \nL 271.251468 -41.063281 \nL 273.79947 -41.063281 \nL 276.347473 -41.063281 \nL 278.895476 -41.063281 \nL 281.443479 -41.063281 \nL 283.991481 -41.063281 \nL 286.539484 -41.063281 \nL 289.087487 -41.063281 \nL 291.63549 -41.063281 \nL 294.183492 -41.063281 \nL 296.731495 -41.063281 \nL 299.279498 -41.063281 \nL 301.827501 -41.063281 \nL 304.375503 -41.063281 \nL 306.923506 -41.063281 \nL 309.471509 -41.063281 \nL 312.019512 -41.063281 \nL 314.567514 -41.063281 \nL 317.115517 -41.063281 \nL 319.66352 -41.063281 \nL 322.211523 -41.063281 \nL 324.759525 -41.063281 \nL 327.307528 -41.063281 \nL 329.855531 -41.063281 \nL 332.403534 -41.063281 \nL 334.951536 -41.063281 \nL 337.499539 -41.063281 \nL 340.047542 -41.063281 \nL 342.595545 -41.063281 \nL 345.143547 -41.063281 \nL 347.69155 -41.063281 \nL 350.239553 -41.063281 \nL 352.787556 -41.063281 \nL 355.335558 -41.063281 \nL 357.883561 -41.063281 \nL 360.431564 -41.063281 \nL 362.979567 -41.063281 \nL 365.52757 -41.063281 \nL 368.075572 -41.063281 \nL 370.623575 -41.063281 \nL 373.171578 -41.063281 \nL 375.719581 -41.063281 \nL 378.267583 -41.063281 \nL 380.815586 -41.063281 \nL 383.363589 -41.063281 \nL 385.911592 -41.063281 \nL 388.459594 -41.063281 \nL 391.007597 -41.063281 \nL 393.5556 -41.063281 \nL 396.103603 -41.063281 \nL 398.651605 -41.063281 \nL 401.199608 -41.063281 \nL 403.747611 -41.063281 \nL 406.295614 -41.063281 \nL 408.843616 -41.063281 \nL 411.391619 -41.063281 \nL 413.939622 -41.063281 \nL 416.487625 -41.063281 \nL 419.035627 -41.063281 \nL 421.58363 -41.063281 \nL 424.131633 -41.063281 \nL 426.679636 -41.063281 \nL 429.227638 -41.063281 \nL 431.775641 -41.063281 \nL 434.323644 -41.063281 \nL 436.871647 -41.063281 \nL 439.419649 -41.063281 \nL 441.967652 -41.063281 \nL 444.515655 -41.063281 \nL 447.063658 -41.063281 \nL 449.611661 -41.063281 \nL 452.159663 -41.063281 \nL 454.707666 -41.063281 \nL 457.255669 -41.063281 \nL 459.803672 -41.063281 \nL 462.351674 -41.063281 \nL 464.899677 -41.063281 \nL 467.44768 -41.063281 \nL 469.995683 -41.063281 \nL 472.543685 -41.063281 \nL 475.091688 -41.063281 \nL 477.639691 -41.063281 \nL 480.187694 -41.063281 \nL 482.735696 -41.063281 \nL 485.283699 -41.063281 \nL 487.831702 -41.063281 \nL 490.379705 -41.063281 \nL 492.927707 -41.063281 \nL 495.47571 -41.063281 \nL 498.023713 -41.063281 \nL 500.571716 -41.063281 \nL 503.119718 -41.063281 \nL 505.667721 -41.063281 \nL 508.215724 -41.063281 \nL 510.763727 -41.063281 \nL 513.311729 -41.063281 \nL 515.859732 -41.063281 \nL 518.407735 -41.063281 \nL 520.955738 -41.063281 \nL 523.50374 -41.063281 \nL 526.051743 -41.063281 \nL 528.599746 -41.063281 \nL 531.147749 -41.063281 \nL 533.695752 -41.063281 \nL 536.243754 -41.063281 \nL 538.791757 -41.063281 \nL 541.33976 -41.063281 \nL 543.887763 -41.063281 \nL 546.435765 -41.063281 \nL 548.983768 -41.063281 \nL 551.531771 -41.063281 \nL 554.079774 -41.063281 \nL 556.627776 -41.063281 \nL 559.175779 -41.063281 \nL 561.723782 -41.063281 \nL 564.271785 -41.063281 \nL 566.819787 -41.063281 \nL 569.36779 -41.063281 \nL 571.915793 -41.063281 \nL 574.463796 -41.063281 \nL 577.011798 -41.063281 \nL 579.559801 -41.063281 \nL 579.559801 -41.066034 \nL 579.559801 -41.066034 \nL 577.011798 -41.068697 \nL 574.463796 -41.073367 \nL 571.915793 -41.081056 \nL 569.36779 -41.092925 \nL 566.819787 -41.110068 \nL 564.271785 -41.133162 \nL 561.723782 -41.162056 \nL 559.175779 -41.195405 \nL 556.627776 -41.230532 \nL 554.079774 -41.263638 \nL 551.531771 -41.290419 \nL 548.983768 -41.306965 \nL 546.435765 -41.310689 \nL 543.887763 -41.300995 \nL 541.33976 -41.279434 \nL 538.791757 -41.249302 \nL 536.243754 -41.214838 \nL 533.695752 -41.180283 \nL 531.147749 -41.149134 \nL 528.599746 -41.123783 \nL 526.051743 -41.105608 \nL 523.50374 -41.095423 \nL 520.955738 -41.094127 \nL 518.407735 -41.103331 \nL 515.859732 -41.125775 \nL 513.311729 -41.165352 \nL 510.763727 -41.226592 \nL 508.215724 -41.313597 \nL 505.667721 -41.428557 \nL 503.119718 -41.57023 \nL 500.571716 -41.732901 \nL 498.023713 -41.90633 \nL 495.47571 -42.076938 \nL 492.927707 -42.230007 \nL 490.379705 -42.352245 \nL 487.831702 -42.433914 \nL 485.283699 -42.469895 \nL 482.735696 -42.459593 \nL 480.187694 -42.406096 \nL 477.639691 -42.31522 \nL 475.091688 -42.19497 \nL 472.543685 -42.05554 \nL 469.995683 -41.909667 \nL 467.44768 -41.773072 \nL 464.899677 -41.664814 \nL 462.351674 -41.607521 \nL 459.803672 -41.627315 \nL 457.255669 -41.752874 \nL 454.707666 -42.01267 \nL 452.159663 -42.429506 \nL 449.611661 -43.012293 \nL 447.063658 -43.746594 \nL 444.515655 -44.587179 \nL 441.967652 -45.456651 \nL 439.419649 -46.253301 \nL 436.871647 -46.868452 \nL 434.323644 -47.209697 \nL 431.775641 -47.223255 \nL 429.227638 -46.90805 \nL 426.679636 -46.316644 \nL 424.131633 -45.542879 \nL 421.58363 -44.700882 \nL 419.035627 -43.90271 \nL 416.487625 -43.241352 \nL 413.939622 -42.782641 \nL 411.391619 -42.565669 \nL 408.843616 -42.608465 \nL 406.295614 -42.914884 \nL 403.747611 -43.479785 \nL 401.199608 -44.291383 \nL 398.651605 -45.331031 \nL 396.103603 -46.571038 \nL 393.5556 -47.970857 \nL 391.007597 -49.471991 \nL 388.459594 -50.993154 \nL 385.911592 -52.429032 \nL 383.363589 -53.657249 \nL 380.815586 -54.556812 \nL 378.267583 -55.037015 \nL 375.719581 -55.069704 \nL 373.171578 -54.713138 \nL 370.623575 -54.115444 \nL 368.075572 -53.490911 \nL 365.52757 -53.071603 \nL 362.979567 -53.046292 \nL 360.431564 -53.50487 \nL 357.883561 -54.406694 \nL 355.335558 -55.585496 \nL 352.787556 -56.792951 \nL 350.239553 -57.770862 \nL 347.69155 -58.331901 \nL 345.143547 -58.424702 \nL 342.595545 -58.162875 \nL 340.047542 -57.808531 \nL 337.499539 -57.715317 \nL 334.951536 -58.248594 \nL 332.403534 -59.706347 \nL 329.855531 -62.261806 \nL 327.307528 -65.938803 \nL 324.759525 -70.617731 \nL 322.211523 -76.059409 \nL 319.66352 -81.931031 \nL 317.115517 -87.824684 \nL 314.567514 -93.271446 \nL 312.019512 -97.76521 \nL 309.471509 -100.811812 \nL 306.923506 -102.007643 \nL 304.375503 -101.132888 \nL 301.827501 -98.229772 \nL 299.279498 -93.636364 \nL 296.731495 -87.963457 \nL 294.183492 -82.026329 \nL 291.63549 -76.759518 \nL 289.087487 -73.140238 \nL 286.539484 -72.125565 \nL 283.991481 -74.583149 \nL 281.443479 -81.183128 \nL 278.895476 -92.232837 \nL 276.347473 -107.474967 \nL 273.79947 -125.917349 \nL 271.251468 -145.791587 \nL 268.703465 -164.724054 \nL 266.155462 -180.139216 \nL 263.607459 -189.821114 \nL 261.059456 -192.475472 \nL 258.511454 -188.1062 \nL 255.963451 -178.068009 \nL 253.415448 -164.766216 \nL 250.867445 -151.09872 \nL 248.319443 -139.819427 \nL 245.77144 -133.013423 \nL 243.223437 -131.814001 \nL 240.675434 -136.392609 \nL 238.127432 -146.159188 \nL 235.579429 -160.057063 \nL 233.031426 -176.837283 \nL 230.483423 -195.241471 \nL 227.935421 -214.082808 \nL 225.387418 -232.260608 \nL 222.839415 -248.756288 \nL 220.291412 -262.64037 \nL 217.74341 -273.093967 \nL 215.195407 -279.438691 \nL 212.647404 -281.182938 \nL 210.099401 -278.11192 \nL 207.551399 -270.444567 \nL 205.003396 -259.037992 \nL 202.455393 -245.556541 \nL 199.90739 -232.478667 \nL 197.359388 -222.829822 \nL 194.811385 -219.613503 \nL 192.263382 -225.038361 \nL 189.715379 -239.755673 \nL 187.167377 -262.375649 \nL 184.619374 -289.489735 \nL 182.071371 -316.288713 \nL 179.523368 -337.669759 \nL 176.975365 -349.537736 \nL 174.427363 -349.904584 \nL 171.87936 -339.428622 \nL 169.331357 -321.210418 \nL 166.783354 -299.909322 \nL 164.235352 -280.466808 \nL 161.687349 -266.834999 \nL 159.139346 -261.07837 \nL 156.591343 -263.069827 \nL 154.043341 -270.802744 \nL 151.495338 -281.157589 \nL 148.947335 -290.848103 \nL 146.399332 -297.254001 \nL 143.85133 -298.921445 \nL 141.303327 -295.647636 \nL 138.755324 -288.209256 \nL 136.207321 -277.89329 \nL 133.659319 -266.013163 \nL 131.111316 -253.550229 \nL 128.563313 -240.985425 \nL 126.01531 -228.316608 \nL 123.467308 -215.213791 \nL 120.919305 -201.245796 \nL 118.371302 -186.107712 \nL 115.823299 -169.784914 \nL 113.275297 -152.609415 \nL 110.727294 -135.199222 \nL 108.179291 -118.311507 \nL 105.631288 -102.668418 \nL 103.083286 -88.816401 \nL 100.535283 -77.056587 \nL 97.98728 -67.449516 \nL 95.439277 -59.870393 \nL 92.891274 -54.081799 \nL 90.343272 -49.797911 \nL 87.795269 -46.728756 \nL 85.247266 -44.605221 \nL 82.699263 -43.191085 \nL 80.151261 -42.288048 \nL 77.603258 -41.737022 \nL 75.055255 -41.416713 \nL 72.507252 -41.239771 \nz\n\" id=\"mb520653dfb\" style=\"stroke:#ff7f0e;\"/>\n    </defs>\n    <g clip-path=\"url(#p005231c17b)\">\n     <use style=\"fill:#ff7f0e;fill-opacity:0.25;stroke:#ff7f0e;\" x=\"0\" xlink:href=\"#mb520653dfb\" y=\"394.982656\"/>\n    </g>\n   </g>\n   <g id=\"PolyCollection_2\">\n    <defs>\n     <path d=\"M 72.287074 -41.235624 \nL 72.287074 -41.063281 \nL 74.550727 -41.063281 \nL 76.81438 -41.063281 \nL 79.078033 -41.063281 \nL 81.341686 -41.063281 \nL 83.605339 -41.063281 \nL 85.868992 -41.063281 \nL 88.132645 -41.063281 \nL 90.396298 -41.063281 \nL 92.659951 -41.063281 \nL 94.923604 -41.063281 \nL 97.187257 -41.063281 \nL 99.45091 -41.063281 \nL 101.714563 -41.063281 \nL 103.978216 -41.063281 \nL 106.241869 -41.063281 \nL 108.505522 -41.063281 \nL 110.769175 -41.063281 \nL 113.032828 -41.063281 \nL 115.296481 -41.063281 \nL 117.560134 -41.063281 \nL 119.823787 -41.063281 \nL 122.08744 -41.063281 \nL 124.351093 -41.063281 \nL 126.614746 -41.063281 \nL 128.878399 -41.063281 \nL 131.142052 -41.063281 \nL 133.405705 -41.063281 \nL 135.669358 -41.063281 \nL 137.933011 -41.063281 \nL 140.196664 -41.063281 \nL 142.460317 -41.063281 \nL 144.72397 -41.063281 \nL 146.987623 -41.063281 \nL 149.251276 -41.063281 \nL 151.514929 -41.063281 \nL 153.778582 -41.063281 \nL 156.042235 -41.063281 \nL 158.305888 -41.063281 \nL 160.569541 -41.063281 \nL 162.833194 -41.063281 \nL 165.096847 -41.063281 \nL 167.3605 -41.063281 \nL 169.624153 -41.063281 \nL 171.887806 -41.063281 \nL 174.151459 -41.063281 \nL 176.415112 -41.063281 \nL 178.678765 -41.063281 \nL 180.942418 -41.063281 \nL 183.206071 -41.063281 \nL 185.469724 -41.063281 \nL 187.733377 -41.063281 \nL 189.99703 -41.063281 \nL 192.260683 -41.063281 \nL 194.524336 -41.063281 \nL 196.787989 -41.063281 \nL 199.051642 -41.063281 \nL 201.315295 -41.063281 \nL 203.578948 -41.063281 \nL 205.842601 -41.063281 \nL 208.106254 -41.063281 \nL 210.369907 -41.063281 \nL 212.63356 -41.063281 \nL 214.897213 -41.063281 \nL 217.160866 -41.063281 \nL 219.424519 -41.063281 \nL 221.688172 -41.063281 \nL 223.951825 -41.063281 \nL 226.215478 -41.063281 \nL 228.479131 -41.063281 \nL 230.742784 -41.063281 \nL 233.006437 -41.063281 \nL 235.27009 -41.063281 \nL 237.533743 -41.063281 \nL 239.797396 -41.063281 \nL 242.061049 -41.063281 \nL 244.324702 -41.063281 \nL 246.588355 -41.063281 \nL 248.852008 -41.063281 \nL 251.115661 -41.063281 \nL 253.379314 -41.063281 \nL 255.642967 -41.063281 \nL 257.90662 -41.063281 \nL 260.170273 -41.063281 \nL 262.433926 -41.063281 \nL 264.697578 -41.063281 \nL 266.961231 -41.063281 \nL 269.224884 -41.063281 \nL 271.488537 -41.063281 \nL 273.75219 -41.063281 \nL 276.015843 -41.063281 \nL 278.279496 -41.063281 \nL 280.543149 -41.063281 \nL 282.806802 -41.063281 \nL 285.070455 -41.063281 \nL 287.334108 -41.063281 \nL 289.597761 -41.063281 \nL 291.861414 -41.063281 \nL 294.125067 -41.063281 \nL 296.38872 -41.063281 \nL 298.652373 -41.063281 \nL 300.916026 -41.063281 \nL 303.179679 -41.063281 \nL 305.443332 -41.063281 \nL 307.706985 -41.063281 \nL 309.970638 -41.063281 \nL 312.234291 -41.063281 \nL 314.497944 -41.063281 \nL 316.761597 -41.063281 \nL 319.02525 -41.063281 \nL 321.288903 -41.063281 \nL 323.552556 -41.063281 \nL 325.816209 -41.063281 \nL 328.079862 -41.063281 \nL 330.343515 -41.063281 \nL 332.607168 -41.063281 \nL 334.870821 -41.063281 \nL 337.134474 -41.063281 \nL 339.398127 -41.063281 \nL 341.66178 -41.063281 \nL 343.925433 -41.063281 \nL 346.189086 -41.063281 \nL 348.452739 -41.063281 \nL 350.716392 -41.063281 \nL 352.980045 -41.063281 \nL 355.243698 -41.063281 \nL 357.507351 -41.063281 \nL 359.771004 -41.063281 \nL 362.034657 -41.063281 \nL 364.29831 -41.063281 \nL 366.561963 -41.063281 \nL 368.825616 -41.063281 \nL 371.089269 -41.063281 \nL 373.352922 -41.063281 \nL 375.616575 -41.063281 \nL 377.880228 -41.063281 \nL 380.143881 -41.063281 \nL 382.407534 -41.063281 \nL 384.671187 -41.063281 \nL 386.93484 -41.063281 \nL 389.198493 -41.063281 \nL 391.462146 -41.063281 \nL 393.725799 -41.063281 \nL 395.989452 -41.063281 \nL 398.253105 -41.063281 \nL 400.516758 -41.063281 \nL 402.780411 -41.063281 \nL 405.044064 -41.063281 \nL 407.307717 -41.063281 \nL 409.57137 -41.063281 \nL 411.835023 -41.063281 \nL 414.098676 -41.063281 \nL 416.362329 -41.063281 \nL 418.625982 -41.063281 \nL 420.889635 -41.063281 \nL 423.153288 -41.063281 \nL 425.416941 -41.063281 \nL 427.680594 -41.063281 \nL 429.944247 -41.063281 \nL 432.2079 -41.063281 \nL 434.471553 -41.063281 \nL 436.735206 -41.063281 \nL 438.998859 -41.063281 \nL 441.262512 -41.063281 \nL 443.526165 -41.063281 \nL 445.789818 -41.063281 \nL 448.053471 -41.063281 \nL 450.317124 -41.063281 \nL 452.580777 -41.063281 \nL 454.84443 -41.063281 \nL 457.108083 -41.063281 \nL 459.371736 -41.063281 \nL 461.635389 -41.063281 \nL 463.899042 -41.063281 \nL 466.162695 -41.063281 \nL 468.426348 -41.063281 \nL 470.690001 -41.063281 \nL 472.953654 -41.063281 \nL 475.217307 -41.063281 \nL 477.48096 -41.063281 \nL 479.744613 -41.063281 \nL 482.008266 -41.063281 \nL 484.271919 -41.063281 \nL 486.535572 -41.063281 \nL 488.799225 -41.063281 \nL 491.062878 -41.063281 \nL 493.326531 -41.063281 \nL 495.590184 -41.063281 \nL 497.853837 -41.063281 \nL 500.11749 -41.063281 \nL 502.381143 -41.063281 \nL 504.644796 -41.063281 \nL 506.908449 -41.063281 \nL 509.172102 -41.063281 \nL 511.435755 -41.063281 \nL 513.699408 -41.063281 \nL 515.963061 -41.063281 \nL 518.226714 -41.063281 \nL 520.490367 -41.063281 \nL 522.75402 -41.063281 \nL 522.75402 -41.074286 \nL 522.75402 -41.074286 \nL 520.490367 -41.083377 \nL 518.226714 -41.098457 \nL 515.963061 -41.12231 \nL 513.699408 -41.158273 \nL 511.435755 -41.209917 \nL 509.172102 -41.280497 \nL 506.908449 -41.372213 \nL 504.644796 -41.485393 \nL 502.381143 -41.617821 \nL 500.11749 -41.764421 \nL 497.853837 -41.91748 \nL 495.590184 -42.067455 \nL 493.326531 -42.204206 \nL 491.062878 -42.318389 \nL 488.799225 -42.402646 \nL 486.535572 -42.452329 \nL 484.271919 -42.46565 \nL 482.008266 -42.443388 \nL 479.744613 -42.388378 \nL 477.48096 -42.305063 \nL 475.217307 -42.199282 \nL 472.953654 -42.078304 \nL 470.690001 -41.951048 \nL 468.426348 -41.828364 \nL 466.162695 -41.723295 \nL 463.899042 -41.651298 \nL 461.635389 -41.630335 \nL 459.371736 -41.680666 \nL 457.108083 -41.823962 \nL 454.84443 -42.081297 \nL 452.580777 -42.469671 \nL 450.317124 -42.997156 \nL 448.053471 -43.657376 \nL 445.789818 -44.424765 \nL 443.526165 -45.252418 \nL 441.262512 -46.074204 \nL 438.998859 -46.811906 \nL 436.735206 -47.386699 \nL 434.471553 -47.73276 \nL 432.2079 -47.809756 \nL 429.944247 -47.610934 \nL 427.680594 -47.164654 \nL 425.416941 -46.529075 \nL 423.153288 -45.781665 \nL 420.889635 -45.006543 \nL 418.625982 -44.282925 \nL 416.362329 -43.67705 \nL 414.098676 -43.238527 \nL 411.835023 -43.00053 \nL 409.57137 -42.98229 \nL 407.307717 -43.192177 \nL 405.044064 -43.630121 \nL 402.780411 -44.288875 \nL 400.516758 -45.15426 \nL 398.253105 -46.204774 \nL 395.989452 -47.410817 \nL 393.725799 -48.733534 \nL 391.462146 -50.12331 \nL 389.198493 -51.518377 \nL 386.93484 -52.844777 \nL 384.671187 -54.019545 \nL 382.407534 -54.958803 \nL 380.143881 -55.591229 \nL 377.880228 -55.875163 \nL 375.616575 -55.815287 \nL 373.352922 -55.473364 \nL 371.089269 -54.967853 \nL 368.825616 -54.459539 \nL 366.561963 -54.124011 \nL 364.29831 -54.115932 \nL 362.034657 -54.533079 \nL 359.771004 -55.389351 \nL 357.507351 -56.604657 \nL 355.243698 -58.016113 \nL 352.980045 -59.409931 \nL 350.716392 -60.567987 \nL 348.452739 -61.31879 \nL 346.189086 -61.580766 \nL 343.925433 -61.387224 \nL 341.66178 -60.886827 \nL 339.398127 -60.319714 \nL 337.134474 -59.975547 \nL 334.870821 -60.143953 \nL 332.607168 -61.06871 \nL 330.343515 -62.914577 \nL 328.079862 -65.750781 \nL 325.816209 -69.549661 \nL 323.552556 -74.19475 \nL 321.288903 -79.49131 \nL 319.02525 -85.174525 \nL 316.761597 -90.9154 \nL 314.497944 -96.329627 \nL 312.234291 -100.997437 \nL 309.970638 -104.500686 \nL 307.706985 -106.477023 \nL 305.443332 -106.682584 \nL 303.179679 -105.048166 \nL 300.916026 -101.713074 \nL 298.652373 -97.026768 \nL 296.38872 -91.518817 \nL 294.125067 -85.847633 \nL 291.861414 -80.743134 \nL 289.597761 -76.955443 \nL 287.334108 -75.212448 \nL 285.070455 -76.178205 \nL 282.806802 -80.397911 \nL 280.543149 -88.21794 \nL 278.279496 -99.682032 \nL 276.015843 -114.423401 \nL 273.75219 -131.589546 \nL 271.488537 -149.843119 \nL 269.224884 -167.472036 \nL 266.961231 -182.614597 \nL 264.697578 -193.568053 \nL 262.433926 -199.114837 \nL 260.170273 -198.783825 \nL 257.90662 -192.973339 \nL 255.642967 -182.897288 \nL 253.379314 -170.364642 \nL 251.115661 -157.44836 \nL 248.852008 -146.127235 \nL 246.588355 -137.984772 \nL 244.324702 -134.025133 \nL 242.061049 -134.627826 \nL 239.797396 -139.623814 \nL 237.533743 -148.448114 \nL 235.27009 -160.314295 \nL 233.006437 -174.364319 \nL 230.742784 -189.767221 \nL 228.479131 -205.763022 \nL 226.215478 -221.66558 \nL 223.951825 -236.84467 \nL 221.688172 -250.704384 \nL 219.424519 -262.667546 \nL 217.160866 -272.17099 \nL 214.897213 -278.677928 \nL 212.63356 -281.718377 \nL 210.369907 -280.9697 \nL 208.106254 -276.37972 \nL 205.842601 -268.313767 \nL 203.578948 -257.681904 \nL 201.315295 -245.986212 \nL 199.051642 -235.232168 \nL 196.787989 -227.677009 \nL 194.524336 -225.435309 \nL 192.260683 -230.013624 \nL 189.99703 -241.884658 \nL 187.733377 -260.222524 \nL 185.469724 -282.89703 \nL 183.206071 -306.76851 \nL 180.942418 -328.247878 \nL 178.678765 -344.009562 \nL 176.415112 -351.691853 \nL 174.151459 -350.409533 \nL 171.887806 -340.944585 \nL 169.624153 -325.562624 \nL 167.3605 -307.500887 \nL 165.096847 -290.257784 \nL 162.833194 -276.859394 \nL 160.569541 -269.274304 \nL 158.305888 -268.100311 \nL 156.042235 -272.571903 \nL 153.778582 -280.857803 \nL 151.514929 -290.552893 \nL 149.251276 -299.232494 \nL 146.987623 -304.935844 \nL 144.72397 -306.47753 \nL 142.460317 -303.540464 \nL 140.196664 -296.564708 \nL 137.933011 -286.495156 \nL 135.669358 -274.474671 \nL 133.405705 -261.564697 \nL 131.142052 -248.549992 \nL 128.878399 -235.850725 \nL 126.614746 -223.535831 \nL 124.351093 -211.412452 \nL 122.08744 -199.15769 \nL 119.823787 -186.457743 \nL 117.560134 -173.1233 \nL 115.296481 -159.158144 \nL 113.032828 -144.770132 \nL 110.769175 -130.328595 \nL 108.505522 -116.285802 \nL 106.241869 -103.087936 \nL 103.978216 -91.100215 \nL 101.714563 -80.562236 \nL 99.45091 -71.577472 \nL 97.187257 -64.13011 \nL 94.923604 -58.116862 \nL 92.659951 -53.38148 \nL 90.396298 -49.743792 \nL 88.132645 -47.020145 \nL 85.868992 -45.03595 \nL 83.605339 -43.632697 \nL 81.341686 -42.671716 \nL 79.078033 -42.036012 \nL 76.81438 -41.630697 \nL 74.550727 -41.382093 \nL 72.287074 -41.235624 \nz\n\" id=\"m7d6944370e\" style=\"stroke:#1f77b4;\"/>\n    </defs>\n    <g clip-path=\"url(#p005231c17b)\">\n     <use style=\"fill:#1f77b4;fill-opacity:0.25;stroke:#1f77b4;\" x=\"0\" xlink:href=\"#m7d6944370e\" y=\"394.982656\"/>\n    </g>\n   </g>\n   <g id=\"patch_3\">\n    <path d=\"M 46.923438 353.919375 \nL 46.923438 27.759375 \n\" style=\"fill:none;stroke:#cccccc;stroke-linecap:square;stroke-linejoin:miter;stroke-width:0.8;\"/>\n   </g>\n   <g id=\"patch_4\">\n    <path d=\"M 604.923437 353.919375 \nL 604.923437 27.759375 \n\" style=\"fill:none;stroke:#cccccc;stroke-linecap:square;stroke-linejoin:miter;stroke-width:0.8;\"/>\n   </g>\n   <g id=\"patch_5\">\n    <path d=\"M 46.923437 353.919375 \nL 604.923437 353.919375 \n\" style=\"fill:none;stroke:#cccccc;stroke-linecap:square;stroke-linejoin:miter;stroke-width:0.8;\"/>\n   </g>\n   <g id=\"patch_6\">\n    <path d=\"M 46.923437 27.759375 \nL 604.923437 27.759375 \n\" style=\"fill:none;stroke:#cccccc;stroke-linecap:square;stroke-linejoin:miter;stroke-width:0.8;\"/>\n   </g>\n   <g id=\"text_18\">\n    <!-- Number of events per user -->\n    <defs>\n     <path d=\"M 7.625 0 \nL 7.625 71.578125 \nL 17.328125 71.578125 \nL 54.9375 15.375 \nL 54.9375 71.578125 \nL 64.015625 71.578125 \nL 64.015625 0 \nL 54.296875 0 \nL 16.703125 56.25 \nL 16.703125 0 \nz\n\" id=\"ArialMT-78\"/>\n     <path d=\"M 6.59375 0 \nL 6.59375 51.859375 \nL 14.453125 51.859375 \nL 14.453125 44.578125 \nQ 16.890625 48.390625 20.9375 50.703125 \nQ 25 53.03125 30.171875 53.03125 \nQ 35.9375 53.03125 39.625 50.640625 \nQ 43.3125 48.25 44.828125 43.953125 \nQ 50.984375 53.03125 60.84375 53.03125 \nQ 68.5625 53.03125 72.703125 48.75 \nQ 76.859375 44.484375 76.859375 35.59375 \nL 76.859375 0 \nL 68.109375 0 \nL 68.109375 32.671875 \nQ 68.109375 37.9375 67.25 40.25 \nQ 66.40625 42.578125 64.15625 43.984375 \nQ 61.921875 45.40625 58.890625 45.40625 \nQ 53.421875 45.40625 49.796875 41.765625 \nQ 46.1875 38.140625 46.1875 30.125 \nL 46.1875 0 \nL 37.40625 0 \nL 37.40625 33.6875 \nQ 37.40625 39.546875 35.25 42.46875 \nQ 33.109375 45.40625 28.21875 45.40625 \nQ 24.515625 45.40625 21.359375 43.453125 \nQ 18.21875 41.5 16.796875 37.734375 \nQ 15.375 33.984375 15.375 26.90625 \nL 15.375 0 \nz\n\" id=\"ArialMT-109\"/>\n     <path d=\"M 14.703125 0 \nL 6.546875 0 \nL 6.546875 71.578125 \nL 15.328125 71.578125 \nL 15.328125 46.046875 \nQ 20.90625 53.03125 29.546875 53.03125 \nQ 34.328125 53.03125 38.59375 51.09375 \nQ 42.875 49.171875 45.625 45.671875 \nQ 48.390625 42.1875 49.953125 37.25 \nQ 51.515625 32.328125 51.515625 26.703125 \nQ 51.515625 13.375 44.921875 6.09375 \nQ 38.328125 -1.171875 29.109375 -1.171875 \nQ 19.921875 -1.171875 14.703125 6.5 \nz\nM 14.59375 26.3125 \nQ 14.59375 17 17.140625 12.84375 \nQ 21.296875 6.0625 28.375 6.0625 \nQ 34.125 6.0625 38.328125 11.0625 \nQ 42.53125 16.0625 42.53125 25.984375 \nQ 42.53125 36.140625 38.5 40.96875 \nQ 34.46875 45.796875 28.765625 45.796875 \nQ 23 45.796875 18.796875 40.796875 \nQ 14.59375 35.796875 14.59375 26.3125 \nz\n\" id=\"ArialMT-98\"/>\n     <path d=\"M 3.328125 25.921875 \nQ 3.328125 40.328125 11.328125 47.265625 \nQ 18.015625 53.03125 27.640625 53.03125 \nQ 38.328125 53.03125 45.109375 46.015625 \nQ 51.90625 39.015625 51.90625 26.65625 \nQ 51.90625 16.65625 48.90625 10.90625 \nQ 45.90625 5.171875 40.15625 2 \nQ 34.421875 -1.171875 27.640625 -1.171875 \nQ 16.75 -1.171875 10.03125 5.8125 \nQ 3.328125 12.796875 3.328125 25.921875 \nz\nM 12.359375 25.921875 \nQ 12.359375 15.96875 16.703125 11.015625 \nQ 21.046875 6.0625 27.640625 6.0625 \nQ 34.1875 6.0625 38.53125 11.03125 \nQ 42.875 16.015625 42.875 26.21875 \nQ 42.875 35.84375 38.5 40.796875 \nQ 34.125 45.75 27.640625 45.75 \nQ 21.046875 45.75 16.703125 40.8125 \nQ 12.359375 35.890625 12.359375 25.921875 \nz\n\" id=\"ArialMT-111\"/>\n     <path d=\"M 8.6875 0 \nL 8.6875 45.015625 \nL 0.921875 45.015625 \nL 0.921875 51.859375 \nL 8.6875 51.859375 \nL 8.6875 57.375 \nQ 8.6875 62.59375 9.625 65.140625 \nQ 10.890625 68.5625 14.078125 70.671875 \nQ 17.28125 72.796875 23.046875 72.796875 \nQ 26.765625 72.796875 31.25 71.921875 \nL 29.9375 64.265625 \nQ 27.203125 64.75 24.75 64.75 \nQ 20.75 64.75 19.09375 63.03125 \nQ 17.4375 61.328125 17.4375 56.640625 \nL 17.4375 51.859375 \nL 27.546875 51.859375 \nL 27.546875 45.015625 \nL 17.4375 45.015625 \nL 17.4375 0 \nz\n\" id=\"ArialMT-102\"/>\n    </defs>\n    <g style=\"fill:#262626;\" transform=\"translate(207.54375 21.759375)scale(0.2 -0.2)\">\n     <use xlink:href=\"#ArialMT-78\"/>\n     <use x=\"72.216797\" xlink:href=\"#ArialMT-117\"/>\n     <use x=\"127.832031\" xlink:href=\"#ArialMT-109\"/>\n     <use x=\"211.132812\" xlink:href=\"#ArialMT-98\"/>\n     <use x=\"266.748047\" xlink:href=\"#ArialMT-101\"/>\n     <use x=\"322.363281\" xlink:href=\"#ArialMT-114\"/>\n     <use x=\"355.664062\" xlink:href=\"#ArialMT-32\"/>\n     <use x=\"383.447266\" xlink:href=\"#ArialMT-111\"/>\n     <use x=\"439.0625\" xlink:href=\"#ArialMT-102\"/>\n     <use x=\"466.845703\" xlink:href=\"#ArialMT-32\"/>\n     <use x=\"494.628906\" xlink:href=\"#ArialMT-101\"/>\n     <use x=\"550.244141\" xlink:href=\"#ArialMT-118\"/>\n     <use x=\"600.244141\" xlink:href=\"#ArialMT-101\"/>\n     <use x=\"655.859375\" xlink:href=\"#ArialMT-110\"/>\n     <use x=\"711.474609\" xlink:href=\"#ArialMT-116\"/>\n     <use x=\"739.257812\" xlink:href=\"#ArialMT-115\"/>\n     <use x=\"789.257812\" xlink:href=\"#ArialMT-32\"/>\n     <use x=\"817.041016\" xlink:href=\"#ArialMT-112\"/>\n     <use x=\"872.65625\" xlink:href=\"#ArialMT-101\"/>\n     <use x=\"928.271484\" xlink:href=\"#ArialMT-114\"/>\n     <use x=\"961.572266\" xlink:href=\"#ArialMT-32\"/>\n     <use x=\"989.355469\" xlink:href=\"#ArialMT-117\"/>\n     <use x=\"1044.970703\" xlink:href=\"#ArialMT-115\"/>\n     <use x=\"1094.970703\" xlink:href=\"#ArialMT-101\"/>\n     <use x=\"1150.585938\" xlink:href=\"#ArialMT-114\"/>\n    </g>\n   </g>\n   <g id=\"legend_1\">\n    <g id=\"patch_7\">\n     <path d=\"M 559.253125 78.3125 \nL 597.923437 78.3125 \nQ 599.923437 78.3125 599.923437 76.3125 \nL 599.923437 34.759375 \nQ 599.923437 32.759375 597.923437 32.759375 \nL 559.253125 32.759375 \nQ 557.253125 32.759375 557.253125 34.759375 \nL 557.253125 76.3125 \nQ 557.253125 78.3125 559.253125 78.3125 \nz\n\" style=\"fill:#ffffff;opacity:0.8;stroke:#cccccc;stroke-linejoin:miter;\"/>\n    </g>\n    <g id=\"text_19\">\n     <!-- group -->\n     <defs>\n      <path d=\"M 4.984375 -4.296875 \nL 13.53125 -5.5625 \nQ 14.0625 -9.515625 16.5 -11.328125 \nQ 19.78125 -13.765625 25.4375 -13.765625 \nQ 31.546875 -13.765625 34.859375 -11.328125 \nQ 38.1875 -8.890625 39.359375 -4.5 \nQ 40.046875 -1.8125 39.984375 6.78125 \nQ 34.234375 0 25.640625 0 \nQ 14.9375 0 9.078125 7.71875 \nQ 3.21875 15.4375 3.21875 26.21875 \nQ 3.21875 33.640625 5.90625 39.90625 \nQ 8.59375 46.1875 13.6875 49.609375 \nQ 18.796875 53.03125 25.6875 53.03125 \nQ 34.859375 53.03125 40.828125 45.609375 \nL 40.828125 51.859375 \nL 48.921875 51.859375 \nL 48.921875 7.03125 \nQ 48.921875 -5.078125 46.453125 -10.125 \nQ 44 -15.1875 38.640625 -18.109375 \nQ 33.296875 -21.046875 25.484375 -21.046875 \nQ 16.21875 -21.046875 10.5 -16.875 \nQ 4.78125 -12.703125 4.984375 -4.296875 \nz\nM 12.25 26.859375 \nQ 12.25 16.65625 16.296875 11.96875 \nQ 20.359375 7.28125 26.46875 7.28125 \nQ 32.515625 7.28125 36.609375 11.9375 \nQ 40.71875 16.609375 40.71875 26.5625 \nQ 40.71875 36.078125 36.5 40.90625 \nQ 32.28125 45.75 26.3125 45.75 \nQ 20.453125 45.75 16.34375 40.984375 \nQ 12.25 36.234375 12.25 26.859375 \nz\n\" id=\"ArialMT-103\"/>\n     </defs>\n     <g style=\"fill:#262626;\" transform=\"translate(565.801562 43.917187)scale(0.1 -0.1)\">\n      <use xlink:href=\"#ArialMT-103\"/>\n      <use x=\"55.615234\" xlink:href=\"#ArialMT-114\"/>\n      <use x=\"88.916016\" xlink:href=\"#ArialMT-111\"/>\n      <use x=\"144.53125\" xlink:href=\"#ArialMT-117\"/>\n      <use x=\"200.146484\" xlink:href=\"#ArialMT-112\"/>\n     </g>\n    </g>\n    <g id=\"patch_8\">\n     <path d=\"M 561.253125 58.179687 \nL 581.253125 58.179687 \nL 581.253125 51.179687 \nL 561.253125 51.179687 \nz\n\" style=\"fill:#1f77b4;fill-opacity:0.25;stroke:#1f77b4;stroke-linejoin:miter;\"/>\n    </g>\n    <g id=\"text_20\">\n     <!-- A -->\n     <defs>\n      <path d=\"M -0.140625 0 \nL 27.34375 71.578125 \nL 37.546875 71.578125 \nL 66.84375 0 \nL 56.0625 0 \nL 47.703125 21.6875 \nL 17.78125 21.6875 \nL 9.90625 0 \nz\nM 20.515625 29.390625 \nL 44.78125 29.390625 \nL 37.3125 49.21875 \nQ 33.890625 58.25 32.234375 64.0625 \nQ 30.859375 57.171875 28.375 50.390625 \nz\n\" id=\"ArialMT-65\"/>\n     </defs>\n     <g style=\"fill:#262626;\" transform=\"translate(589.253125 58.179687)scale(0.1 -0.1)\">\n      <use xlink:href=\"#ArialMT-65\"/>\n     </g>\n    </g>\n    <g id=\"patch_9\">\n     <path d=\"M 561.253125 72.325 \nL 581.253125 72.325 \nL 581.253125 65.325 \nL 561.253125 65.325 \nz\n\" style=\"fill:#ff7f0e;fill-opacity:0.25;stroke:#ff7f0e;stroke-linejoin:miter;\"/>\n    </g>\n    <g id=\"text_21\">\n     <!-- B -->\n     <defs>\n      <path d=\"M 7.328125 0 \nL 7.328125 71.578125 \nL 34.1875 71.578125 \nQ 42.390625 71.578125 47.34375 69.40625 \nQ 52.296875 67.234375 55.09375 62.71875 \nQ 57.90625 58.203125 57.90625 53.265625 \nQ 57.90625 48.6875 55.421875 44.625 \nQ 52.9375 40.578125 47.90625 38.09375 \nQ 54.390625 36.1875 57.875 31.59375 \nQ 61.375 27 61.375 20.75 \nQ 61.375 15.71875 59.25 11.390625 \nQ 57.125 7.078125 54 4.734375 \nQ 50.875 2.390625 46.15625 1.1875 \nQ 41.453125 0 34.625 0 \nz\nM 16.796875 41.5 \nL 32.28125 41.5 \nQ 38.578125 41.5 41.3125 42.328125 \nQ 44.921875 43.40625 46.75 45.890625 \nQ 48.578125 48.390625 48.578125 52.15625 \nQ 48.578125 55.71875 46.875 58.421875 \nQ 45.171875 61.140625 41.984375 62.140625 \nQ 38.8125 63.140625 31.109375 63.140625 \nL 16.796875 63.140625 \nz\nM 16.796875 8.453125 \nL 34.625 8.453125 \nQ 39.203125 8.453125 41.0625 8.796875 \nQ 44.34375 9.375 46.53125 10.734375 \nQ 48.734375 12.109375 50.140625 14.71875 \nQ 51.5625 17.328125 51.5625 20.75 \nQ 51.5625 24.75 49.515625 27.703125 \nQ 47.46875 30.671875 43.828125 31.859375 \nQ 40.1875 33.0625 33.34375 33.0625 \nL 16.796875 33.0625 \nz\n\" id=\"ArialMT-66\"/>\n     </defs>\n     <g style=\"fill:#262626;\" transform=\"translate(589.253125 72.325)scale(0.1 -0.1)\">\n      <use xlink:href=\"#ArialMT-66\"/>\n     </g>\n    </g>\n   </g>\n  </g>\n </g>\n <defs>\n  <clipPath id=\"p005231c17b\">\n   <rect height=\"326.16\" width=\"558\" x=\"46.923438\" y=\"27.759375\"/>\n  </clipPath>\n </defs>\n</svg>\n",
      "image/png": "[encoded data removed]"
     },
     "metadata": {}
    }
   ],
   "source": [
    "plt.figure(figsize=(10,6))\n",
    "plot=sns.kdeplot(data=events_per_user, x='event_name', hue='group', color='b', fill=True) \n",
    "plot.set_title('Number of events per user', fontsize=20)\n",
    "plot.set_xlabel('Events per user', fontsize=15)\n",
    "sns.set_style(\"whitegrid\") "
   ]
  },
  {
   "cell_type": "markdown",
   "metadata": {},
   "source": [
    "It is distributed more or less equally."
   ]
  },
  {
   "cell_type": "markdown",
   "metadata": {},
   "source": [
    "**Are there users who are present in both samples?**"
   ]
  },
  {
   "cell_type": "code",
   "execution_count": 38,
   "metadata": {},
   "outputs": [
    {
     "output_type": "execute_result",
     "data": {
      "text/plain": [
       "0"
      ]
     },
     "metadata": {},
     "execution_count": 38
    }
   ],
   "source": [
    "users_group = test_users_filtered.groupby('user_id', as_index=False).agg({'group' : pd.Series.nunique})\n",
    "group_duplicated = users_group.query('group>1')\n",
    "group_duplicated['user_id'].count()"
   ]
  },
  {
   "cell_type": "markdown",
   "metadata": {},
   "source": [
    "There are no users present in the both groups."
   ]
  },
  {
   "cell_type": "markdown",
   "metadata": {},
   "source": [
    "**How is the number of events distributed among days?**"
   ]
  },
  {
   "cell_type": "code",
   "execution_count": 39,
   "metadata": {},
   "outputs": [
    {
     "output_type": "display_data",
     "data": {
      "text/plain": "<Figure size 1080x504 with 1 Axes>",
      "image/svg+xml": "<?xml version=\"1.0\" encoding=\"utf-8\" standalone=\"no\"?>\n<!DOCTYPE svg PUBLIC \"-//W3C//DTD SVG 1.1//EN\"\n  \"http://www.w3.org/Graphics/SVG/1.1/DTD/svg11.dtd\">\n<!-- Created with matplotlib (https://matplotlib.org/) -->\n<svg height=\"528.693125pt\" version=\"1.1\" viewBox=\"0 0 899.27625 528.693125\" width=\"899.27625pt\" xmlns=\"http://www.w3.org/2000/svg\" xmlns:xlink=\"http://www.w3.org/1999/xlink\">\n <defs>\n  <style type=\"text/css\">\n*{stroke-linecap:butt;stroke-linejoin:round;}\n  </style>\n </defs>\n <g id=\"figure_1\">\n  <g id=\"patch_1\">\n   <path d=\"M 0 528.693125 \nL 899.27625 528.693125 \nL 899.27625 0 \nL 0 0 \nz\n\" style=\"fill:none;\"/>\n  </g>\n  <g id=\"axes_1\">\n   <g id=\"patch_2\">\n    <path d=\"M 55.07625 408.035625 \nL 892.07625 408.035625 \nL 892.07625 27.515625 \nL 55.07625 27.515625 \nz\n\" style=\"fill:#ffffff;\"/>\n   </g>\n   <g id=\"matplotlib.axis_1\">\n    <g id=\"xtick_1\">\n     <g id=\"text_1\">\n      <!-- December 07, 2020 -->\n      <defs>\n       <path d=\"M 7.71875 0 \nL 7.71875 71.578125 \nL 32.375 71.578125 \nQ 40.71875 71.578125 45.125 70.5625 \nQ 51.265625 69.140625 55.609375 65.4375 \nQ 61.28125 60.640625 64.078125 53.1875 \nQ 66.890625 45.75 66.890625 36.1875 \nQ 66.890625 28.03125 64.984375 21.734375 \nQ 63.09375 15.4375 60.109375 11.296875 \nQ 57.125 7.171875 53.578125 4.796875 \nQ 50.046875 2.4375 45.046875 1.21875 \nQ 40.046875 0 33.546875 0 \nz\nM 17.1875 8.453125 \nL 32.46875 8.453125 \nQ 39.546875 8.453125 43.578125 9.765625 \nQ 47.609375 11.078125 50 13.484375 \nQ 53.375 16.84375 55.25 22.53125 \nQ 57.125 28.21875 57.125 36.328125 \nQ 57.125 47.5625 53.4375 53.59375 \nQ 49.75 59.625 44.484375 61.671875 \nQ 40.671875 63.140625 32.234375 63.140625 \nL 17.1875 63.140625 \nz\n\" id=\"ArialMT-68\"/>\n       <path d=\"M 42.09375 16.703125 \nL 51.171875 15.578125 \nQ 49.03125 7.625 43.21875 3.21875 \nQ 37.40625 -1.171875 28.375 -1.171875 \nQ 17 -1.171875 10.328125 5.828125 \nQ 3.65625 12.84375 3.65625 25.484375 \nQ 3.65625 38.578125 10.390625 45.796875 \nQ 17.140625 53.03125 27.875 53.03125 \nQ 38.28125 53.03125 44.875 45.953125 \nQ 51.46875 38.875 51.46875 26.03125 \nQ 51.46875 25.25 51.421875 23.6875 \nL 12.75 23.6875 \nQ 13.234375 15.140625 17.578125 10.59375 \nQ 21.921875 6.0625 28.421875 6.0625 \nQ 33.25 6.0625 36.671875 8.59375 \nQ 40.09375 11.140625 42.09375 16.703125 \nz\nM 13.234375 30.90625 \nL 42.1875 30.90625 \nQ 41.609375 37.453125 38.875 40.71875 \nQ 34.671875 45.796875 27.984375 45.796875 \nQ 21.921875 45.796875 17.796875 41.75 \nQ 13.671875 37.703125 13.234375 30.90625 \nz\n\" id=\"ArialMT-101\"/>\n       <path d=\"M 40.4375 19 \nL 49.078125 17.875 \nQ 47.65625 8.9375 41.8125 3.875 \nQ 35.984375 -1.171875 27.484375 -1.171875 \nQ 16.84375 -1.171875 10.375 5.78125 \nQ 3.90625 12.75 3.90625 25.734375 \nQ 3.90625 34.125 6.6875 40.421875 \nQ 9.46875 46.734375 15.15625 49.875 \nQ 20.84375 53.03125 27.546875 53.03125 \nQ 35.984375 53.03125 41.359375 48.75 \nQ 46.734375 44.484375 48.25 36.625 \nL 39.703125 35.296875 \nQ 38.484375 40.53125 35.375 43.15625 \nQ 32.28125 45.796875 27.875 45.796875 \nQ 21.234375 45.796875 17.078125 41.03125 \nQ 12.9375 36.28125 12.9375 25.984375 \nQ 12.9375 15.53125 16.9375 10.796875 \nQ 20.953125 6.0625 27.390625 6.0625 \nQ 32.5625 6.0625 36.03125 9.234375 \nQ 39.5 12.40625 40.4375 19 \nz\n\" id=\"ArialMT-99\"/>\n       <path d=\"M 6.59375 0 \nL 6.59375 51.859375 \nL 14.453125 51.859375 \nL 14.453125 44.578125 \nQ 16.890625 48.390625 20.9375 50.703125 \nQ 25 53.03125 30.171875 53.03125 \nQ 35.9375 53.03125 39.625 50.640625 \nQ 43.3125 48.25 44.828125 43.953125 \nQ 50.984375 53.03125 60.84375 53.03125 \nQ 68.5625 53.03125 72.703125 48.75 \nQ 76.859375 44.484375 76.859375 35.59375 \nL 76.859375 0 \nL 68.109375 0 \nL 68.109375 32.671875 \nQ 68.109375 37.9375 67.25 40.25 \nQ 66.40625 42.578125 64.15625 43.984375 \nQ 61.921875 45.40625 58.890625 45.40625 \nQ 53.421875 45.40625 49.796875 41.765625 \nQ 46.1875 38.140625 46.1875 30.125 \nL 46.1875 0 \nL 37.40625 0 \nL 37.40625 33.6875 \nQ 37.40625 39.546875 35.25 42.46875 \nQ 33.109375 45.40625 28.21875 45.40625 \nQ 24.515625 45.40625 21.359375 43.453125 \nQ 18.21875 41.5 16.796875 37.734375 \nQ 15.375 33.984375 15.375 26.90625 \nL 15.375 0 \nz\n\" id=\"ArialMT-109\"/>\n       <path d=\"M 14.703125 0 \nL 6.546875 0 \nL 6.546875 71.578125 \nL 15.328125 71.578125 \nL 15.328125 46.046875 \nQ 20.90625 53.03125 29.546875 53.03125 \nQ 34.328125 53.03125 38.59375 51.09375 \nQ 42.875 49.171875 45.625 45.671875 \nQ 48.390625 42.1875 49.953125 37.25 \nQ 51.515625 32.328125 51.515625 26.703125 \nQ 51.515625 13.375 44.921875 6.09375 \nQ 38.328125 -1.171875 29.109375 -1.171875 \nQ 19.921875 -1.171875 14.703125 6.5 \nz\nM 14.59375 26.3125 \nQ 14.59375 17 17.140625 12.84375 \nQ 21.296875 6.0625 28.375 6.0625 \nQ 34.125 6.0625 38.328125 11.0625 \nQ 42.53125 16.0625 42.53125 25.984375 \nQ 42.53125 36.140625 38.5 40.96875 \nQ 34.46875 45.796875 28.765625 45.796875 \nQ 23 45.796875 18.796875 40.796875 \nQ 14.59375 35.796875 14.59375 26.3125 \nz\n\" id=\"ArialMT-98\"/>\n       <path d=\"M 6.5 0 \nL 6.5 51.859375 \nL 14.40625 51.859375 \nL 14.40625 44 \nQ 17.4375 49.515625 20 51.265625 \nQ 22.5625 53.03125 25.640625 53.03125 \nQ 30.078125 53.03125 34.671875 50.203125 \nL 31.640625 42.046875 \nQ 28.421875 43.953125 25.203125 43.953125 \nQ 22.3125 43.953125 20.015625 42.21875 \nQ 17.71875 40.484375 16.75 37.40625 \nQ 15.28125 32.71875 15.28125 27.15625 \nL 15.28125 0 \nz\n\" id=\"ArialMT-114\"/>\n       <path id=\"ArialMT-32\"/>\n       <path d=\"M 4.15625 35.296875 \nQ 4.15625 48 6.765625 55.734375 \nQ 9.375 63.484375 14.515625 67.671875 \nQ 19.671875 71.875 27.484375 71.875 \nQ 33.25 71.875 37.59375 69.546875 \nQ 41.9375 67.234375 44.765625 62.859375 \nQ 47.609375 58.5 49.21875 52.21875 \nQ 50.828125 45.953125 50.828125 35.296875 \nQ 50.828125 22.703125 48.234375 14.96875 \nQ 45.65625 7.234375 40.5 3 \nQ 35.359375 -1.21875 27.484375 -1.21875 \nQ 17.140625 -1.21875 11.234375 6.203125 \nQ 4.15625 15.140625 4.15625 35.296875 \nz\nM 13.1875 35.296875 \nQ 13.1875 17.671875 17.3125 11.828125 \nQ 21.4375 6 27.484375 6 \nQ 33.546875 6 37.671875 11.859375 \nQ 41.796875 17.71875 41.796875 35.296875 \nQ 41.796875 52.984375 37.671875 58.78125 \nQ 33.546875 64.59375 27.390625 64.59375 \nQ 21.34375 64.59375 17.71875 59.46875 \nQ 13.1875 52.9375 13.1875 35.296875 \nz\n\" id=\"ArialMT-48\"/>\n       <path d=\"M 4.734375 62.203125 \nL 4.734375 70.65625 \nL 51.078125 70.65625 \nL 51.078125 63.8125 \nQ 44.234375 56.546875 37.515625 44.484375 \nQ 30.8125 32.421875 27.15625 19.671875 \nQ 24.515625 10.6875 23.78125 0 \nL 14.75 0 \nQ 14.890625 8.453125 18.0625 20.40625 \nQ 21.234375 32.375 27.171875 43.484375 \nQ 33.109375 54.59375 39.796875 62.203125 \nz\n\" id=\"ArialMT-55\"/>\n       <path d=\"M 8.890625 0 \nL 8.890625 10.015625 \nL 18.890625 10.015625 \nL 18.890625 0 \nQ 18.890625 -5.515625 16.9375 -8.90625 \nQ 14.984375 -12.3125 10.75 -14.15625 \nL 8.296875 -10.40625 \nQ 11.078125 -9.1875 12.390625 -6.8125 \nQ 13.71875 -4.4375 13.875 0 \nz\n\" id=\"ArialMT-44\"/>\n       <path d=\"M 50.34375 8.453125 \nL 50.34375 0 \nL 3.03125 0 \nQ 2.9375 3.171875 4.046875 6.109375 \nQ 5.859375 10.9375 9.828125 15.625 \nQ 13.8125 20.3125 21.34375 26.46875 \nQ 33.015625 36.03125 37.109375 41.625 \nQ 41.21875 47.21875 41.21875 52.203125 \nQ 41.21875 57.421875 37.46875 61 \nQ 33.734375 64.59375 27.734375 64.59375 \nQ 21.390625 64.59375 17.578125 60.78125 \nQ 13.765625 56.984375 13.71875 50.25 \nL 4.6875 51.171875 \nQ 5.609375 61.28125 11.65625 66.578125 \nQ 17.71875 71.875 27.9375 71.875 \nQ 38.234375 71.875 44.234375 66.15625 \nQ 50.25 60.453125 50.25 52 \nQ 50.25 47.703125 48.484375 43.546875 \nQ 46.734375 39.40625 42.65625 34.8125 \nQ 38.578125 30.21875 29.109375 22.21875 \nQ 21.1875 15.578125 18.9375 13.203125 \nQ 16.703125 10.84375 15.234375 8.453125 \nz\n\" id=\"ArialMT-50\"/>\n      </defs>\n      <g style=\"fill:#262626;\" transform=\"translate(75.098906 502.860625)rotate(-90)scale(0.1 -0.1)\">\n       <use xlink:href=\"#ArialMT-68\"/>\n       <use x=\"72.216797\" xlink:href=\"#ArialMT-101\"/>\n       <use x=\"127.832031\" xlink:href=\"#ArialMT-99\"/>\n       <use x=\"177.832031\" xlink:href=\"#ArialMT-101\"/>\n       <use x=\"233.447266\" xlink:href=\"#ArialMT-109\"/>\n       <use x=\"316.748047\" xlink:href=\"#ArialMT-98\"/>\n       <use x=\"372.363281\" xlink:href=\"#ArialMT-101\"/>\n       <use x=\"427.978516\" xlink:href=\"#ArialMT-114\"/>\n       <use x=\"461.279297\" xlink:href=\"#ArialMT-32\"/>\n       <use x=\"489.0625\" xlink:href=\"#ArialMT-48\"/>\n       <use x=\"544.677734\" xlink:href=\"#ArialMT-55\"/>\n       <use x=\"600.292969\" xlink:href=\"#ArialMT-44\"/>\n       <use x=\"628.076172\" xlink:href=\"#ArialMT-32\"/>\n       <use x=\"655.859375\" xlink:href=\"#ArialMT-50\"/>\n       <use x=\"711.474609\" xlink:href=\"#ArialMT-48\"/>\n       <use x=\"767.089844\" xlink:href=\"#ArialMT-50\"/>\n       <use x=\"822.705078\" xlink:href=\"#ArialMT-48\"/>\n      </g>\n     </g>\n    </g>\n    <g id=\"xtick_2\">\n     <g id=\"text_2\">\n      <!-- December 08, 2020 -->\n      <defs>\n       <path d=\"M 17.671875 38.8125 \nQ 12.203125 40.828125 9.5625 44.53125 \nQ 6.9375 48.25 6.9375 53.421875 \nQ 6.9375 61.234375 12.546875 66.546875 \nQ 18.171875 71.875 27.484375 71.875 \nQ 36.859375 71.875 42.578125 66.421875 \nQ 48.296875 60.984375 48.296875 53.171875 \nQ 48.296875 48.1875 45.671875 44.5 \nQ 43.0625 40.828125 37.75 38.8125 \nQ 44.34375 36.671875 47.78125 31.875 \nQ 51.21875 27.09375 51.21875 20.453125 \nQ 51.21875 11.28125 44.71875 5.03125 \nQ 38.234375 -1.21875 27.640625 -1.21875 \nQ 17.046875 -1.21875 10.546875 5.046875 \nQ 4.046875 11.328125 4.046875 20.703125 \nQ 4.046875 27.6875 7.59375 32.390625 \nQ 11.140625 37.109375 17.671875 38.8125 \nz\nM 15.921875 53.71875 \nQ 15.921875 48.640625 19.1875 45.40625 \nQ 22.46875 42.1875 27.6875 42.1875 \nQ 32.765625 42.1875 36.015625 45.375 \nQ 39.265625 48.578125 39.265625 53.21875 \nQ 39.265625 58.0625 35.90625 61.359375 \nQ 32.5625 64.65625 27.59375 64.65625 \nQ 22.5625 64.65625 19.234375 61.421875 \nQ 15.921875 58.203125 15.921875 53.71875 \nz\nM 13.09375 20.65625 \nQ 13.09375 16.890625 14.875 13.375 \nQ 16.65625 9.859375 20.171875 7.921875 \nQ 23.6875 6 27.734375 6 \nQ 34.03125 6 38.125 10.046875 \nQ 42.234375 14.109375 42.234375 20.359375 \nQ 42.234375 26.703125 38.015625 30.859375 \nQ 33.796875 35.015625 27.4375 35.015625 \nQ 21.234375 35.015625 17.15625 30.90625 \nQ 13.09375 26.8125 13.09375 20.65625 \nz\n\" id=\"ArialMT-56\"/>\n      </defs>\n      <g style=\"fill:#262626;\" transform=\"translate(109.973906 502.860625)rotate(-90)scale(0.1 -0.1)\">\n       <use xlink:href=\"#ArialMT-68\"/>\n       <use x=\"72.216797\" xlink:href=\"#ArialMT-101\"/>\n       <use x=\"127.832031\" xlink:href=\"#ArialMT-99\"/>\n       <use x=\"177.832031\" xlink:href=\"#ArialMT-101\"/>\n       <use x=\"233.447266\" xlink:href=\"#ArialMT-109\"/>\n       <use x=\"316.748047\" xlink:href=\"#ArialMT-98\"/>\n       <use x=\"372.363281\" xlink:href=\"#ArialMT-101\"/>\n       <use x=\"427.978516\" xlink:href=\"#ArialMT-114\"/>\n       <use x=\"461.279297\" xlink:href=\"#ArialMT-32\"/>\n       <use x=\"489.0625\" xlink:href=\"#ArialMT-48\"/>\n       <use x=\"544.677734\" xlink:href=\"#ArialMT-56\"/>\n       <use x=\"600.292969\" xlink:href=\"#ArialMT-44\"/>\n       <use x=\"628.076172\" xlink:href=\"#ArialMT-32\"/>\n       <use x=\"655.859375\" xlink:href=\"#ArialMT-50\"/>\n       <use x=\"711.474609\" xlink:href=\"#ArialMT-48\"/>\n       <use x=\"767.089844\" xlink:href=\"#ArialMT-50\"/>\n       <use x=\"822.705078\" xlink:href=\"#ArialMT-48\"/>\n      </g>\n     </g>\n    </g>\n    <g id=\"xtick_3\">\n     <g id=\"text_3\">\n      <!-- December 09, 2020 -->\n      <defs>\n       <path d=\"M 5.46875 16.546875 \nL 13.921875 17.328125 \nQ 14.984375 11.375 18.015625 8.6875 \nQ 21.046875 6 25.78125 6 \nQ 29.828125 6 32.875 7.859375 \nQ 35.9375 9.71875 37.890625 12.8125 \nQ 39.84375 15.921875 41.15625 21.1875 \nQ 42.484375 26.46875 42.484375 31.9375 \nQ 42.484375 32.515625 42.4375 33.6875 \nQ 39.796875 29.5 35.234375 26.875 \nQ 30.671875 24.265625 25.34375 24.265625 \nQ 16.453125 24.265625 10.296875 30.703125 \nQ 4.15625 37.15625 4.15625 47.703125 \nQ 4.15625 58.59375 10.578125 65.234375 \nQ 17 71.875 26.65625 71.875 \nQ 33.640625 71.875 39.421875 68.109375 \nQ 45.21875 64.359375 48.21875 57.390625 \nQ 51.21875 50.4375 51.21875 37.25 \nQ 51.21875 23.53125 48.234375 15.40625 \nQ 45.265625 7.28125 39.375 3.03125 \nQ 33.5 -1.21875 25.59375 -1.21875 \nQ 17.1875 -1.21875 11.859375 3.4375 \nQ 6.546875 8.109375 5.46875 16.546875 \nz\nM 41.453125 48.140625 \nQ 41.453125 55.71875 37.421875 60.15625 \nQ 33.40625 64.59375 27.734375 64.59375 \nQ 21.875 64.59375 17.53125 59.8125 \nQ 13.1875 55.03125 13.1875 47.40625 \nQ 13.1875 40.578125 17.3125 36.296875 \nQ 21.4375 32.03125 27.484375 32.03125 \nQ 33.59375 32.03125 37.515625 36.296875 \nQ 41.453125 40.578125 41.453125 48.140625 \nz\n\" id=\"ArialMT-57\"/>\n      </defs>\n      <g style=\"fill:#262626;\" transform=\"translate(144.848906 502.860625)rotate(-90)scale(0.1 -0.1)\">\n       <use xlink:href=\"#ArialMT-68\"/>\n       <use x=\"72.216797\" xlink:href=\"#ArialMT-101\"/>\n       <use x=\"127.832031\" xlink:href=\"#ArialMT-99\"/>\n       <use x=\"177.832031\" xlink:href=\"#ArialMT-101\"/>\n       <use x=\"233.447266\" xlink:href=\"#ArialMT-109\"/>\n       <use x=\"316.748047\" xlink:href=\"#ArialMT-98\"/>\n       <use x=\"372.363281\" xlink:href=\"#ArialMT-101\"/>\n       <use x=\"427.978516\" xlink:href=\"#ArialMT-114\"/>\n       <use x=\"461.279297\" xlink:href=\"#ArialMT-32\"/>\n       <use x=\"489.0625\" xlink:href=\"#ArialMT-48\"/>\n       <use x=\"544.677734\" xlink:href=\"#ArialMT-57\"/>\n       <use x=\"600.292969\" xlink:href=\"#ArialMT-44\"/>\n       <use x=\"628.076172\" xlink:href=\"#ArialMT-32\"/>\n       <use x=\"655.859375\" xlink:href=\"#ArialMT-50\"/>\n       <use x=\"711.474609\" xlink:href=\"#ArialMT-48\"/>\n       <use x=\"767.089844\" xlink:href=\"#ArialMT-50\"/>\n       <use x=\"822.705078\" xlink:href=\"#ArialMT-48\"/>\n      </g>\n     </g>\n    </g>\n    <g id=\"xtick_4\">\n     <g id=\"text_4\">\n      <!-- December 10, 2020 -->\n      <defs>\n       <path d=\"M 37.25 0 \nL 28.46875 0 \nL 28.46875 56 \nQ 25.296875 52.984375 20.140625 49.953125 \nQ 14.984375 46.921875 10.890625 45.40625 \nL 10.890625 53.90625 \nQ 18.265625 57.375 23.78125 62.296875 \nQ 29.296875 67.234375 31.59375 71.875 \nL 37.25 71.875 \nz\n\" id=\"ArialMT-49\"/>\n      </defs>\n      <g style=\"fill:#262626;\" transform=\"translate(179.723906 502.860625)rotate(-90)scale(0.1 -0.1)\">\n       <use xlink:href=\"#ArialMT-68\"/>\n       <use x=\"72.216797\" xlink:href=\"#ArialMT-101\"/>\n       <use x=\"127.832031\" xlink:href=\"#ArialMT-99\"/>\n       <use x=\"177.832031\" xlink:href=\"#ArialMT-101\"/>\n       <use x=\"233.447266\" xlink:href=\"#ArialMT-109\"/>\n       <use x=\"316.748047\" xlink:href=\"#ArialMT-98\"/>\n       <use x=\"372.363281\" xlink:href=\"#ArialMT-101\"/>\n       <use x=\"427.978516\" xlink:href=\"#ArialMT-114\"/>\n       <use x=\"461.279297\" xlink:href=\"#ArialMT-32\"/>\n       <use x=\"489.0625\" xlink:href=\"#ArialMT-49\"/>\n       <use x=\"544.677734\" xlink:href=\"#ArialMT-48\"/>\n       <use x=\"600.292969\" xlink:href=\"#ArialMT-44\"/>\n       <use x=\"628.076172\" xlink:href=\"#ArialMT-32\"/>\n       <use x=\"655.859375\" xlink:href=\"#ArialMT-50\"/>\n       <use x=\"711.474609\" xlink:href=\"#ArialMT-48\"/>\n       <use x=\"767.089844\" xlink:href=\"#ArialMT-50\"/>\n       <use x=\"822.705078\" xlink:href=\"#ArialMT-48\"/>\n      </g>\n     </g>\n    </g>\n    <g id=\"xtick_5\">\n     <g id=\"text_5\">\n      <!-- December 11, 2020 -->\n      <g style=\"fill:#262626;\" transform=\"translate(214.598906 502.849687)rotate(-90)scale(0.1 -0.1)\">\n       <use xlink:href=\"#ArialMT-68\"/>\n       <use x=\"72.216797\" xlink:href=\"#ArialMT-101\"/>\n       <use x=\"127.832031\" xlink:href=\"#ArialMT-99\"/>\n       <use x=\"177.832031\" xlink:href=\"#ArialMT-101\"/>\n       <use x=\"233.447266\" xlink:href=\"#ArialMT-109\"/>\n       <use x=\"316.748047\" xlink:href=\"#ArialMT-98\"/>\n       <use x=\"372.363281\" xlink:href=\"#ArialMT-101\"/>\n       <use x=\"427.978516\" xlink:href=\"#ArialMT-114\"/>\n       <use x=\"461.279297\" xlink:href=\"#ArialMT-32\"/>\n       <use x=\"489.0625\" xlink:href=\"#ArialMT-49\"/>\n       <use x=\"544.568359\" xlink:href=\"#ArialMT-49\"/>\n       <use x=\"600.183594\" xlink:href=\"#ArialMT-44\"/>\n       <use x=\"627.966797\" xlink:href=\"#ArialMT-32\"/>\n       <use x=\"655.75\" xlink:href=\"#ArialMT-50\"/>\n       <use x=\"711.365234\" xlink:href=\"#ArialMT-48\"/>\n       <use x=\"766.980469\" xlink:href=\"#ArialMT-50\"/>\n       <use x=\"822.595703\" xlink:href=\"#ArialMT-48\"/>\n      </g>\n     </g>\n    </g>\n    <g id=\"xtick_6\">\n     <g id=\"text_6\">\n      <!-- December 12, 2020 -->\n      <g style=\"fill:#262626;\" transform=\"translate(249.473906 502.860625)rotate(-90)scale(0.1 -0.1)\">\n       <use xlink:href=\"#ArialMT-68\"/>\n       <use x=\"72.216797\" xlink:href=\"#ArialMT-101\"/>\n       <use x=\"127.832031\" xlink:href=\"#ArialMT-99\"/>\n       <use x=\"177.832031\" xlink:href=\"#ArialMT-101\"/>\n       <use x=\"233.447266\" xlink:href=\"#ArialMT-109\"/>\n       <use x=\"316.748047\" xlink:href=\"#ArialMT-98\"/>\n       <use x=\"372.363281\" xlink:href=\"#ArialMT-101\"/>\n       <use x=\"427.978516\" xlink:href=\"#ArialMT-114\"/>\n       <use x=\"461.279297\" xlink:href=\"#ArialMT-32\"/>\n       <use x=\"489.0625\" xlink:href=\"#ArialMT-49\"/>\n       <use x=\"544.677734\" xlink:href=\"#ArialMT-50\"/>\n       <use x=\"600.292969\" xlink:href=\"#ArialMT-44\"/>\n       <use x=\"628.076172\" xlink:href=\"#ArialMT-32\"/>\n       <use x=\"655.859375\" xlink:href=\"#ArialMT-50\"/>\n       <use x=\"711.474609\" xlink:href=\"#ArialMT-48\"/>\n       <use x=\"767.089844\" xlink:href=\"#ArialMT-50\"/>\n       <use x=\"822.705078\" xlink:href=\"#ArialMT-48\"/>\n      </g>\n     </g>\n    </g>\n    <g id=\"xtick_7\">\n     <g id=\"text_7\">\n      <!-- December 13, 2020 -->\n      <defs>\n       <path d=\"M 4.203125 18.890625 \nL 12.984375 20.0625 \nQ 14.5 12.59375 18.140625 9.296875 \nQ 21.78125 6 27 6 \nQ 33.203125 6 37.46875 10.296875 \nQ 41.75 14.59375 41.75 20.953125 \nQ 41.75 27 37.796875 30.921875 \nQ 33.84375 34.859375 27.734375 34.859375 \nQ 25.25 34.859375 21.53125 33.890625 \nL 22.515625 41.609375 \nQ 23.390625 41.5 23.921875 41.5 \nQ 29.546875 41.5 34.03125 44.421875 \nQ 38.53125 47.359375 38.53125 53.46875 \nQ 38.53125 58.296875 35.25 61.46875 \nQ 31.984375 64.65625 26.8125 64.65625 \nQ 21.6875 64.65625 18.265625 61.421875 \nQ 14.84375 58.203125 13.875 51.765625 \nL 5.078125 53.328125 \nQ 6.6875 62.15625 12.390625 67.015625 \nQ 18.109375 71.875 26.609375 71.875 \nQ 32.46875 71.875 37.390625 69.359375 \nQ 42.328125 66.84375 44.9375 62.5 \nQ 47.5625 58.15625 47.5625 53.265625 \nQ 47.5625 48.640625 45.0625 44.828125 \nQ 42.578125 41.015625 37.703125 38.765625 \nQ 44.046875 37.3125 47.5625 32.6875 \nQ 51.078125 28.078125 51.078125 21.140625 \nQ 51.078125 11.765625 44.234375 5.25 \nQ 37.40625 -1.265625 26.953125 -1.265625 \nQ 17.53125 -1.265625 11.296875 4.34375 \nQ 5.078125 9.96875 4.203125 18.890625 \nz\n\" id=\"ArialMT-51\"/>\n      </defs>\n      <g style=\"fill:#262626;\" transform=\"translate(284.348906 502.860625)rotate(-90)scale(0.1 -0.1)\">\n       <use xlink:href=\"#ArialMT-68\"/>\n       <use x=\"72.216797\" xlink:href=\"#ArialMT-101\"/>\n       <use x=\"127.832031\" xlink:href=\"#ArialMT-99\"/>\n       <use x=\"177.832031\" xlink:href=\"#ArialMT-101\"/>\n       <use x=\"233.447266\" xlink:href=\"#ArialMT-109\"/>\n       <use x=\"316.748047\" xlink:href=\"#ArialMT-98\"/>\n       <use x=\"372.363281\" xlink:href=\"#ArialMT-101\"/>\n       <use x=\"427.978516\" xlink:href=\"#ArialMT-114\"/>\n       <use x=\"461.279297\" xlink:href=\"#ArialMT-32\"/>\n       <use x=\"489.0625\" xlink:href=\"#ArialMT-49\"/>\n       <use x=\"544.677734\" xlink:href=\"#ArialMT-51\"/>\n       <use x=\"600.292969\" xlink:href=\"#ArialMT-44\"/>\n       <use x=\"628.076172\" xlink:href=\"#ArialMT-32\"/>\n       <use x=\"655.859375\" xlink:href=\"#ArialMT-50\"/>\n       <use x=\"711.474609\" xlink:href=\"#ArialMT-48\"/>\n       <use x=\"767.089844\" xlink:href=\"#ArialMT-50\"/>\n       <use x=\"822.705078\" xlink:href=\"#ArialMT-48\"/>\n      </g>\n     </g>\n    </g>\n    <g id=\"xtick_8\">\n     <g id=\"text_8\">\n      <!-- December 14, 2020 -->\n      <defs>\n       <path d=\"M 32.328125 0 \nL 32.328125 17.140625 \nL 1.265625 17.140625 \nL 1.265625 25.203125 \nL 33.9375 71.578125 \nL 41.109375 71.578125 \nL 41.109375 25.203125 \nL 50.78125 25.203125 \nL 50.78125 17.140625 \nL 41.109375 17.140625 \nL 41.109375 0 \nz\nM 32.328125 25.203125 \nL 32.328125 57.46875 \nL 9.90625 25.203125 \nz\n\" id=\"ArialMT-52\"/>\n      </defs>\n      <g style=\"fill:#262626;\" transform=\"translate(319.223906 502.860625)rotate(-90)scale(0.1 -0.1)\">\n       <use xlink:href=\"#ArialMT-68\"/>\n       <use x=\"72.216797\" xlink:href=\"#ArialMT-101\"/>\n       <use x=\"127.832031\" xlink:href=\"#ArialMT-99\"/>\n       <use x=\"177.832031\" xlink:href=\"#ArialMT-101\"/>\n       <use x=\"233.447266\" xlink:href=\"#ArialMT-109\"/>\n       <use x=\"316.748047\" xlink:href=\"#ArialMT-98\"/>\n       <use x=\"372.363281\" xlink:href=\"#ArialMT-101\"/>\n       <use x=\"427.978516\" xlink:href=\"#ArialMT-114\"/>\n       <use x=\"461.279297\" xlink:href=\"#ArialMT-32\"/>\n       <use x=\"489.0625\" xlink:href=\"#ArialMT-49\"/>\n       <use x=\"544.677734\" xlink:href=\"#ArialMT-52\"/>\n       <use x=\"600.292969\" xlink:href=\"#ArialMT-44\"/>\n       <use x=\"628.076172\" xlink:href=\"#ArialMT-32\"/>\n       <use x=\"655.859375\" xlink:href=\"#ArialMT-50\"/>\n       <use x=\"711.474609\" xlink:href=\"#ArialMT-48\"/>\n       <use x=\"767.089844\" xlink:href=\"#ArialMT-50\"/>\n       <use x=\"822.705078\" xlink:href=\"#ArialMT-48\"/>\n      </g>\n     </g>\n    </g>\n    <g id=\"xtick_9\">\n     <g id=\"text_9\">\n      <!-- December 15, 2020 -->\n      <defs>\n       <path d=\"M 4.15625 18.75 \nL 13.375 19.53125 \nQ 14.40625 12.796875 18.140625 9.390625 \nQ 21.875 6 27.15625 6 \nQ 33.5 6 37.890625 10.78125 \nQ 42.28125 15.578125 42.28125 23.484375 \nQ 42.28125 31 38.0625 35.34375 \nQ 33.84375 39.703125 27 39.703125 \nQ 22.75 39.703125 19.328125 37.765625 \nQ 15.921875 35.84375 13.96875 32.765625 \nL 5.71875 33.84375 \nL 12.640625 70.609375 \nL 48.25 70.609375 \nL 48.25 62.203125 \nL 19.671875 62.203125 \nL 15.828125 42.96875 \nQ 22.265625 47.46875 29.34375 47.46875 \nQ 38.71875 47.46875 45.15625 40.96875 \nQ 51.609375 34.46875 51.609375 24.265625 \nQ 51.609375 14.546875 45.953125 7.46875 \nQ 39.0625 -1.21875 27.15625 -1.21875 \nQ 17.390625 -1.21875 11.203125 4.25 \nQ 5.03125 9.71875 4.15625 18.75 \nz\n\" id=\"ArialMT-53\"/>\n      </defs>\n      <g style=\"fill:#262626;\" transform=\"translate(354.098906 502.860625)rotate(-90)scale(0.1 -0.1)\">\n       <use xlink:href=\"#ArialMT-68\"/>\n       <use x=\"72.216797\" xlink:href=\"#ArialMT-101\"/>\n       <use x=\"127.832031\" xlink:href=\"#ArialMT-99\"/>\n       <use x=\"177.832031\" xlink:href=\"#ArialMT-101\"/>\n       <use x=\"233.447266\" xlink:href=\"#ArialMT-109\"/>\n       <use x=\"316.748047\" xlink:href=\"#ArialMT-98\"/>\n       <use x=\"372.363281\" xlink:href=\"#ArialMT-101\"/>\n       <use x=\"427.978516\" xlink:href=\"#ArialMT-114\"/>\n       <use x=\"461.279297\" xlink:href=\"#ArialMT-32\"/>\n       <use x=\"489.0625\" xlink:href=\"#ArialMT-49\"/>\n       <use x=\"544.677734\" xlink:href=\"#ArialMT-53\"/>\n       <use x=\"600.292969\" xlink:href=\"#ArialMT-44\"/>\n       <use x=\"628.076172\" xlink:href=\"#ArialMT-32\"/>\n       <use x=\"655.859375\" xlink:href=\"#ArialMT-50\"/>\n       <use x=\"711.474609\" xlink:href=\"#ArialMT-48\"/>\n       <use x=\"767.089844\" xlink:href=\"#ArialMT-50\"/>\n       <use x=\"822.705078\" xlink:href=\"#ArialMT-48\"/>\n      </g>\n     </g>\n    </g>\n    <g id=\"xtick_10\">\n     <g id=\"text_10\">\n      <!-- December 16, 2020 -->\n      <defs>\n       <path d=\"M 49.75 54.046875 \nL 41.015625 53.375 \nQ 39.84375 58.546875 37.703125 60.890625 \nQ 34.125 64.65625 28.90625 64.65625 \nQ 24.703125 64.65625 21.53125 62.3125 \nQ 17.390625 59.28125 14.984375 53.46875 \nQ 12.59375 47.65625 12.5 36.921875 \nQ 15.671875 41.75 20.265625 44.09375 \nQ 24.859375 46.4375 29.890625 46.4375 \nQ 38.671875 46.4375 44.84375 39.96875 \nQ 51.03125 33.5 51.03125 23.25 \nQ 51.03125 16.5 48.125 10.71875 \nQ 45.21875 4.9375 40.140625 1.859375 \nQ 35.0625 -1.21875 28.609375 -1.21875 \nQ 17.625 -1.21875 10.6875 6.859375 \nQ 3.765625 14.9375 3.765625 33.5 \nQ 3.765625 54.25 11.421875 63.671875 \nQ 18.109375 71.875 29.4375 71.875 \nQ 37.890625 71.875 43.28125 67.140625 \nQ 48.6875 62.40625 49.75 54.046875 \nz\nM 13.875 23.1875 \nQ 13.875 18.65625 15.796875 14.5 \nQ 17.71875 10.359375 21.1875 8.171875 \nQ 24.65625 6 28.46875 6 \nQ 34.03125 6 38.03125 10.484375 \nQ 42.046875 14.984375 42.046875 22.703125 \nQ 42.046875 30.125 38.078125 34.390625 \nQ 34.125 38.671875 28.125 38.671875 \nQ 22.171875 38.671875 18.015625 34.390625 \nQ 13.875 30.125 13.875 23.1875 \nz\n\" id=\"ArialMT-54\"/>\n      </defs>\n      <g style=\"fill:#262626;\" transform=\"translate(388.973906 502.860625)rotate(-90)scale(0.1 -0.1)\">\n       <use xlink:href=\"#ArialMT-68\"/>\n       <use x=\"72.216797\" xlink:href=\"#ArialMT-101\"/>\n       <use x=\"127.832031\" xlink:href=\"#ArialMT-99\"/>\n       <use x=\"177.832031\" xlink:href=\"#ArialMT-101\"/>\n       <use x=\"233.447266\" xlink:href=\"#ArialMT-109\"/>\n       <use x=\"316.748047\" xlink:href=\"#ArialMT-98\"/>\n       <use x=\"372.363281\" xlink:href=\"#ArialMT-101\"/>\n       <use x=\"427.978516\" xlink:href=\"#ArialMT-114\"/>\n       <use x=\"461.279297\" xlink:href=\"#ArialMT-32\"/>\n       <use x=\"489.0625\" xlink:href=\"#ArialMT-49\"/>\n       <use x=\"544.677734\" xlink:href=\"#ArialMT-54\"/>\n       <use x=\"600.292969\" xlink:href=\"#ArialMT-44\"/>\n       <use x=\"628.076172\" xlink:href=\"#ArialMT-32\"/>\n       <use x=\"655.859375\" xlink:href=\"#ArialMT-50\"/>\n       <use x=\"711.474609\" xlink:href=\"#ArialMT-48\"/>\n       <use x=\"767.089844\" xlink:href=\"#ArialMT-50\"/>\n       <use x=\"822.705078\" xlink:href=\"#ArialMT-48\"/>\n      </g>\n     </g>\n    </g>\n    <g id=\"xtick_11\">\n     <g id=\"text_11\">\n      <!-- December 17, 2020 -->\n      <g style=\"fill:#262626;\" transform=\"translate(423.848906 502.860625)rotate(-90)scale(0.1 -0.1)\">\n       <use xlink:href=\"#ArialMT-68\"/>\n       <use x=\"72.216797\" xlink:href=\"#ArialMT-101\"/>\n       <use x=\"127.832031\" xlink:href=\"#ArialMT-99\"/>\n       <use x=\"177.832031\" xlink:href=\"#ArialMT-101\"/>\n       <use x=\"233.447266\" xlink:href=\"#ArialMT-109\"/>\n       <use x=\"316.748047\" xlink:href=\"#ArialMT-98\"/>\n       <use x=\"372.363281\" xlink:href=\"#ArialMT-101\"/>\n       <use x=\"427.978516\" xlink:href=\"#ArialMT-114\"/>\n       <use x=\"461.279297\" xlink:href=\"#ArialMT-32\"/>\n       <use x=\"489.0625\" xlink:href=\"#ArialMT-49\"/>\n       <use x=\"544.677734\" xlink:href=\"#ArialMT-55\"/>\n       <use x=\"600.292969\" xlink:href=\"#ArialMT-44\"/>\n       <use x=\"628.076172\" xlink:href=\"#ArialMT-32\"/>\n       <use x=\"655.859375\" xlink:href=\"#ArialMT-50\"/>\n       <use x=\"711.474609\" xlink:href=\"#ArialMT-48\"/>\n       <use x=\"767.089844\" xlink:href=\"#ArialMT-50\"/>\n       <use x=\"822.705078\" xlink:href=\"#ArialMT-48\"/>\n      </g>\n     </g>\n    </g>\n    <g id=\"xtick_12\">\n     <g id=\"text_12\">\n      <!-- December 18, 2020 -->\n      <g style=\"fill:#262626;\" transform=\"translate(458.723906 502.860625)rotate(-90)scale(0.1 -0.1)\">\n       <use xlink:href=\"#ArialMT-68\"/>\n       <use x=\"72.216797\" xlink:href=\"#ArialMT-101\"/>\n       <use x=\"127.832031\" xlink:href=\"#ArialMT-99\"/>\n       <use x=\"177.832031\" xlink:href=\"#ArialMT-101\"/>\n       <use x=\"233.447266\" xlink:href=\"#ArialMT-109\"/>\n       <use x=\"316.748047\" xlink:href=\"#ArialMT-98\"/>\n       <use x=\"372.363281\" xlink:href=\"#ArialMT-101\"/>\n       <use x=\"427.978516\" xlink:href=\"#ArialMT-114\"/>\n       <use x=\"461.279297\" xlink:href=\"#ArialMT-32\"/>\n       <use x=\"489.0625\" xlink:href=\"#ArialMT-49\"/>\n       <use x=\"544.677734\" xlink:href=\"#ArialMT-56\"/>\n       <use x=\"600.292969\" xlink:href=\"#ArialMT-44\"/>\n       <use x=\"628.076172\" xlink:href=\"#ArialMT-32\"/>\n       <use x=\"655.859375\" xlink:href=\"#ArialMT-50\"/>\n       <use x=\"711.474609\" xlink:href=\"#ArialMT-48\"/>\n       <use x=\"767.089844\" xlink:href=\"#ArialMT-50\"/>\n       <use x=\"822.705078\" xlink:href=\"#ArialMT-48\"/>\n      </g>\n     </g>\n    </g>\n    <g id=\"xtick_13\">\n     <g id=\"text_13\">\n      <!-- December 19, 2020 -->\n      <g style=\"fill:#262626;\" transform=\"translate(493.598906 502.860625)rotate(-90)scale(0.1 -0.1)\">\n       <use xlink:href=\"#ArialMT-68\"/>\n       <use x=\"72.216797\" xlink:href=\"#ArialMT-101\"/>\n       <use x=\"127.832031\" xlink:href=\"#ArialMT-99\"/>\n       <use x=\"177.832031\" xlink:href=\"#ArialMT-101\"/>\n       <use x=\"233.447266\" xlink:href=\"#ArialMT-109\"/>\n       <use x=\"316.748047\" xlink:href=\"#ArialMT-98\"/>\n       <use x=\"372.363281\" xlink:href=\"#ArialMT-101\"/>\n       <use x=\"427.978516\" xlink:href=\"#ArialMT-114\"/>\n       <use x=\"461.279297\" xlink:href=\"#ArialMT-32\"/>\n       <use x=\"489.0625\" xlink:href=\"#ArialMT-49\"/>\n       <use x=\"544.677734\" xlink:href=\"#ArialMT-57\"/>\n       <use x=\"600.292969\" xlink:href=\"#ArialMT-44\"/>\n       <use x=\"628.076172\" xlink:href=\"#ArialMT-32\"/>\n       <use x=\"655.859375\" xlink:href=\"#ArialMT-50\"/>\n       <use x=\"711.474609\" xlink:href=\"#ArialMT-48\"/>\n       <use x=\"767.089844\" xlink:href=\"#ArialMT-50\"/>\n       <use x=\"822.705078\" xlink:href=\"#ArialMT-48\"/>\n      </g>\n     </g>\n    </g>\n    <g id=\"xtick_14\">\n     <g id=\"text_14\">\n      <!-- December 20, 2020 -->\n      <g style=\"fill:#262626;\" transform=\"translate(528.473906 502.860625)rotate(-90)scale(0.1 -0.1)\">\n       <use xlink:href=\"#ArialMT-68\"/>\n       <use x=\"72.216797\" xlink:href=\"#ArialMT-101\"/>\n       <use x=\"127.832031\" xlink:href=\"#ArialMT-99\"/>\n       <use x=\"177.832031\" xlink:href=\"#ArialMT-101\"/>\n       <use x=\"233.447266\" xlink:href=\"#ArialMT-109\"/>\n       <use x=\"316.748047\" xlink:href=\"#ArialMT-98\"/>\n       <use x=\"372.363281\" xlink:href=\"#ArialMT-101\"/>\n       <use x=\"427.978516\" xlink:href=\"#ArialMT-114\"/>\n       <use x=\"461.279297\" xlink:href=\"#ArialMT-32\"/>\n       <use x=\"489.0625\" xlink:href=\"#ArialMT-50\"/>\n       <use x=\"544.677734\" xlink:href=\"#ArialMT-48\"/>\n       <use x=\"600.292969\" xlink:href=\"#ArialMT-44\"/>\n       <use x=\"628.076172\" xlink:href=\"#ArialMT-32\"/>\n       <use x=\"655.859375\" xlink:href=\"#ArialMT-50\"/>\n       <use x=\"711.474609\" xlink:href=\"#ArialMT-48\"/>\n       <use x=\"767.089844\" xlink:href=\"#ArialMT-50\"/>\n       <use x=\"822.705078\" xlink:href=\"#ArialMT-48\"/>\n      </g>\n     </g>\n    </g>\n    <g id=\"xtick_15\">\n     <g id=\"text_15\">\n      <!-- December 21, 2020 -->\n      <g style=\"fill:#262626;\" transform=\"translate(563.348906 502.860625)rotate(-90)scale(0.1 -0.1)\">\n       <use xlink:href=\"#ArialMT-68\"/>\n       <use x=\"72.216797\" xlink:href=\"#ArialMT-101\"/>\n       <use x=\"127.832031\" xlink:href=\"#ArialMT-99\"/>\n       <use x=\"177.832031\" xlink:href=\"#ArialMT-101\"/>\n       <use x=\"233.447266\" xlink:href=\"#ArialMT-109\"/>\n       <use x=\"316.748047\" xlink:href=\"#ArialMT-98\"/>\n       <use x=\"372.363281\" xlink:href=\"#ArialMT-101\"/>\n       <use x=\"427.978516\" xlink:href=\"#ArialMT-114\"/>\n       <use x=\"461.279297\" xlink:href=\"#ArialMT-32\"/>\n       <use x=\"489.0625\" xlink:href=\"#ArialMT-50\"/>\n       <use x=\"544.677734\" xlink:href=\"#ArialMT-49\"/>\n       <use x=\"600.292969\" xlink:href=\"#ArialMT-44\"/>\n       <use x=\"628.076172\" xlink:href=\"#ArialMT-32\"/>\n       <use x=\"655.859375\" xlink:href=\"#ArialMT-50\"/>\n       <use x=\"711.474609\" xlink:href=\"#ArialMT-48\"/>\n       <use x=\"767.089844\" xlink:href=\"#ArialMT-50\"/>\n       <use x=\"822.705078\" xlink:href=\"#ArialMT-48\"/>\n      </g>\n     </g>\n    </g>\n    <g id=\"xtick_16\">\n     <g id=\"text_16\">\n      <!-- December 22, 2020 -->\n      <g style=\"fill:#262626;\" transform=\"translate(598.223906 502.860625)rotate(-90)scale(0.1 -0.1)\">\n       <use xlink:href=\"#ArialMT-68\"/>\n       <use x=\"72.216797\" xlink:href=\"#ArialMT-101\"/>\n       <use x=\"127.832031\" xlink:href=\"#ArialMT-99\"/>\n       <use x=\"177.832031\" xlink:href=\"#ArialMT-101\"/>\n       <use x=\"233.447266\" xlink:href=\"#ArialMT-109\"/>\n       <use x=\"316.748047\" xlink:href=\"#ArialMT-98\"/>\n       <use x=\"372.363281\" xlink:href=\"#ArialMT-101\"/>\n       <use x=\"427.978516\" xlink:href=\"#ArialMT-114\"/>\n       <use x=\"461.279297\" xlink:href=\"#ArialMT-32\"/>\n       <use x=\"489.0625\" xlink:href=\"#ArialMT-50\"/>\n       <use x=\"544.677734\" xlink:href=\"#ArialMT-50\"/>\n       <use x=\"600.292969\" xlink:href=\"#ArialMT-44\"/>\n       <use x=\"628.076172\" xlink:href=\"#ArialMT-32\"/>\n       <use x=\"655.859375\" xlink:href=\"#ArialMT-50\"/>\n       <use x=\"711.474609\" xlink:href=\"#ArialMT-48\"/>\n       <use x=\"767.089844\" xlink:href=\"#ArialMT-50\"/>\n       <use x=\"822.705078\" xlink:href=\"#ArialMT-48\"/>\n      </g>\n     </g>\n    </g>\n    <g id=\"xtick_17\">\n     <g id=\"text_17\">\n      <!-- December 23, 2020 -->\n      <g style=\"fill:#262626;\" transform=\"translate(633.098906 502.860625)rotate(-90)scale(0.1 -0.1)\">\n       <use xlink:href=\"#ArialMT-68\"/>\n       <use x=\"72.216797\" xlink:href=\"#ArialMT-101\"/>\n       <use x=\"127.832031\" xlink:href=\"#ArialMT-99\"/>\n       <use x=\"177.832031\" xlink:href=\"#ArialMT-101\"/>\n       <use x=\"233.447266\" xlink:href=\"#ArialMT-109\"/>\n       <use x=\"316.748047\" xlink:href=\"#ArialMT-98\"/>\n       <use x=\"372.363281\" xlink:href=\"#ArialMT-101\"/>\n       <use x=\"427.978516\" xlink:href=\"#ArialMT-114\"/>\n       <use x=\"461.279297\" xlink:href=\"#ArialMT-32\"/>\n       <use x=\"489.0625\" xlink:href=\"#ArialMT-50\"/>\n       <use x=\"544.677734\" xlink:href=\"#ArialMT-51\"/>\n       <use x=\"600.292969\" xlink:href=\"#ArialMT-44\"/>\n       <use x=\"628.076172\" xlink:href=\"#ArialMT-32\"/>\n       <use x=\"655.859375\" xlink:href=\"#ArialMT-50\"/>\n       <use x=\"711.474609\" xlink:href=\"#ArialMT-48\"/>\n       <use x=\"767.089844\" xlink:href=\"#ArialMT-50\"/>\n       <use x=\"822.705078\" xlink:href=\"#ArialMT-48\"/>\n      </g>\n     </g>\n    </g>\n    <g id=\"xtick_18\">\n     <g id=\"text_18\">\n      <!-- December 24, 2020 -->\n      <g style=\"fill:#262626;\" transform=\"translate(667.973906 502.860625)rotate(-90)scale(0.1 -0.1)\">\n       <use xlink:href=\"#ArialMT-68\"/>\n       <use x=\"72.216797\" xlink:href=\"#ArialMT-101\"/>\n       <use x=\"127.832031\" xlink:href=\"#ArialMT-99\"/>\n       <use x=\"177.832031\" xlink:href=\"#ArialMT-101\"/>\n       <use x=\"233.447266\" xlink:href=\"#ArialMT-109\"/>\n       <use x=\"316.748047\" xlink:href=\"#ArialMT-98\"/>\n       <use x=\"372.363281\" xlink:href=\"#ArialMT-101\"/>\n       <use x=\"427.978516\" xlink:href=\"#ArialMT-114\"/>\n       <use x=\"461.279297\" xlink:href=\"#ArialMT-32\"/>\n       <use x=\"489.0625\" xlink:href=\"#ArialMT-50\"/>\n       <use x=\"544.677734\" xlink:href=\"#ArialMT-52\"/>\n       <use x=\"600.292969\" xlink:href=\"#ArialMT-44\"/>\n       <use x=\"628.076172\" xlink:href=\"#ArialMT-32\"/>\n       <use x=\"655.859375\" xlink:href=\"#ArialMT-50\"/>\n       <use x=\"711.474609\" xlink:href=\"#ArialMT-48\"/>\n       <use x=\"767.089844\" xlink:href=\"#ArialMT-50\"/>\n       <use x=\"822.705078\" xlink:href=\"#ArialMT-48\"/>\n      </g>\n     </g>\n    </g>\n    <g id=\"xtick_19\">\n     <g id=\"text_19\">\n      <!-- December 25, 2020 -->\n      <g style=\"fill:#262626;\" transform=\"translate(702.848906 502.860625)rotate(-90)scale(0.1 -0.1)\">\n       <use xlink:href=\"#ArialMT-68\"/>\n       <use x=\"72.216797\" xlink:href=\"#ArialMT-101\"/>\n       <use x=\"127.832031\" xlink:href=\"#ArialMT-99\"/>\n       <use x=\"177.832031\" xlink:href=\"#ArialMT-101\"/>\n       <use x=\"233.447266\" xlink:href=\"#ArialMT-109\"/>\n       <use x=\"316.748047\" xlink:href=\"#ArialMT-98\"/>\n       <use x=\"372.363281\" xlink:href=\"#ArialMT-101\"/>\n       <use x=\"427.978516\" xlink:href=\"#ArialMT-114\"/>\n       <use x=\"461.279297\" xlink:href=\"#ArialMT-32\"/>\n       <use x=\"489.0625\" xlink:href=\"#ArialMT-50\"/>\n       <use x=\"544.677734\" xlink:href=\"#ArialMT-53\"/>\n       <use x=\"600.292969\" xlink:href=\"#ArialMT-44\"/>\n       <use x=\"628.076172\" xlink:href=\"#ArialMT-32\"/>\n       <use x=\"655.859375\" xlink:href=\"#ArialMT-50\"/>\n       <use x=\"711.474609\" xlink:href=\"#ArialMT-48\"/>\n       <use x=\"767.089844\" xlink:href=\"#ArialMT-50\"/>\n       <use x=\"822.705078\" xlink:href=\"#ArialMT-48\"/>\n      </g>\n     </g>\n    </g>\n    <g id=\"xtick_20\">\n     <g id=\"text_20\">\n      <!-- December 26, 2020 -->\n      <g style=\"fill:#262626;\" transform=\"translate(737.723906 502.860625)rotate(-90)scale(0.1 -0.1)\">\n       <use xlink:href=\"#ArialMT-68\"/>\n       <use x=\"72.216797\" xlink:href=\"#ArialMT-101\"/>\n       <use x=\"127.832031\" xlink:href=\"#ArialMT-99\"/>\n       <use x=\"177.832031\" xlink:href=\"#ArialMT-101\"/>\n       <use x=\"233.447266\" xlink:href=\"#ArialMT-109\"/>\n       <use x=\"316.748047\" xlink:href=\"#ArialMT-98\"/>\n       <use x=\"372.363281\" xlink:href=\"#ArialMT-101\"/>\n       <use x=\"427.978516\" xlink:href=\"#ArialMT-114\"/>\n       <use x=\"461.279297\" xlink:href=\"#ArialMT-32\"/>\n       <use x=\"489.0625\" xlink:href=\"#ArialMT-50\"/>\n       <use x=\"544.677734\" xlink:href=\"#ArialMT-54\"/>\n       <use x=\"600.292969\" xlink:href=\"#ArialMT-44\"/>\n       <use x=\"628.076172\" xlink:href=\"#ArialMT-32\"/>\n       <use x=\"655.859375\" xlink:href=\"#ArialMT-50\"/>\n       <use x=\"711.474609\" xlink:href=\"#ArialMT-48\"/>\n       <use x=\"767.089844\" xlink:href=\"#ArialMT-50\"/>\n       <use x=\"822.705078\" xlink:href=\"#ArialMT-48\"/>\n      </g>\n     </g>\n    </g>\n    <g id=\"xtick_21\">\n     <g id=\"text_21\">\n      <!-- December 27, 2020 -->\n      <g style=\"fill:#262626;\" transform=\"translate(772.598906 502.860625)rotate(-90)scale(0.1 -0.1)\">\n       <use xlink:href=\"#ArialMT-68\"/>\n       <use x=\"72.216797\" xlink:href=\"#ArialMT-101\"/>\n       <use x=\"127.832031\" xlink:href=\"#ArialMT-99\"/>\n       <use x=\"177.832031\" xlink:href=\"#ArialMT-101\"/>\n       <use x=\"233.447266\" xlink:href=\"#ArialMT-109\"/>\n       <use x=\"316.748047\" xlink:href=\"#ArialMT-98\"/>\n       <use x=\"372.363281\" xlink:href=\"#ArialMT-101\"/>\n       <use x=\"427.978516\" xlink:href=\"#ArialMT-114\"/>\n       <use x=\"461.279297\" xlink:href=\"#ArialMT-32\"/>\n       <use x=\"489.0625\" xlink:href=\"#ArialMT-50\"/>\n       <use x=\"544.677734\" xlink:href=\"#ArialMT-55\"/>\n       <use x=\"600.292969\" xlink:href=\"#ArialMT-44\"/>\n       <use x=\"628.076172\" xlink:href=\"#ArialMT-32\"/>\n       <use x=\"655.859375\" xlink:href=\"#ArialMT-50\"/>\n       <use x=\"711.474609\" xlink:href=\"#ArialMT-48\"/>\n       <use x=\"767.089844\" xlink:href=\"#ArialMT-50\"/>\n       <use x=\"822.705078\" xlink:href=\"#ArialMT-48\"/>\n      </g>\n     </g>\n    </g>\n    <g id=\"xtick_22\">\n     <g id=\"text_22\">\n      <!-- December 28, 2020 -->\n      <g style=\"fill:#262626;\" transform=\"translate(807.473906 502.860625)rotate(-90)scale(0.1 -0.1)\">\n       <use xlink:href=\"#ArialMT-68\"/>\n       <use x=\"72.216797\" xlink:href=\"#ArialMT-101\"/>\n       <use x=\"127.832031\" xlink:href=\"#ArialMT-99\"/>\n       <use x=\"177.832031\" xlink:href=\"#ArialMT-101\"/>\n       <use x=\"233.447266\" xlink:href=\"#ArialMT-109\"/>\n       <use x=\"316.748047\" xlink:href=\"#ArialMT-98\"/>\n       <use x=\"372.363281\" xlink:href=\"#ArialMT-101\"/>\n       <use x=\"427.978516\" xlink:href=\"#ArialMT-114\"/>\n       <use x=\"461.279297\" xlink:href=\"#ArialMT-32\"/>\n       <use x=\"489.0625\" xlink:href=\"#ArialMT-50\"/>\n       <use x=\"544.677734\" xlink:href=\"#ArialMT-56\"/>\n       <use x=\"600.292969\" xlink:href=\"#ArialMT-44\"/>\n       <use x=\"628.076172\" xlink:href=\"#ArialMT-32\"/>\n       <use x=\"655.859375\" xlink:href=\"#ArialMT-50\"/>\n       <use x=\"711.474609\" xlink:href=\"#ArialMT-48\"/>\n       <use x=\"767.089844\" xlink:href=\"#ArialMT-50\"/>\n       <use x=\"822.705078\" xlink:href=\"#ArialMT-48\"/>\n      </g>\n     </g>\n    </g>\n    <g id=\"xtick_23\">\n     <g id=\"text_23\">\n      <!-- December 29, 2020 -->\n      <g style=\"fill:#262626;\" transform=\"translate(842.348906 502.860625)rotate(-90)scale(0.1 -0.1)\">\n       <use xlink:href=\"#ArialMT-68\"/>\n       <use x=\"72.216797\" xlink:href=\"#ArialMT-101\"/>\n       <use x=\"127.832031\" xlink:href=\"#ArialMT-99\"/>\n       <use x=\"177.832031\" xlink:href=\"#ArialMT-101\"/>\n       <use x=\"233.447266\" xlink:href=\"#ArialMT-109\"/>\n       <use x=\"316.748047\" xlink:href=\"#ArialMT-98\"/>\n       <use x=\"372.363281\" xlink:href=\"#ArialMT-101\"/>\n       <use x=\"427.978516\" xlink:href=\"#ArialMT-114\"/>\n       <use x=\"461.279297\" xlink:href=\"#ArialMT-32\"/>\n       <use x=\"489.0625\" xlink:href=\"#ArialMT-50\"/>\n       <use x=\"544.677734\" xlink:href=\"#ArialMT-57\"/>\n       <use x=\"600.292969\" xlink:href=\"#ArialMT-44\"/>\n       <use x=\"628.076172\" xlink:href=\"#ArialMT-32\"/>\n       <use x=\"655.859375\" xlink:href=\"#ArialMT-50\"/>\n       <use x=\"711.474609\" xlink:href=\"#ArialMT-48\"/>\n       <use x=\"767.089844\" xlink:href=\"#ArialMT-50\"/>\n       <use x=\"822.705078\" xlink:href=\"#ArialMT-48\"/>\n      </g>\n     </g>\n    </g>\n    <g id=\"xtick_24\">\n     <g id=\"text_24\">\n      <!-- December 30, 2020 -->\n      <g style=\"fill:#262626;\" transform=\"translate(877.223906 502.860625)rotate(-90)scale(0.1 -0.1)\">\n       <use xlink:href=\"#ArialMT-68\"/>\n       <use x=\"72.216797\" xlink:href=\"#ArialMT-101\"/>\n       <use x=\"127.832031\" xlink:href=\"#ArialMT-99\"/>\n       <use x=\"177.832031\" xlink:href=\"#ArialMT-101\"/>\n       <use x=\"233.447266\" xlink:href=\"#ArialMT-109\"/>\n       <use x=\"316.748047\" xlink:href=\"#ArialMT-98\"/>\n       <use x=\"372.363281\" xlink:href=\"#ArialMT-101\"/>\n       <use x=\"427.978516\" xlink:href=\"#ArialMT-114\"/>\n       <use x=\"461.279297\" xlink:href=\"#ArialMT-32\"/>\n       <use x=\"489.0625\" xlink:href=\"#ArialMT-51\"/>\n       <use x=\"544.677734\" xlink:href=\"#ArialMT-48\"/>\n       <use x=\"600.292969\" xlink:href=\"#ArialMT-44\"/>\n       <use x=\"628.076172\" xlink:href=\"#ArialMT-32\"/>\n       <use x=\"655.859375\" xlink:href=\"#ArialMT-50\"/>\n       <use x=\"711.474609\" xlink:href=\"#ArialMT-48\"/>\n       <use x=\"767.089844\" xlink:href=\"#ArialMT-50\"/>\n       <use x=\"822.705078\" xlink:href=\"#ArialMT-48\"/>\n      </g>\n     </g>\n    </g>\n    <g id=\"text_25\">\n     <!-- period -->\n     <defs>\n      <path d=\"M 6.59375 -19.875 \nL 6.59375 51.859375 \nL 14.59375 51.859375 \nL 14.59375 45.125 \nQ 17.4375 49.078125 21 51.046875 \nQ 24.5625 53.03125 29.640625 53.03125 \nQ 36.28125 53.03125 41.359375 49.609375 \nQ 46.4375 46.1875 49.015625 39.953125 \nQ 51.609375 33.734375 51.609375 26.3125 \nQ 51.609375 18.359375 48.75 11.984375 \nQ 45.90625 5.609375 40.453125 2.21875 \nQ 35.015625 -1.171875 29 -1.171875 \nQ 24.609375 -1.171875 21.109375 0.6875 \nQ 17.625 2.546875 15.375 5.375 \nL 15.375 -19.875 \nz\nM 14.546875 25.640625 \nQ 14.546875 15.625 18.59375 10.84375 \nQ 22.65625 6.0625 28.421875 6.0625 \nQ 34.28125 6.0625 38.453125 11.015625 \nQ 42.625 15.96875 42.625 26.375 \nQ 42.625 36.28125 38.546875 41.203125 \nQ 34.46875 46.140625 28.8125 46.140625 \nQ 23.1875 46.140625 18.859375 40.890625 \nQ 14.546875 35.640625 14.546875 25.640625 \nz\n\" id=\"ArialMT-112\"/>\n      <path d=\"M 6.640625 61.46875 \nL 6.640625 71.578125 \nL 15.4375 71.578125 \nL 15.4375 61.46875 \nz\nM 6.640625 0 \nL 6.640625 51.859375 \nL 15.4375 51.859375 \nL 15.4375 0 \nz\n\" id=\"ArialMT-105\"/>\n      <path d=\"M 3.328125 25.921875 \nQ 3.328125 40.328125 11.328125 47.265625 \nQ 18.015625 53.03125 27.640625 53.03125 \nQ 38.328125 53.03125 45.109375 46.015625 \nQ 51.90625 39.015625 51.90625 26.65625 \nQ 51.90625 16.65625 48.90625 10.90625 \nQ 45.90625 5.171875 40.15625 2 \nQ 34.421875 -1.171875 27.640625 -1.171875 \nQ 16.75 -1.171875 10.03125 5.8125 \nQ 3.328125 12.796875 3.328125 25.921875 \nz\nM 12.359375 25.921875 \nQ 12.359375 15.96875 16.703125 11.015625 \nQ 21.046875 6.0625 27.640625 6.0625 \nQ 34.1875 6.0625 38.53125 11.03125 \nQ 42.875 16.015625 42.875 26.21875 \nQ 42.875 35.84375 38.5 40.796875 \nQ 34.125 45.75 27.640625 45.75 \nQ 21.046875 45.75 16.703125 40.8125 \nQ 12.359375 35.890625 12.359375 25.921875 \nz\n\" id=\"ArialMT-111\"/>\n      <path d=\"M 40.234375 0 \nL 40.234375 6.546875 \nQ 35.296875 -1.171875 25.734375 -1.171875 \nQ 19.53125 -1.171875 14.328125 2.25 \nQ 9.125 5.671875 6.265625 11.796875 \nQ 3.421875 17.921875 3.421875 25.875 \nQ 3.421875 33.640625 6 39.96875 \nQ 8.59375 46.296875 13.765625 49.65625 \nQ 18.953125 53.03125 25.34375 53.03125 \nQ 30.03125 53.03125 33.6875 51.046875 \nQ 37.359375 49.078125 39.65625 45.90625 \nL 39.65625 71.578125 \nL 48.390625 71.578125 \nL 48.390625 0 \nz\nM 12.453125 25.875 \nQ 12.453125 15.921875 16.640625 10.984375 \nQ 20.84375 6.0625 26.5625 6.0625 \nQ 32.328125 6.0625 36.34375 10.765625 \nQ 40.375 15.484375 40.375 25.140625 \nQ 40.375 35.796875 36.265625 40.765625 \nQ 32.171875 45.75 26.171875 45.75 \nQ 20.3125 45.75 16.375 40.96875 \nQ 12.453125 36.1875 12.453125 25.875 \nz\n\" id=\"ArialMT-100\"/>\n     </defs>\n     <g style=\"fill:#262626;\" transform=\"translate(451.34 518.313125)scale(0.16 -0.16)\">\n      <use xlink:href=\"#ArialMT-112\"/>\n      <use x=\"55.615234\" xlink:href=\"#ArialMT-101\"/>\n      <use x=\"111.230469\" xlink:href=\"#ArialMT-114\"/>\n      <use x=\"144.53125\" xlink:href=\"#ArialMT-105\"/>\n      <use x=\"166.748047\" xlink:href=\"#ArialMT-111\"/>\n      <use x=\"222.363281\" xlink:href=\"#ArialMT-100\"/>\n     </g>\n    </g>\n   </g>\n   <g id=\"matplotlib.axis_2\">\n    <g id=\"ytick_1\">\n     <g id=\"line2d_1\">\n      <path clip-path=\"url(#p5018f9f40e)\" d=\"M 55.07625 408.035625 \nL 892.07625 408.035625 \n\" style=\"fill:none;stroke:#cccccc;stroke-linecap:round;stroke-width:0.8;\"/>\n     </g>\n     <g id=\"text_26\">\n      <!-- 0 -->\n      <g style=\"fill:#262626;\" transform=\"translate(42.515313 411.614531)scale(0.1 -0.1)\">\n       <use xlink:href=\"#ArialMT-48\"/>\n      </g>\n     </g>\n    </g>\n    <g id=\"ytick_2\">\n     <g id=\"line2d_2\">\n      <path clip-path=\"url(#p5018f9f40e)\" d=\"M 55.07625 348.332165 \nL 892.07625 348.332165 \n\" style=\"fill:none;stroke:#cccccc;stroke-linecap:round;stroke-width:0.8;\"/>\n     </g>\n     <g id=\"text_27\">\n      <!-- 1000 -->\n      <g style=\"fill:#262626;\" transform=\"translate(25.8325 351.911072)scale(0.1 -0.1)\">\n       <use xlink:href=\"#ArialMT-49\"/>\n       <use x=\"55.615234\" xlink:href=\"#ArialMT-48\"/>\n       <use x=\"111.230469\" xlink:href=\"#ArialMT-48\"/>\n       <use x=\"166.845703\" xlink:href=\"#ArialMT-48\"/>\n      </g>\n     </g>\n    </g>\n    <g id=\"ytick_3\">\n     <g id=\"line2d_3\">\n      <path clip-path=\"url(#p5018f9f40e)\" d=\"M 55.07625 288.628706 \nL 892.07625 288.628706 \n\" style=\"fill:none;stroke:#cccccc;stroke-linecap:round;stroke-width:0.8;\"/>\n     </g>\n     <g id=\"text_28\">\n      <!-- 2000 -->\n      <g style=\"fill:#262626;\" transform=\"translate(25.8325 292.207612)scale(0.1 -0.1)\">\n       <use xlink:href=\"#ArialMT-50\"/>\n       <use x=\"55.615234\" xlink:href=\"#ArialMT-48\"/>\n       <use x=\"111.230469\" xlink:href=\"#ArialMT-48\"/>\n       <use x=\"166.845703\" xlink:href=\"#ArialMT-48\"/>\n      </g>\n     </g>\n    </g>\n    <g id=\"ytick_4\">\n     <g id=\"line2d_4\">\n      <path clip-path=\"url(#p5018f9f40e)\" d=\"M 55.07625 228.925246 \nL 892.07625 228.925246 \n\" style=\"fill:none;stroke:#cccccc;stroke-linecap:round;stroke-width:0.8;\"/>\n     </g>\n     <g id=\"text_29\">\n      <!-- 3000 -->\n      <g style=\"fill:#262626;\" transform=\"translate(25.8325 232.504152)scale(0.1 -0.1)\">\n       <use xlink:href=\"#ArialMT-51\"/>\n       <use x=\"55.615234\" xlink:href=\"#ArialMT-48\"/>\n       <use x=\"111.230469\" xlink:href=\"#ArialMT-48\"/>\n       <use x=\"166.845703\" xlink:href=\"#ArialMT-48\"/>\n      </g>\n     </g>\n    </g>\n    <g id=\"ytick_5\">\n     <g id=\"line2d_5\">\n      <path clip-path=\"url(#p5018f9f40e)\" d=\"M 55.07625 169.221786 \nL 892.07625 169.221786 \n\" style=\"fill:none;stroke:#cccccc;stroke-linecap:round;stroke-width:0.8;\"/>\n     </g>\n     <g id=\"text_30\">\n      <!-- 4000 -->\n      <g style=\"fill:#262626;\" transform=\"translate(25.8325 172.800693)scale(0.1 -0.1)\">\n       <use xlink:href=\"#ArialMT-52\"/>\n       <use x=\"55.615234\" xlink:href=\"#ArialMT-48\"/>\n       <use x=\"111.230469\" xlink:href=\"#ArialMT-48\"/>\n       <use x=\"166.845703\" xlink:href=\"#ArialMT-48\"/>\n      </g>\n     </g>\n    </g>\n    <g id=\"ytick_6\">\n     <g id=\"line2d_6\">\n      <path clip-path=\"url(#p5018f9f40e)\" d=\"M 55.07625 109.518327 \nL 892.07625 109.518327 \n\" style=\"fill:none;stroke:#cccccc;stroke-linecap:round;stroke-width:0.8;\"/>\n     </g>\n     <g id=\"text_31\">\n      <!-- 5000 -->\n      <g style=\"fill:#262626;\" transform=\"translate(25.8325 113.097233)scale(0.1 -0.1)\">\n       <use xlink:href=\"#ArialMT-53\"/>\n       <use x=\"55.615234\" xlink:href=\"#ArialMT-48\"/>\n       <use x=\"111.230469\" xlink:href=\"#ArialMT-48\"/>\n       <use x=\"166.845703\" xlink:href=\"#ArialMT-48\"/>\n      </g>\n     </g>\n    </g>\n    <g id=\"ytick_7\">\n     <g id=\"line2d_7\">\n      <path clip-path=\"url(#p5018f9f40e)\" d=\"M 55.07625 49.814867 \nL 892.07625 49.814867 \n\" style=\"fill:none;stroke:#cccccc;stroke-linecap:round;stroke-width:0.8;\"/>\n     </g>\n     <g id=\"text_32\">\n      <!-- 6000 -->\n      <g style=\"fill:#262626;\" transform=\"translate(25.8325 53.393773)scale(0.1 -0.1)\">\n       <use xlink:href=\"#ArialMT-54\"/>\n       <use x=\"55.615234\" xlink:href=\"#ArialMT-48\"/>\n       <use x=\"111.230469\" xlink:href=\"#ArialMT-48\"/>\n       <use x=\"166.845703\" xlink:href=\"#ArialMT-48\"/>\n      </g>\n     </g>\n    </g>\n    <g id=\"text_33\">\n     <!-- number of events -->\n     <defs>\n      <path d=\"M 6.59375 0 \nL 6.59375 51.859375 \nL 14.5 51.859375 \nL 14.5 44.484375 \nQ 20.21875 53.03125 31 53.03125 \nQ 35.6875 53.03125 39.625 51.34375 \nQ 43.5625 49.65625 45.515625 46.921875 \nQ 47.46875 44.1875 48.25 40.4375 \nQ 48.734375 37.984375 48.734375 31.890625 \nL 48.734375 0 \nL 39.9375 0 \nL 39.9375 31.546875 \nQ 39.9375 36.921875 38.90625 39.578125 \nQ 37.890625 42.234375 35.28125 43.8125 \nQ 32.671875 45.40625 29.15625 45.40625 \nQ 23.53125 45.40625 19.453125 41.84375 \nQ 15.375 38.28125 15.375 28.328125 \nL 15.375 0 \nz\n\" id=\"ArialMT-110\"/>\n      <path d=\"M 40.578125 0 \nL 40.578125 7.625 \nQ 34.515625 -1.171875 24.125 -1.171875 \nQ 19.53125 -1.171875 15.546875 0.578125 \nQ 11.578125 2.34375 9.640625 5 \nQ 7.71875 7.671875 6.9375 11.53125 \nQ 6.390625 14.109375 6.390625 19.734375 \nL 6.390625 51.859375 \nL 15.1875 51.859375 \nL 15.1875 23.09375 \nQ 15.1875 16.21875 15.71875 13.8125 \nQ 16.546875 10.359375 19.234375 8.375 \nQ 21.921875 6.390625 25.875 6.390625 \nQ 29.828125 6.390625 33.296875 8.421875 \nQ 36.765625 10.453125 38.203125 13.9375 \nQ 39.65625 17.4375 39.65625 24.078125 \nL 39.65625 51.859375 \nL 48.4375 51.859375 \nL 48.4375 0 \nz\n\" id=\"ArialMT-117\"/>\n      <path d=\"M 8.6875 0 \nL 8.6875 45.015625 \nL 0.921875 45.015625 \nL 0.921875 51.859375 \nL 8.6875 51.859375 \nL 8.6875 57.375 \nQ 8.6875 62.59375 9.625 65.140625 \nQ 10.890625 68.5625 14.078125 70.671875 \nQ 17.28125 72.796875 23.046875 72.796875 \nQ 26.765625 72.796875 31.25 71.921875 \nL 29.9375 64.265625 \nQ 27.203125 64.75 24.75 64.75 \nQ 20.75 64.75 19.09375 63.03125 \nQ 17.4375 61.328125 17.4375 56.640625 \nL 17.4375 51.859375 \nL 27.546875 51.859375 \nL 27.546875 45.015625 \nL 17.4375 45.015625 \nL 17.4375 0 \nz\n\" id=\"ArialMT-102\"/>\n      <path d=\"M 21 0 \nL 1.265625 51.859375 \nL 10.546875 51.859375 \nL 21.6875 20.796875 \nQ 23.484375 15.765625 25 10.359375 \nQ 26.171875 14.453125 28.265625 20.21875 \nL 39.796875 51.859375 \nL 48.828125 51.859375 \nL 29.203125 0 \nz\n\" id=\"ArialMT-118\"/>\n      <path d=\"M 25.78125 7.859375 \nL 27.046875 0.09375 \nQ 23.34375 -0.6875 20.40625 -0.6875 \nQ 15.625 -0.6875 12.984375 0.828125 \nQ 10.359375 2.34375 9.28125 4.8125 \nQ 8.203125 7.28125 8.203125 15.1875 \nL 8.203125 45.015625 \nL 1.765625 45.015625 \nL 1.765625 51.859375 \nL 8.203125 51.859375 \nL 8.203125 64.703125 \nL 16.9375 69.96875 \nL 16.9375 51.859375 \nL 25.78125 51.859375 \nL 25.78125 45.015625 \nL 16.9375 45.015625 \nL 16.9375 14.703125 \nQ 16.9375 10.9375 17.40625 9.859375 \nQ 17.875 8.796875 18.921875 8.15625 \nQ 19.96875 7.515625 21.921875 7.515625 \nQ 23.390625 7.515625 25.78125 7.859375 \nz\n\" id=\"ArialMT-116\"/>\n      <path d=\"M 3.078125 15.484375 \nL 11.765625 16.84375 \nQ 12.5 11.625 15.84375 8.84375 \nQ 19.1875 6.0625 25.203125 6.0625 \nQ 31.25 6.0625 34.171875 8.515625 \nQ 37.109375 10.984375 37.109375 14.3125 \nQ 37.109375 17.28125 34.515625 19 \nQ 32.71875 20.171875 25.53125 21.96875 \nQ 15.875 24.421875 12.140625 26.203125 \nQ 8.40625 27.984375 6.46875 31.125 \nQ 4.546875 34.28125 4.546875 38.09375 \nQ 4.546875 41.546875 6.125 44.5 \nQ 7.71875 47.46875 10.453125 49.421875 \nQ 12.5 50.921875 16.03125 51.96875 \nQ 19.578125 53.03125 23.640625 53.03125 \nQ 29.734375 53.03125 34.34375 51.265625 \nQ 38.96875 49.515625 41.15625 46.5 \nQ 43.359375 43.5 44.1875 38.484375 \nL 35.59375 37.3125 \nQ 35.015625 41.3125 32.203125 43.546875 \nQ 29.390625 45.796875 24.265625 45.796875 \nQ 18.21875 45.796875 15.625 43.796875 \nQ 13.03125 41.796875 13.03125 39.109375 \nQ 13.03125 37.40625 14.109375 36.03125 \nQ 15.1875 34.625 17.484375 33.6875 \nQ 18.796875 33.203125 25.25 31.453125 \nQ 34.578125 28.953125 38.25 27.359375 \nQ 41.9375 25.78125 44.03125 22.75 \nQ 46.140625 19.734375 46.140625 15.234375 \nQ 46.140625 10.84375 43.578125 6.953125 \nQ 41.015625 3.078125 36.171875 0.953125 \nQ 31.34375 -1.171875 25.25 -1.171875 \nQ 15.140625 -1.171875 9.84375 3.03125 \nQ 4.546875 7.234375 3.078125 15.484375 \nz\n\" id=\"ArialMT-115\"/>\n     </defs>\n     <g style=\"fill:#262626;\" transform=\"translate(18.6525 279.583125)rotate(-90)scale(0.16 -0.16)\">\n      <use xlink:href=\"#ArialMT-110\"/>\n      <use x=\"55.615234\" xlink:href=\"#ArialMT-117\"/>\n      <use x=\"111.230469\" xlink:href=\"#ArialMT-109\"/>\n      <use x=\"194.53125\" xlink:href=\"#ArialMT-98\"/>\n      <use x=\"250.146484\" xlink:href=\"#ArialMT-101\"/>\n      <use x=\"305.761719\" xlink:href=\"#ArialMT-114\"/>\n      <use x=\"339.0625\" xlink:href=\"#ArialMT-32\"/>\n      <use x=\"366.845703\" xlink:href=\"#ArialMT-111\"/>\n      <use x=\"422.460938\" xlink:href=\"#ArialMT-102\"/>\n      <use x=\"450.244141\" xlink:href=\"#ArialMT-32\"/>\n      <use x=\"478.027344\" xlink:href=\"#ArialMT-101\"/>\n      <use x=\"533.642578\" xlink:href=\"#ArialMT-118\"/>\n      <use x=\"583.642578\" xlink:href=\"#ArialMT-101\"/>\n      <use x=\"639.257812\" xlink:href=\"#ArialMT-110\"/>\n      <use x=\"694.873047\" xlink:href=\"#ArialMT-116\"/>\n      <use x=\"722.65625\" xlink:href=\"#ArialMT-115\"/>\n     </g>\n    </g>\n   </g>\n   <g id=\"patch_3\">\n    <path clip-path=\"url(#p5018f9f40e)\" d=\"M 58.56375 408.035625 \nL 86.46375 408.035625 \nL 86.46375 284.56887 \nL 58.56375 284.56887 \nz\n\" style=\"fill:#120e20;stroke:#ffffff;stroke-linejoin:miter;\"/>\n   </g>\n   <g id=\"patch_4\">\n    <path clip-path=\"url(#p5018f9f40e)\" d=\"M 93.43875 408.035625 \nL 121.33875 408.035625 \nL 121.33875 270.06093 \nL 93.43875 270.06093 \nz\n\" style=\"fill:#1e152a;stroke:#ffffff;stroke-linejoin:miter;\"/>\n   </g>\n   <g id=\"patch_5\">\n    <path clip-path=\"url(#p5018f9f40e)\" d=\"M 128.31375 408.035625 \nL 156.21375 408.035625 \nL 156.21375 268.747454 \nL 128.31375 268.747454 \nz\n\" style=\"fill:#2b1b34;stroke:#ffffff;stroke-linejoin:miter;\"/>\n   </g>\n   <g id=\"patch_6\">\n    <path clip-path=\"url(#p5018f9f40e)\" d=\"M 163.18875 408.035625 \nL 191.08875 408.035625 \nL 191.08875 255.732099 \nL 163.18875 255.732099 \nz\n\" style=\"fill:#381f3d;stroke:#ffffff;stroke-linejoin:miter;\"/>\n   </g>\n   <g id=\"patch_7\">\n    <path clip-path=\"url(#p5018f9f40e)\" d=\"M 198.06375 408.035625 \nL 225.96375 408.035625 \nL 225.96375 252.62752 \nL 198.06375 252.62752 \nz\n\" style=\"fill:#472345;stroke:#ffffff;stroke-linejoin:miter;\"/>\n   </g>\n   <g id=\"patch_8\">\n    <path clip-path=\"url(#p5018f9f40e)\" d=\"M 232.93875 408.035625 \nL 260.83875 408.035625 \nL 260.83875 200.148179 \nL 232.93875 200.148179 \nz\n\" style=\"fill:#55264c;stroke:#ffffff;stroke-linejoin:miter;\"/>\n   </g>\n   <g id=\"patch_9\">\n    <path clip-path=\"url(#p5018f9f40e)\" d=\"M 267.81375 408.035625 \nL 295.71375 408.035625 \nL 295.71375 170.774076 \nL 267.81375 170.774076 \nz\n\" style=\"fill:#632952;stroke:#ffffff;stroke-linejoin:miter;\"/>\n   </g>\n   <g id=\"patch_10\">\n    <path clip-path=\"url(#p5018f9f40e)\" d=\"M 302.68875 408.035625 \nL 330.58875 408.035625 \nL 330.58875 122.473978 \nL 302.68875 122.473978 \nz\n\" style=\"fill:#712a57;stroke:#ffffff;stroke-linejoin:miter;\"/>\n   </g>\n   <g id=\"patch_11\">\n    <path clip-path=\"url(#p5018f9f40e)\" d=\"M 337.56375 408.035625 \nL 365.46375 408.035625 \nL 365.46375 149.340534 \nL 337.56375 149.340534 \nz\n\" style=\"fill:#812b5a;stroke:#ffffff;stroke-linejoin:miter;\"/>\n   </g>\n   <g id=\"patch_12\">\n    <path clip-path=\"url(#p5018f9f40e)\" d=\"M 372.43875 408.035625 \nL 400.33875 408.035625 \nL 400.33875 168.266531 \nL 372.43875 168.266531 \nz\n\" style=\"fill:#902b5c;stroke:#ffffff;stroke-linejoin:miter;\"/>\n   </g>\n   <g id=\"patch_13\">\n    <path clip-path=\"url(#p5018f9f40e)\" d=\"M 407.31375 408.035625 \nL 435.21375 408.035625 \nL 435.21375 162.355889 \nL 407.31375 162.355889 \nz\n\" style=\"fill:#9f2a5b;stroke:#ffffff;stroke-linejoin:miter;\"/>\n   </g>\n   <g id=\"patch_14\">\n    <path clip-path=\"url(#p5018f9f40e)\" d=\"M 442.18875 408.035625 \nL 470.08875 408.035625 \nL 470.08875 156.146729 \nL 442.18875 156.146729 \nz\n\" style=\"fill:#ad2c5a;stroke:#ffffff;stroke-linejoin:miter;\"/>\n   </g>\n   <g id=\"patch_15\">\n    <path clip-path=\"url(#p5018f9f40e)\" d=\"M 477.06375 408.035625 \nL 504.96375 408.035625 \nL 504.96375 147.728541 \nL 477.06375 147.728541 \nz\n\" style=\"fill:#bc3657;stroke:#ffffff;stroke-linejoin:miter;\"/>\n   </g>\n   <g id=\"patch_16\">\n    <path clip-path=\"url(#p5018f9f40e)\" d=\"M 511.93875 408.035625 \nL 539.83875 408.035625 \nL 539.83875 119.787322 \nL 511.93875 119.787322 \nz\n\" style=\"fill:#c84455;stroke:#ffffff;stroke-linejoin:miter;\"/>\n   </g>\n   <g id=\"patch_17\">\n    <path clip-path=\"url(#p5018f9f40e)\" d=\"M 546.81375 408.035625 \nL 574.71375 408.035625 \nL 574.71375 45.635625 \nL 546.81375 45.635625 \nz\n\" style=\"fill:#d35454;stroke:#ffffff;stroke-linejoin:miter;\"/>\n   </g>\n   <g id=\"patch_18\">\n    <path clip-path=\"url(#p5018f9f40e)\" d=\"M 581.68875 408.035625 \nL 609.58875 408.035625 \nL 609.58875 88.502709 \nL 581.68875 88.502709 \nz\n\" style=\"fill:#d86355;stroke:#ffffff;stroke-linejoin:miter;\"/>\n   </g>\n   <g id=\"patch_19\">\n    <path clip-path=\"url(#p5018f9f40e)\" d=\"M 616.56375 408.035625 \nL 644.46375 408.035625 \nL 644.46375 115.070749 \nL 616.56375 115.070749 \nz\n\" style=\"fill:#dc755c;stroke:#ffffff;stroke-linejoin:miter;\"/>\n   </g>\n   <g id=\"patch_20\">\n    <path clip-path=\"url(#p5018f9f40e)\" d=\"M 651.43875 408.035625 \nL 679.33875 408.035625 \nL 679.33875 187.729859 \nL 651.43875 187.729859 \nz\n\" style=\"fill:#e08468;stroke:#ffffff;stroke-linejoin:miter;\"/>\n   </g>\n   <g id=\"patch_21\">\n    <path clip-path=\"url(#p5018f9f40e)\" d=\"M 686.31375 408.035625 \nL 714.21375 408.035625 \nL 714.21375 229.044653 \nL 686.31375 229.044653 \nz\n\" style=\"fill:#e39375;stroke:#ffffff;stroke-linejoin:miter;\"/>\n   </g>\n   <g id=\"patch_22\">\n    <path clip-path=\"url(#p5018f9f40e)\" d=\"M 721.18875 408.035625 \nL 749.08875 408.035625 \nL 749.08875 250.836416 \nL 721.18875 250.836416 \nz\n\" style=\"fill:#e5a283;stroke:#ffffff;stroke-linejoin:miter;\"/>\n   </g>\n   <g id=\"patch_23\">\n    <path clip-path=\"url(#p5018f9f40e)\" d=\"M 756.06375 408.035625 \nL 783.96375 408.035625 \nL 783.96375 264.986136 \nL 756.06375 264.986136 \nz\n\" style=\"fill:#e8b295;stroke:#ffffff;stroke-linejoin:miter;\"/>\n   </g>\n   <g id=\"patch_24\">\n    <path clip-path=\"url(#p5018f9f40e)\" d=\"M 790.93875 408.035625 \nL 818.83875 408.035625 \nL 818.83875 281.703104 \nL 790.93875 281.703104 \nz\n\" style=\"fill:#ebc1a7;stroke:#ffffff;stroke-linejoin:miter;\"/>\n   </g>\n   <g id=\"patch_25\">\n    <path clip-path=\"url(#p5018f9f40e)\" d=\"M 825.81375 408.035625 \nL 853.71375 408.035625 \nL 853.71375 302.181391 \nL 825.81375 302.181391 \nz\n\" style=\"fill:#eecfba;stroke:#ffffff;stroke-linejoin:miter;\"/>\n   </g>\n   <g id=\"patch_26\">\n    <path clip-path=\"url(#p5018f9f40e)\" d=\"M 860.68875 408.035625 \nL 888.58875 408.035625 \nL 888.58875 407.08037 \nL 860.68875 407.08037 \nz\n\" style=\"fill:#f2ddcd;stroke:#ffffff;stroke-linejoin:miter;\"/>\n   </g>\n   <g id=\"line2d_8\">\n    <path clip-path=\"url(#p5018f9f40e)\" d=\"M 0 0 \n\" style=\"fill:none;stroke:#424242;stroke-linecap:round;stroke-width:2.7;\"/>\n   </g>\n   <g id=\"line2d_9\">\n    <path clip-path=\"url(#p5018f9f40e)\" d=\"M 0 0 \n\" style=\"fill:none;stroke:#424242;stroke-linecap:round;stroke-width:2.7;\"/>\n   </g>\n   <g id=\"line2d_10\">\n    <path clip-path=\"url(#p5018f9f40e)\" d=\"M 0 0 \n\" style=\"fill:none;stroke:#424242;stroke-linecap:round;stroke-width:2.7;\"/>\n   </g>\n   <g id=\"line2d_11\">\n    <path clip-path=\"url(#p5018f9f40e)\" d=\"M 0 0 \n\" style=\"fill:none;stroke:#424242;stroke-linecap:round;stroke-width:2.7;\"/>\n   </g>\n   <g id=\"line2d_12\">\n    <path clip-path=\"url(#p5018f9f40e)\" d=\"M 0 0 \n\" style=\"fill:none;stroke:#424242;stroke-linecap:round;stroke-width:2.7;\"/>\n   </g>\n   <g id=\"line2d_13\">\n    <path clip-path=\"url(#p5018f9f40e)\" d=\"M 0 0 \n\" style=\"fill:none;stroke:#424242;stroke-linecap:round;stroke-width:2.7;\"/>\n   </g>\n   <g id=\"line2d_14\">\n    <path clip-path=\"url(#p5018f9f40e)\" d=\"M 0 0 \n\" style=\"fill:none;stroke:#424242;stroke-linecap:round;stroke-width:2.7;\"/>\n   </g>\n   <g id=\"line2d_15\">\n    <path clip-path=\"url(#p5018f9f40e)\" d=\"M 0 0 \n\" style=\"fill:none;stroke:#424242;stroke-linecap:round;stroke-width:2.7;\"/>\n   </g>\n   <g id=\"line2d_16\">\n    <path clip-path=\"url(#p5018f9f40e)\" d=\"M 0 0 \n\" style=\"fill:none;stroke:#424242;stroke-linecap:round;stroke-width:2.7;\"/>\n   </g>\n   <g id=\"line2d_17\">\n    <path clip-path=\"url(#p5018f9f40e)\" d=\"M 0 0 \n\" style=\"fill:none;stroke:#424242;stroke-linecap:round;stroke-width:2.7;\"/>\n   </g>\n   <g id=\"line2d_18\">\n    <path clip-path=\"url(#p5018f9f40e)\" d=\"M 0 0 \n\" style=\"fill:none;stroke:#424242;stroke-linecap:round;stroke-width:2.7;\"/>\n   </g>\n   <g id=\"line2d_19\">\n    <path clip-path=\"url(#p5018f9f40e)\" d=\"M 0 0 \n\" style=\"fill:none;stroke:#424242;stroke-linecap:round;stroke-width:2.7;\"/>\n   </g>\n   <g id=\"line2d_20\">\n    <path clip-path=\"url(#p5018f9f40e)\" d=\"M 0 0 \n\" style=\"fill:none;stroke:#424242;stroke-linecap:round;stroke-width:2.7;\"/>\n   </g>\n   <g id=\"line2d_21\">\n    <path clip-path=\"url(#p5018f9f40e)\" d=\"M 0 0 \n\" style=\"fill:none;stroke:#424242;stroke-linecap:round;stroke-width:2.7;\"/>\n   </g>\n   <g id=\"line2d_22\">\n    <path clip-path=\"url(#p5018f9f40e)\" d=\"M 0 0 \n\" style=\"fill:none;stroke:#424242;stroke-linecap:round;stroke-width:2.7;\"/>\n   </g>\n   <g id=\"line2d_23\">\n    <path clip-path=\"url(#p5018f9f40e)\" d=\"M 0 0 \n\" style=\"fill:none;stroke:#424242;stroke-linecap:round;stroke-width:2.7;\"/>\n   </g>\n   <g id=\"line2d_24\">\n    <path clip-path=\"url(#p5018f9f40e)\" d=\"M 0 0 \n\" style=\"fill:none;stroke:#424242;stroke-linecap:round;stroke-width:2.7;\"/>\n   </g>\n   <g id=\"line2d_25\">\n    <path clip-path=\"url(#p5018f9f40e)\" d=\"M 0 0 \n\" style=\"fill:none;stroke:#424242;stroke-linecap:round;stroke-width:2.7;\"/>\n   </g>\n   <g id=\"line2d_26\">\n    <path clip-path=\"url(#p5018f9f40e)\" d=\"M 0 0 \n\" style=\"fill:none;stroke:#424242;stroke-linecap:round;stroke-width:2.7;\"/>\n   </g>\n   <g id=\"line2d_27\">\n    <path clip-path=\"url(#p5018f9f40e)\" d=\"M 0 0 \n\" style=\"fill:none;stroke:#424242;stroke-linecap:round;stroke-width:2.7;\"/>\n   </g>\n   <g id=\"line2d_28\">\n    <path clip-path=\"url(#p5018f9f40e)\" d=\"M 0 0 \n\" style=\"fill:none;stroke:#424242;stroke-linecap:round;stroke-width:2.7;\"/>\n   </g>\n   <g id=\"line2d_29\">\n    <path clip-path=\"url(#p5018f9f40e)\" d=\"M 0 0 \n\" style=\"fill:none;stroke:#424242;stroke-linecap:round;stroke-width:2.7;\"/>\n   </g>\n   <g id=\"line2d_30\">\n    <path clip-path=\"url(#p5018f9f40e)\" d=\"M 0 0 \n\" style=\"fill:none;stroke:#424242;stroke-linecap:round;stroke-width:2.7;\"/>\n   </g>\n   <g id=\"line2d_31\">\n    <path clip-path=\"url(#p5018f9f40e)\" d=\"M 0 0 \n\" style=\"fill:none;stroke:#424242;stroke-linecap:round;stroke-width:2.7;\"/>\n   </g>\n   <g id=\"patch_27\">\n    <path d=\"M 55.07625 408.035625 \nL 55.07625 27.515625 \n\" style=\"fill:none;stroke:#cccccc;stroke-linecap:square;stroke-linejoin:miter;stroke-width:0.8;\"/>\n   </g>\n   <g id=\"patch_28\">\n    <path d=\"M 892.07625 408.035625 \nL 892.07625 27.515625 \n\" style=\"fill:none;stroke:#cccccc;stroke-linecap:square;stroke-linejoin:miter;stroke-width:0.8;\"/>\n   </g>\n   <g id=\"patch_29\">\n    <path d=\"M 55.07625 408.035625 \nL 892.07625 408.035625 \n\" style=\"fill:none;stroke:#cccccc;stroke-linecap:square;stroke-linejoin:miter;stroke-width:0.8;\"/>\n   </g>\n   <g id=\"patch_30\">\n    <path d=\"M 55.07625 27.515625 \nL 892.07625 27.515625 \n\" style=\"fill:none;stroke:#cccccc;stroke-linecap:square;stroke-linejoin:miter;stroke-width:0.8;\"/>\n   </g>\n   <g id=\"text_34\">\n    <!-- Number of Events -->\n    <defs>\n     <path d=\"M 7.625 0 \nL 7.625 71.578125 \nL 17.328125 71.578125 \nL 54.9375 15.375 \nL 54.9375 71.578125 \nL 64.015625 71.578125 \nL 64.015625 0 \nL 54.296875 0 \nL 16.703125 56.25 \nL 16.703125 0 \nz\n\" id=\"ArialMT-78\"/>\n     <path d=\"M 7.90625 0 \nL 7.90625 71.578125 \nL 59.671875 71.578125 \nL 59.671875 63.140625 \nL 17.390625 63.140625 \nL 17.390625 41.21875 \nL 56.984375 41.21875 \nL 56.984375 32.8125 \nL 17.390625 32.8125 \nL 17.390625 8.453125 \nL 61.328125 8.453125 \nL 61.328125 0 \nz\n\" id=\"ArialMT-69\"/>\n    </defs>\n    <g style=\"fill:#262626;\" transform=\"translate(393.546562 21.515625)scale(0.2 -0.2)\">\n     <use xlink:href=\"#ArialMT-78\"/>\n     <use x=\"72.216797\" xlink:href=\"#ArialMT-117\"/>\n     <use x=\"127.832031\" xlink:href=\"#ArialMT-109\"/>\n     <use x=\"211.132812\" xlink:href=\"#ArialMT-98\"/>\n     <use x=\"266.748047\" xlink:href=\"#ArialMT-101\"/>\n     <use x=\"322.363281\" xlink:href=\"#ArialMT-114\"/>\n     <use x=\"355.664062\" xlink:href=\"#ArialMT-32\"/>\n     <use x=\"383.447266\" xlink:href=\"#ArialMT-111\"/>\n     <use x=\"439.0625\" xlink:href=\"#ArialMT-102\"/>\n     <use x=\"466.845703\" xlink:href=\"#ArialMT-32\"/>\n     <use x=\"494.628906\" xlink:href=\"#ArialMT-69\"/>\n     <use x=\"561.328125\" xlink:href=\"#ArialMT-118\"/>\n     <use x=\"611.328125\" xlink:href=\"#ArialMT-101\"/>\n     <use x=\"666.943359\" xlink:href=\"#ArialMT-110\"/>\n     <use x=\"722.558594\" xlink:href=\"#ArialMT-116\"/>\n     <use x=\"750.341797\" xlink:href=\"#ArialMT-115\"/>\n    </g>\n   </g>\n  </g>\n </g>\n <defs>\n  <clipPath id=\"p5018f9f40e\">\n   <rect height=\"380.52\" width=\"837\" x=\"55.07625\" y=\"27.515625\"/>\n  </clipPath>\n </defs>\n</svg>\n",
      "image/png": "[encoded data removed]"
     },
     "metadata": {
      "needs_background": "light"
     }
    }
   ],
   "source": [
    "plt.figure(figsize=(15,7))\n",
    "sns.set_style(\"whitegrid\")\n",
    "ax = sns.barplot(x=\"date\", y=\"event_name\", data=events_by_date,\n",
    "                 palette=\"rocket\")\n",
    "plt.xticks(rotation=90)\n",
    "ax.set(xlabel='period', ylabel='number of events')\n",
    "ax.xaxis.label.set_size(16)\n",
    "ax.yaxis.label.set_size(16)\n",
    "plt.title('Number of Events', fontsize = 20)\n",
    "plt.show()"
   ]
  },
  {
   "cell_type": "markdown",
   "metadata": {},
   "source": [
    "We can see the growing number of actions with the peak on the 21st of December, then the activity slows down."
   ]
  },
  {
   "cell_type": "markdown",
   "metadata": {},
   "source": [
    "**Are there any peculiarities in the data that you have to take into account before starting the A/B test?**"
   ]
  },
  {
   "cell_type": "code",
   "execution_count": 40,
   "metadata": {},
   "outputs": [
    {
     "output_type": "execute_result",
     "data": {
      "text/plain": [
       "       user_id\n",
       "group         \n",
       "A         5467\n",
       "B         5383"
      ],
      "text/html": "<div>\n<style scoped>\n    .dataframe tbody tr th:only-of-type {\n        vertical-align: middle;\n    }\n\n    .dataframe tbody tr th {\n        vertical-align: top;\n    }\n\n    .dataframe thead th {\n        text-align: right;\n    }\n</style>\n<table border=\"1\" class=\"dataframe\">\n  <thead>\n    <tr style=\"text-align: right;\">\n      <th></th>\n      <th>user_id</th>\n    </tr>\n    <tr>\n      <th>group</th>\n      <th></th>\n    </tr>\n  </thead>\n  <tbody>\n    <tr>\n      <th>A</th>\n      <td>5467</td>\n    </tr>\n    <tr>\n      <th>B</th>\n      <td>5383</td>\n    </tr>\n  </tbody>\n</table>\n</div>"
     },
     "metadata": {},
     "execution_count": 40
    }
   ],
   "source": [
    "users_per_samples = test_users_filtered.groupby('group').agg({'user_id': 'nunique'})\n",
    "users_per_samples"
   ]
  },
  {
   "cell_type": "markdown",
   "metadata": {},
   "source": [
    "In terms of number of participants in each group - the test is ok."
   ]
  },
  {
   "cell_type": "code",
   "execution_count": 41,
   "metadata": {},
   "outputs": [
    {
     "output_type": "execute_result",
     "data": {
      "text/plain": [
       "           user_id\n",
       "region            \n",
       "APAC             0\n",
       "CIS              0\n",
       "EU           10850\n",
       "N.America        0"
      ],
      "text/html": "<div>\n<style scoped>\n    .dataframe tbody tr th:only-of-type {\n        vertical-align: middle;\n    }\n\n    .dataframe tbody tr th {\n        vertical-align: top;\n    }\n\n    .dataframe thead th {\n        text-align: right;\n    }\n</style>\n<table border=\"1\" class=\"dataframe\">\n  <thead>\n    <tr style=\"text-align: right;\">\n      <th></th>\n      <th>user_id</th>\n    </tr>\n    <tr>\n      <th>region</th>\n      <th></th>\n    </tr>\n  </thead>\n  <tbody>\n    <tr>\n      <th>APAC</th>\n      <td>0</td>\n    </tr>\n    <tr>\n      <th>CIS</th>\n      <td>0</td>\n    </tr>\n    <tr>\n      <th>EU</th>\n      <td>10850</td>\n    </tr>\n    <tr>\n      <th>N.America</th>\n      <td>0</td>\n    </tr>\n  </tbody>\n</table>\n</div>"
     },
     "metadata": {},
     "execution_count": 41
    }
   ],
   "source": [
    "test_users_filtered.groupby('region').agg({'user_id': 'nunique'})\n"
   ]
  },
  {
   "cell_type": "markdown",
   "metadata": {},
   "source": [
    "All of the are from EU region."
   ]
  },
  {
   "cell_type": "markdown",
   "metadata": {},
   "source": [
    "In terms of the launching period - the test falls on the Christmas & New Year Promo campaign which can influence all the processes a lot. Unless the goal isn't to test the campaign results, this timesetting is very undesirible."
   ]
  },
  {
   "cell_type": "code",
   "execution_count": 42,
   "metadata": {},
   "outputs": [
    {
     "output_type": "execute_result",
     "data": {
      "text/plain": [
       "count                   81911\n",
       "unique                     17\n",
       "top       2020-12-14 00:00:00\n",
       "freq                     7924\n",
       "first     2020-12-07 00:00:00\n",
       "last      2020-12-23 00:00:00\n",
       "Name: first_date, dtype: object"
      ]
     },
     "metadata": {},
     "execution_count": 42
    }
   ],
   "source": [
    "test_users_filtered['first_date'].describe()"
   ]
  },
  {
   "cell_type": "markdown",
   "metadata": {},
   "source": [
    "As wee see the recruitment didn't stop on the 21th of December - we have users who's first activity was on the 23th of December."
   ]
  },
  {
   "cell_type": "markdown",
   "metadata": {},
   "source": [
    "## Evaluate the A/B test results: <a id='step4'></a>"
   ]
  },
  {
   "cell_type": "markdown",
   "metadata": {},
   "source": [
    "**What can you say about the A/B test results?**"
   ]
  },
  {
   "cell_type": "markdown",
   "metadata": {},
   "source": [
    "We will check whether the introduction of the new interface had in impact on all the stages of the funnel: login, product page visiting, cart page and purchase. We can not check the conversion of the 7th and 14th day, because there are users who are only few days after day signed up, but we will see the proportions in the groups with the data we have by now. <br>\n",
    "Also we should take into account that the test was run during the Christmas and New Year marketing campaign which can totally srew the effect of the new interface introduction. "
   ]
  },
  {
   "cell_type": "markdown",
   "metadata": {},
   "source": [
    "**Use a z-test to check the statistical difference between the proportions.**"
   ]
  },
  {
   "cell_type": "code",
   "execution_count": 43,
   "metadata": {},
   "outputs": [
    {
     "output_type": "execute_result",
     "data": {
      "text/plain": [
       "group    event_name     A     B\n",
       "0      product_cart  1756  1812\n",
       "1      product_page  3639  3527\n",
       "2          purchase  1931  1782\n",
       "3             login  5466  5383"
      ],
      "text/html": "<div>\n<style scoped>\n    .dataframe tbody tr th:only-of-type {\n        vertical-align: middle;\n    }\n\n    .dataframe tbody tr th {\n        vertical-align: top;\n    }\n\n    .dataframe thead th {\n        text-align: right;\n    }\n</style>\n<table border=\"1\" class=\"dataframe\">\n  <thead>\n    <tr style=\"text-align: right;\">\n      <th>group</th>\n      <th>event_name</th>\n      <th>A</th>\n      <th>B</th>\n    </tr>\n  </thead>\n  <tbody>\n    <tr>\n      <th>0</th>\n      <td>product_cart</td>\n      <td>1756</td>\n      <td>1812</td>\n    </tr>\n    <tr>\n      <th>1</th>\n      <td>product_page</td>\n      <td>3639</td>\n      <td>3527</td>\n    </tr>\n    <tr>\n      <th>2</th>\n      <td>purchase</td>\n      <td>1931</td>\n      <td>1782</td>\n    </tr>\n    <tr>\n      <th>3</th>\n      <td>login</td>\n      <td>5466</td>\n      <td>5383</td>\n    </tr>\n  </tbody>\n</table>\n</div>"
     },
     "metadata": {},
     "execution_count": 43
    }
   ],
   "source": [
    "pivot_groups = test_users_filtered.pivot_table(index='event_name', values='user_id', columns='group', aggfunc=lambda x: x.nunique()).reset_index()\n",
    "pivot_groups\n",
    "#test_users.info()"
   ]
  },
  {
   "cell_type": "markdown",
   "metadata": {},
   "source": [
    "Hypothesis: <br>\n",
    "**H0:** there's not a statistically significant difference between the groups A and B. <br>\n",
    "**H1:** there is a significant difference between the proportions in groups A and B. <br>\n",
    "<br>\n",
    "A critical statistical significance level will be set at 0.05 as it is a commonly accepted one in the industry - alpha=0.05. <br>"
   ]
  },
  {
   "cell_type": "code",
   "execution_count": 44,
   "metadata": {},
   "outputs": [],
   "source": [
    "def check_hypothesis(group1, group2, event, alpha=0.05):\n",
    "    \n",
    "   \n",
    "    trials1 = test_users[test_users.group==group1]['user_id'].nunique()\n",
    "    successes1 = pivot_groups[pivot_groups.event_name==event][group1].iloc[0]\n",
    "    \n",
    "    trials2=test_users[test_users.group==group2]['user_id'].nunique()\n",
    "    successes2=pivot_groups[pivot_groups.event_name==event][group2].iloc[0]\n",
    "\n",
    "    p1 = successes1/trials1\n",
    "\n",
    "    p2 = successes2/trials2\n",
    "\n",
    "    p_combined = (successes1 + successes2) / (trials1 + trials2)\n",
    "  \n",
    "    difference = p1 - p2\n",
    "    \n",
    "    z_value = difference / math.sqrt(p_combined * (1 - p_combined) * (1/trials1 + 1/trials2))\n",
    "   \n",
    "    distr = st.norm(0, 1) \n",
    "\n",
    "    p_value = (1 - distr.cdf(abs(z_value))) * 2\n",
    "\n",
    "    print('p-value: ', p_value)\n",
    "    \n",
    "\n",
    "    if (p_value < alpha):\n",
    "        print(\"Rejecting the null hypothesis: there is a significant difference between the proportions for\", event, 'and groups:',group1, \",\", group2)\n",
    "    else:\n",
    "        print(\"Failed to reject the null hypothesis: there is no reason to consider the proportions different for\", event,'and groups:',group1, \",\", group2)\n",
    "    print('\\n')"
   ]
  },
  {
   "cell_type": "code",
   "execution_count": 45,
   "metadata": {},
   "outputs": [
    {
     "output_type": "stream",
     "name": "stdout",
     "text": [
      "p-value:  0.08746918913258162\nFailed to reject the null hypothesis: there is no reason to consider the proportions different for product_cart and groups: A , B\n\n\np-value:  0.2518419682737163\nFailed to reject the null hypothesis: there is no reason to consider the proportions different for product_page and groups: A , B\n\n\np-value:  0.014959088807690257\nRejecting the null hypothesis: there is a significant difference between the proportions for purchase and groups: A , B\n\n\np-value:  0.32103485047255065\nFailed to reject the null hypothesis: there is no reason to consider the proportions different for login and groups: A , B\n\n\n"
     ]
    }
   ],
   "source": [
    "for i in pivot_groups.event_name.unique():\n",
    "    check_hypothesis(\"A\",\"B\", i, alpha=0.05)"
   ]
  },
  {
   "cell_type": "markdown",
   "metadata": {},
   "source": [
    "The z-test has shown that there is a statistical significance between the proportion in groups A and B on the stage of purchasing."
   ]
  },
  {
   "cell_type": "markdown",
   "metadata": {},
   "source": [
    "## Describe your conclusions regarding the EDA stage and the A/B test results. <a id='conclusion'></a>"
   ]
  },
  {
   "cell_type": "markdown",
   "metadata": {},
   "source": [
    "First of all we had to deal with the incorrect technical task and description left to us by the former colleague. We found out that that there are 2 tests run simultaneously: recommendation system and new interface introduction. The correct one for us to evaluate was new interface introduction in EU region. <br>\n",
    "We couldn't evaluate the conversion on the 14th day because there were users who signed up on the 23rd of December and haven't reached the 14th day yet. The 30th of December was considered as not representative as it has 10 to 20 times less observations than other days of test conducting. <br>\n",
    "The number of participants was almost 11000 people instead of 6000 expected. All of them were from the EU region. <br>\n",
    "The EDA stage of our analysis has shown that there were almost 5% of the users who signed up but never performed any action on the site. <br>\n",
    "The study of the funnel has shown that there are more purchases than product cart placement stage, which can be explained by the existence of the quick purchase button - excluding putting an item to the cart. <br>\n",
    "The number of events was growing, the peak of the actions taken by the users was on the 21st of December and then went down. <br>\n",
    "The main issue with this A/B test is the timing. It falls exactly on the Christmas and New Year Promo Campaign. We will never be able to distinguish betweeen the influence of the campaign and the new interface features on the users' behavior.<br>\n",
    "The A/B test has shown that there is a significant difference in proportion of users who made a purchase in the test and control groups. But this result actually says us not much about the interface because of the wrong timing. We wll have to conduct it again during the regular days."
   ]
  },
  {
   "cell_type": "code",
   "execution_count": null,
   "metadata": {},
   "outputs": [],
   "source": []
  }
 ],
 "metadata": {
  "kernelspec": {
   "display_name": "Python 3",
   "language": "python",
   "name": "python3"
  },
  "language_info": {
   "codemirror_mode": {
    "name": "ipython",
    "version": 3
   },
   "file_extension": ".py",
   "mimetype": "text/x-python",
   "name": "python",
   "nbconvert_exporter": "python",
   "pygments_lexer": "ipython3",
   "version": "3.7.6-final"
  }
 },
 "nbformat": 4,
 "nbformat_minor": 2
}